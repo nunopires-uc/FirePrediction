{
 "cells": [
  {
   "cell_type": "code",
   "execution_count": 1,
   "metadata": {},
   "outputs": [],
   "source": [
    "import os\n",
    "folder = 'Dataset'\n",
    "for filename in os.listdir(folder):\n",
    "    source = os.path.join(folder, filename)\n",
    "    dest = os.path.join(folder, filename.replace('_checkDistrict', ''))\n",
    "    os.rename(source, dest)"
   ]
  },
  {
   "cell_type": "code",
   "execution_count": 5,
   "metadata": {},
   "outputs": [
    {
     "name": "stdout",
     "output_type": "stream",
     "text": [
      "['2001.csv', '2002.csv', '2003.csv', '2004.csv', '2005.csv', '2006.csv', '2007.csv', '2008.csv', '2009.csv', '2010.csv', '2011.csv', '2012.csv', '2013.csv', '2014.csv', '2015.csv', '2016.csv', '2017.csv', '2018.csv', '2019.csv', '2020.csv', '2021.csv', '2022.csv', '2023.csv']\n"
     ]
    }
   ],
   "source": [
    "import pandas as pd\n",
    "\n",
    "folder_path = 'Dataset'\n",
    "files = sorted([f for f in os.listdir(folder_path) if f.endswith('.csv')])\n",
    "print(files)\n",
    "\n",
    "df_list = [pd.read_csv(os.path.join(folder_path, file)) for file in files]\n",
    "\n",
    "combined_df = pd.concat(df_list, ignore_index=True)\n",
    "\n",
    "combined_df.to_csv('Dataset/AllYearsCombined.csv', index=False)"
   ]
  },
  {
   "cell_type": "code",
   "execution_count": 1,
   "metadata": {},
   "outputs": [
    {
     "name": "stdout",
     "output_type": "stream",
     "text": [
      "   Unnamed: 0 DISTRITO       TIPO   ANO  AREAPOV  AREAMATO  AREAAGRIC  \\\n",
      "0           0     Faro  Florestal  2016      0.0    2.0000       0.00   \n",
      "1           1     Faro  Florestal  2016      0.0    0.0010       0.00   \n",
      "2           2     Faro  Florestal  2016      0.0    0.5178       0.00   \n",
      "3           3     Faro  Florestal  2016      0.0    0.2427       0.00   \n",
      "4           4     Faro   Agrícola  2016      0.0    0.0000       0.03   \n",
      "\n",
      "   AREATOTAL  REACENDIMENTOS  QUEIMADA  ...  AREASFICHEIROS_GTF  \\\n",
      "0     2.0000               0         0  ...                 NaN   \n",
      "1     0.0010               0         0  ...                 NaN   \n",
      "2     0.5178               0         0  ...                 NaN   \n",
      "3     0.2427               0         0  ...                 NaN   \n",
      "4     0.0300               0         0  ...                 NaN   \n",
      "\n",
      "   FICHEIROIMAGEM_GNR  AREASFICHEIROSHP_GTF  AREASFICHEIROSHPXML_GTF  \\\n",
      "0                 NaN                   NaN                      NaN   \n",
      "1                 NaN                   NaN                      NaN   \n",
      "2                 NaN                   NaN                      NaN   \n",
      "3                 NaN                   NaN                      NaN   \n",
      "4                 NaN                   NaN                      NaN   \n",
      "\n",
      "   AREASFICHEIRODBF_GTF  AREASFICHEIROPRJ_GTF AREASFICHEIROSBN_GTF  \\\n",
      "0                   NaN                   NaN                  NaN   \n",
      "1                   NaN                   NaN                  NaN   \n",
      "2                   NaN                   NaN                  NaN   \n",
      "3                   NaN                   NaN                  NaN   \n",
      "4                   NaN                   NaN                  NaN   \n",
      "\n",
      "  AREASFICHEIROSBX_GTF AREASFICHEIROSHX_GTF AREASFICHEIROZIP_SAA  \n",
      "0                  NaN                  NaN                  NaN  \n",
      "1                  NaN                  NaN                  NaN  \n",
      "2                  NaN                  NaN                  NaN  \n",
      "3                  NaN                  NaN                  NaN  \n",
      "4                  NaN                  NaN                  NaN  \n",
      "\n",
      "[5 rows x 77 columns]\n",
      "['Negligente' 'Desconhecida' 'Intencional' 'Reacendimento' nan 'Natural']\n"
     ]
    }
   ],
   "source": [
    "import pandas as pd\n",
    "\n",
    "df = pd.read_csv(f'RawData/Historical_FiresRAW/rawFireList/icnf_2016.csv')\n",
    "print(df.head())\n",
    "\n",
    "unique_values = df['TIPOCAUSA'].unique()\n",
    "print(unique_values)"
   ]
  }
 ],
 "metadata": {
  "kernelspec": {
   "display_name": "Python 3",
   "language": "python",
   "name": "python3"
  },
  "language_info": {
   "codemirror_mode": {
    "name": "ipython",
    "version": 3
   },
   "file_extension": ".py",
   "mimetype": "text/x-python",
   "name": "python",
   "nbconvert_exporter": "python",
   "pygments_lexer": "ipython3",
   "version": "3.10.12"
  }
 },
 "nbformat": 4,
 "nbformat_minor": 2
}
