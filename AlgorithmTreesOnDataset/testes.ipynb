{
 "cells": [
  {
   "cell_type": "code",
   "execution_count": 2,
   "metadata": {},
   "outputs": [
    {
     "name": "stdout",
     "output_type": "stream",
     "text": [
      "Empty DataFrame\n",
      "Columns: [year, date, district, municipality, parish, local, latitude, longitude, cause, elevation, hourly.time, hourly.temperature_2m, hourly.relative_humidity_2m, hourly.dew_point_2m, hourly.apparent_temperature, hourly.precipitation, hourly.rain, hourly.snowfall, hourly.snow_depth, hourly.weather_code, hourly.pressure_msl, hourly.surface_pressure, hourly.cloud_cover, hourly.cloud_cover_low, hourly.cloud_cover_mid, hourly.cloud_cover_high, hourly.et0_fao_evapotranspiration, hourly.vapour_pressure_deficit, hourly.wind_speed_10m, hourly.wind_speed_100m, hourly.wind_direction_10m, hourly.wind_direction_100m, hourly.wind_gusts_10m, hourly.soil_temperature_0_to_7cm, hourly.soil_temperature_7_to_28cm, hourly.soil_temperature_28_to_100cm, hourly.soil_temperature_100_to_255cm, hourly.soil_moisture_0_to_7cm, hourly.soil_moisture_7_to_28cm, hourly.soil_moisture_28_to_100cm, hourly.soil_moisture_100_to_255cm, hourly.is_day, hourly.sunshine_duration, hourly.shortwave_radiation_instant, hourly.direct_radiation_instant, hourly.diffuse_radiation_instant, hourly.direct_normal_irradiance_instant, hourly.global_tilted_irradiance_instant, hourly.terrestrial_radiation_instant, hourly.shortwave_radiation, hourly.direct_radiation, hourly.diffuse_radiation, hourly.direct_normal_irradiance, hourly.global_tilted_irradiance, hourly.terrestrial_radiation, scientificNames]\n",
      "Index: []\n",
      "\n",
      "[0 rows x 56 columns]\n"
     ]
    }
   ],
   "source": [
    "import pandas as pd\n",
    "import math\n",
    "import numpy as np\n",
    "import concurrent.futures\n",
    "\n",
    "\n",
    "_year = 2023\n",
    "\n",
    "dfFires = pd.read_csv(f\"DatasetWTrees/PreviousVersions/{_year}_checklocality2.csv\")\n",
    "\n",
    "dfFires['scientificNames'] = dfFires['scientificNames'].fillna('')\n",
    "\n",
    "dfFires.to_csv(f\"DatasetWTrees/PreviousVersions/{_year}_namissing.csv\", index=False)\n",
    "\n",
    "na_rows = dfFires[dfFires['scientificNames'].isna()]\n",
    "\n",
    "print(na_rows)"
   ]
  },
  {
   "cell_type": "code",
   "execution_count": null,
   "metadata": {},
   "outputs": [],
   "source": [
    "for _year in range(2001, 2023):\n",
    "    dfFires = pd.read_csv(f\"DatasetWTrees/PreviousVersions/{_year}_checklocality2.csv\")\n",
    "\n",
    "    dfFires['scientificNames'] = dfFires['scientificNames'].fillna('')\n",
    "\n",
    "    dfFires.to_csv(f\"DatasetWTrees/PreviousVersions/{_year}_namissing.csv\", index=False)\n",
    "\n",
    "    na_rows = dfFires[dfFires['scientificNames'].isna()]\n",
    "\n",
    "    print(na_rows)\n"
   ]
  }
 ],
 "metadata": {
  "kernelspec": {
   "display_name": "Python 3",
   "language": "python",
   "name": "python3"
  },
  "language_info": {
   "codemirror_mode": {
    "name": "ipython",
    "version": 3
   },
   "file_extension": ".py",
   "mimetype": "text/x-python",
   "name": "python",
   "nbconvert_exporter": "python",
   "pygments_lexer": "ipython3",
   "version": "3.10.12"
  }
 },
 "nbformat": 4,
 "nbformat_minor": 2
}
