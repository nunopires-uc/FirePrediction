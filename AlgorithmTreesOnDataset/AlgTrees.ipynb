{
 "cells": [
  {
   "cell_type": "code",
   "execution_count": null,
   "metadata": {},
   "outputs": [],
   "source": [
    "import pandas as pd\n",
    "import math"
   ]
  },
  {
   "cell_type": "code",
   "execution_count": null,
   "metadata": {},
   "outputs": [],
   "source": [
    "# Remove columns that are not needed\n",
    "dftrees = pd.read_csv('TreesPortugueseTerritory.csv', sep='\\t', usecols=['scientificName', 'locality', 'stateProvince','occurrenceStatus','individualCount','decimalLatitude', 'decimalLongitude', 'coordinateUncertaintyInMeters','coordinatePrecision','elevation','elevationAccuracy','depth','depthAccuracy'])\n",
    "dftrees.to_csv('TreesPortugueseTerritoryDropped.csv', index=False)"
   ]
  },
  {
   "cell_type": "code",
   "execution_count": null,
   "metadata": {},
   "outputs": [],
   "source": [
    "dfTreesDRP = pd.read_csv('TreesPortugueseTerritoryDropped.csv')\n",
    "print(dfTreesDRP['occurrenceStatus'].unique())\n",
    "print(dfTreesDRP['individualCount'].unique())\n",
    "print(dfTreesDRP['coordinatePrecision'].unique())\n",
    "print(dfTreesDRP['elevation'].unique())"
   ]
  },
  {
   "cell_type": "code",
   "execution_count": null,
   "metadata": {},
   "outputs": [],
   "source": [
    "dfTreesDRP['stateProvince'] = dfTreesDRP['stateProvince'].replace('Bragança District', 'Bragança')\n",
    "dfTreesDRP['locality'] = dfTreesDRP['locality'].replace('Ovadas e Panchora', 'Ovadas e Panchorra')\n",
    "\n",
    "dfTreesDRP.to_csv('TreesPortugueseTerritoryDropped.csv', index=False)"
   ]
  },
  {
   "cell_type": "code",
   "execution_count": 68,
   "metadata": {},
   "outputs": [],
   "source": [
    "import math\n",
    "\n",
    "def DistanceTwoPoints(lat1, lon1, lat2, lon2):\n",
    "    R = 6371e3  # Radius of the Earth in meters\n",
    "    phi1 = math.radians(lat1)\n",
    "    phi2 = math.radians(lat2)\n",
    "    delta_phi = math.radians(lat2 - lat1)\n",
    "    delta_lambda = math.radians(lon2 - lon1)\n",
    "\n",
    "    a = math.sin(delta_phi / 2)**2 + math.cos(phi1) * math.cos(phi2) * math.sin(delta_lambda / 2)**2\n",
    "    c = 2 * math.atan2(math.sqrt(a), math.sqrt(1 - a))\n",
    "\n",
    "    return R * c  # Distance in meters\n",
    "\n",
    "\n",
    "def check_locality(row):\n",
    "    if row['scientificNames'] != '':\n",
    "        return row['scientificNames']\n",
    "\n",
    "    parish = str(row['parish']).lower()\n",
    "    district = str(row['district']).lower()\n",
    "    unique_names = dfTreesDRP[(dfTreesDRP['locality'].str.lower().contains(parish, na=False)) & \n",
    "                              (dfTreesDRP['stateProvince'] == district)]['scientificName'].unique()\n",
    "    return '; '.join(unique_names)\n",
    "\n",
    "\n",
    "def check_locality2(row):\n",
    "    if row['scientificNames'] != '':\n",
    "        return row['scientificNames']\n",
    "    \n",
    "    concelho = str(row['municipality']).lower()\n",
    "    district = str(row['district']).lower()\n",
    "    unique_names = dfTreesDRP[(dfTreesDRP['locality'].str.lower().contains(concelho, na=False)) & \n",
    "                              (dfTreesDRP['stateProvince'].str.lower() == district)]['scientificName'].unique()\n",
    "    return '; '.join(unique_names)\n",
    "\n",
    "\n",
    "\n",
    "def check_district(row, precision=120):\n",
    "    if row['scientificNames'] != '':\n",
    "        return row['scientificNames']\n",
    "    \n",
    "    district = str(row['district']).lower()\n",
    "    lat1 = row['latitude']\n",
    "    lon1 = row['longitude']\n",
    "    \n",
    "    # Filter dfTreesDRP based on 'locality' and 'stateProvince'\n",
    "    filtered_df = dfTreesDRP[(dfTreesDRP['stateProvince'].str.lower() == district)]\n",
    "    \n",
    "    # Calculate the distance for each row in the filtered DataFrame\n",
    "    filtered_df['distance'] = filtered_df.apply(lambda x: DistanceTwoPoints(lat1, lon1, x['decimalLatitude'], x['decimalLongitude']), axis=1)\n",
    "    \n",
    "    # Filter the DataFrame based on the distance\n",
    "    close_points_df = filtered_df[filtered_df['distance'] < precision]\n",
    "    \n",
    "    # Get the unique 'scientificName' values\n",
    "    unique_names = close_points_df['scientificName'].unique()\n",
    "    \n",
    "    return '; '.join(unique_names)\n",
    "\n",
    "\n",
    "\n",
    "\n",
    "def check_districtCoordSingular(row, precision=500):\n",
    "    if row['scientificNames'] != '':\n",
    "        return [(row['scientificNames'], 0)]\n",
    "    \n",
    "    district = str(row['district']).lower()\n",
    "    lat1 = row['latitude']\n",
    "    lon1 = row['longitude']\n",
    "    \n",
    "    # Filter dfTreesDRP based on 'locality' and 'stateProvince'\n",
    "    filtered_df = dfTreesDRP[(dfTreesDRP['stateProvince'].str.lower() == district)]\n",
    "    \n",
    "    # Calculate the distance for each row in the filtered DataFrame\n",
    "    filtered_df['distance'] = filtered_df.apply(lambda x: DistanceTwoPoints(lat1, lon1, x['decimalLatitude'], x['decimalLongitude']), axis=1)\n",
    "    \n",
    "    # Filter the DataFrame based on the distance\n",
    "    close_points_df = filtered_df[filtered_df['distance'] < precision]\n",
    "    \n",
    "    # If there are no close points, return an empty list\n",
    "    if close_points_df.empty:\n",
    "        return []\n",
    "    \n",
    "    # Sort the DataFrame by the 'distance' column\n",
    "    close_points_df = close_points_df.sort_values('distance')\n",
    "    \n",
    "    # Get the 'scientificName' and 'distance' of the 5 closest points\n",
    "    closest_points = close_points_df.iloc[:5][['scientificName', 'distance']].apply(tuple, axis=1).tolist()\n",
    "    \n",
    "    return closest_points\n",
    "\n",
    "\n",
    "def check_districtCoord(row, precision=500):\n",
    "    if row['scientificNames'] != '':\n",
    "        return row['scientificNames']\n",
    "    \n",
    "    district = str(row['district']).lower()\n",
    "    lat1 = row['latitude']\n",
    "    lon1 = row['longitude']\n",
    "    \n",
    "    # Filter dfTreesDRP based on 'locality' and 'stateProvince'\n",
    "    filtered_df = dfTreesDRP[(dfTreesDRP['stateProvince'].str.lower() == district)]\n",
    "    \n",
    "    # Calculate the distance for each row in the filtered DataFrame\n",
    "    filtered_df['distance'] = filtered_df.apply(lambda x: DistanceTwoPoints(lat1, lon1, x['decimalLatitude'], x['decimalLongitude']), axis=1)\n",
    "    \n",
    "    # Filter the DataFrame based on the distance\n",
    "    close_points_df = filtered_df[filtered_df['distance'] < precision]\n",
    "    \n",
    "    # If there are no close points, return an empty string\n",
    "    if close_points_df.empty:\n",
    "        return ''\n",
    "    \n",
    "    # Sort the DataFrame by the 'distance' column\n",
    "    close_points_df = close_points_df.sort_values('distance')\n",
    "    \n",
    "    # Get the unique 'scientificName' values of the 5 closest points\n",
    "    unique_names = close_points_df.iloc[:5]['scientificName'].unique()\n",
    "    \n",
    "    return '; '.join(unique_names)\n"
   ]
  },
  {
   "cell_type": "code",
   "execution_count": null,
   "metadata": {},
   "outputs": [],
   "source": [
    "DistanceTwoPoints(51.5007, 0.1246, 40.6892, 74.0445)"
   ]
  },
  {
   "cell_type": "code",
   "execution_count": null,
   "metadata": {},
   "outputs": [],
   "source": [
    "#Faro,Olhão,Moncarapacho\n",
    "\n",
    "original_lat, original_lon = 37.0787222226461, -7.8068333334393 \n",
    "\n",
    "#decimalLatitude,decimalLongitude\n",
    "\n",
    "dfTreesDRP['distance'] = dfTreesDRP.apply(lambda row: DistanceTwoPoints(original_lat, original_lon, row['decimalLatitude'], row['decimalLongitude']), axis=1)\n",
    "\n",
    "dfNearby = dfTreesDRP[dfTreesDRP['distance'] <= 500]"
   ]
  },
  {
   "cell_type": "code",
   "execution_count": null,
   "metadata": {},
   "outputs": [],
   "source": [
    "print(dfNearby['scientificName'].unique())\n",
    "print(dfNearby.head())\n",
    "#search for locality"
   ]
  },
  {
   "cell_type": "code",
   "execution_count": 45,
   "metadata": {},
   "outputs": [
    {
     "name": "stdout",
     "output_type": "stream",
     "text": [
      "2499\n"
     ]
    },
    {
     "name": "stderr",
     "output_type": "stream",
     "text": [
      "/tmp/ipykernel_15836/3800331196.py:19: UserWarning: This pattern is interpreted as a regular expression, and has match groups. To actually get the groups, use str.extract.\n",
      "  unique_names = dfTreesDRP[(dfTreesDRP['locality'].str.contains(parish, na=False)) &\n"
     ]
    }
   ],
   "source": [
    "_year = 2023\n",
    "dfFires = pd.read_csv(f\"Dataset/b{_year}.csv\")\n",
    "print(len(dfFires))\n",
    "\n",
    "#dfFires['scientificNames'] = dfFires['parish'].apply(check_locality)\n",
    "\n",
    "#print(dfFires)\n",
    "\n",
    "dfFires['scientificNames'] = dfFires.apply(check_locality, axis=1)\n",
    "\n",
    "dfFires.to_csv(f\"v2ParishTreeSpeciesb{_year}.csv\", index=False)\n",
    "\n",
    "\n"
   ]
  },
  {
   "cell_type": "code",
   "execution_count": 47,
   "metadata": {},
   "outputs": [
    {
     "name": "stdout",
     "output_type": "stream",
     "text": [
      "Tracheophyta; Pinus pinaster Aiton; Vitis vinifera L.; Eucalyptus L'Hér.; Castanea sativa Mill.; Magnoliopsida\n"
     ]
    }
   ],
   "source": [
    "secrow = dfFires.iloc[2]\n",
    "print(secrow['scientificNames'])"
   ]
  },
  {
   "cell_type": "code",
   "execution_count": 50,
   "metadata": {},
   "outputs": [
    {
     "name": "stdout",
     "output_type": "stream",
     "text": [
      "1946\n",
      "553\n"
     ]
    }
   ],
   "source": [
    "empty_count = (dfFires['scientificNames'] == '').sum()\n",
    "print(empty_count)\n",
    "\n",
    "non_empty_count = (dfFires['scientificNames'] != '').sum()\n",
    "print(non_empty_count)"
   ]
  },
  {
   "cell_type": "code",
   "execution_count": 53,
   "metadata": {},
   "outputs": [
    {
     "name": "stdout",
     "output_type": "stream",
     "text": [
      "   year        date district        municipality          parish  \\\n",
      "0  2023  2023-01-21     Faro        Castro Marim        Odeleite   \n",
      "1  2023  2023-01-27    Porto             Lousada          Casais   \n",
      "2  2023  2023-01-27    Porto  Marco de Canaveses           Sande   \n",
      "3  2023  2023-01-28   Aveiro              Anadia           Moita   \n",
      "4  2023  2023-01-29     Beja          Vidigueira  Vila de Frades   \n",
      "\n",
      "                  local   latitude  longitude         cause  elevation  ...  \\\n",
      "0   IC27 (EN122) Km 106  37.320278  -7.486111  Desconhecida       83.0  ...   \n",
      "1    Lameirão (Covilhã)  41.267195  -8.315838  Desconhecida      230.0  ...   \n",
      "2     Lg. Mexide (Agro)  41.115955  -8.185733  Desconhecida      405.0  ...   \n",
      "3             Junqueira  40.432500  -8.367778  Desconhecida      224.0  ...   \n",
      "4  Quinta das Choupanas  38.208889  -7.817500  Desconhecida      193.0  ...   \n",
      "\n",
      "  hourly.direct_normal_irradiance_instant  \\\n",
      "0                                   571.7   \n",
      "1                                   841.7   \n",
      "2                                     0.0   \n",
      "3                                   573.9   \n",
      "4                                   893.4   \n",
      "\n",
      "   hourly.global_tilted_irradiance_instant  \\\n",
      "0                                    448.4   \n",
      "1                                    491.4   \n",
      "2                                      0.0   \n",
      "3                                     99.3   \n",
      "4                                    540.3   \n",
      "\n",
      "   hourly.terrestrial_radiation_instant  hourly.shortwave_radiation  \\\n",
      "0                                 761.8                       448.0   \n",
      "1                                 690.8                       465.0   \n",
      "2                                   0.0                         0.0   \n",
      "3                                 171.6                       165.0   \n",
      "4                                 729.1                       565.0   \n",
      "\n",
      "   hourly.direct_radiation  hourly.diffuse_radiation  \\\n",
      "0                    308.0                     140.0   \n",
      "1                    390.0                      75.0   \n",
      "2                      0.0                       0.0   \n",
      "3                    116.0                      49.0   \n",
      "4                    483.0                      82.0   \n",
      "\n",
      "   hourly.direct_normal_irradiance  hourly.global_tilted_irradiance  \\\n",
      "0                            571.7                            448.0   \n",
      "1                            841.7                            465.0   \n",
      "2                              0.0                              0.0   \n",
      "3                            573.9                            165.0   \n",
      "4                            893.4                            565.0   \n",
      "\n",
      "   hourly.terrestrial_radiation  \\\n",
      "0                         761.0   \n",
      "1                         653.7   \n",
      "2                           0.0   \n",
      "3                         285.1   \n",
      "4                         762.4   \n",
      "\n",
      "                                     scientificNames  \n",
      "0                                                     \n",
      "1                                                     \n",
      "2  Tracheophyta; Pinus pinaster Aiton; Vitis vini...  \n",
      "3                                                     \n",
      "4                                                     \n",
      "\n",
      "[5 rows x 56 columns]\n"
     ]
    }
   ],
   "source": [
    "print(dfFires.head())"
   ]
  },
  {
   "cell_type": "code",
   "execution_count": 55,
   "metadata": {},
   "outputs": [
    {
     "name": "stdout",
     "output_type": "stream",
     "text": [
      "1761\n",
      "738\n"
     ]
    }
   ],
   "source": [
    "dfFires['scientificNames'] = dfFires.apply(check_locality2, axis=1)\n",
    "empty_count = (dfFires['scientificNames'] == '').sum()\n",
    "print(empty_count)\n",
    "\n",
    "non_empty_count = (dfFires['scientificNames'] != '').sum()\n",
    "print(non_empty_count)"
   ]
  },
  {
   "cell_type": "code",
   "execution_count": 60,
   "metadata": {},
   "outputs": [
    {
     "name": "stdout",
     "output_type": "stream",
     "text": [
      "1481\n",
      "1018\n"
     ]
    }
   ],
   "source": [
    "dfFires['scientificNames'] = dfFires.apply(check_district, axis=1)\n",
    "empty_count = (dfFires['scientificNames'] == '').sum()\n",
    "print(empty_count)\n",
    "\n",
    "non_empty_count = (dfFires['scientificNames'] != '').sum()\n",
    "print(non_empty_count)"
   ]
  },
  {
   "cell_type": "code",
   "execution_count": 61,
   "metadata": {},
   "outputs": [],
   "source": [
    "dfFires.to_csv(f\"v3ParishTreeSpeciesb{_year}.csv\", index=False)"
   ]
  },
  {
   "cell_type": "code",
   "execution_count": 66,
   "metadata": {},
   "outputs": [
    {
     "name": "stdout",
     "output_type": "stream",
     "text": [
      "\n"
     ]
    },
    {
     "name": "stderr",
     "output_type": "stream",
     "text": [
      "/tmp/ipykernel_15836/412099988.py:76: SettingWithCopyWarning: \n",
      "A value is trying to be set on a copy of a slice from a DataFrame.\n",
      "Try using .loc[row_indexer,col_indexer] = value instead\n",
      "\n",
      "See the caveats in the documentation: https://pandas.pydata.org/pandas-docs/stable/user_guide/indexing.html#returning-a-view-versus-a-copy\n",
      "  filtered_df['distance'] = filtered_df.apply(lambda x: DistanceTwoPoints(lat1, lon1, x['decimalLatitude'], x['decimalLongitude']), axis=1)\n"
     ]
    },
    {
     "data": {
      "text/plain": [
       "[('Tracheophyta', 188.554610087213), ('Tracheophyta', 188.554610087213)]"
      ]
     },
     "execution_count": 66,
     "metadata": {},
     "output_type": "execute_result"
    }
   ],
   "source": [
    "vazio = dfFires.iloc[1]\n",
    "print(vazio['scientificNames'])\n",
    "check_districtCoordSingular(vazio, precision=300)"
   ]
  },
  {
   "cell_type": "code",
   "execution_count": 69,
   "metadata": {},
   "outputs": [],
   "source": [
    "dfFires['scientificNames'] = dfFires.apply(check_districtCoord, axis=1)\n",
    "empty_count = (dfFires['scientificNames'] == '').sum()\n",
    "print(empty_count)\n",
    "\n",
    "non_empty_count = (dfFires['scientificNames'] != '').sum()\n",
    "print(non_empty_count)"
   ]
  }
 ],
 "metadata": {
  "kernelspec": {
   "display_name": "Python 3",
   "language": "python",
   "name": "python3"
  },
  "language_info": {
   "codemirror_mode": {
    "name": "ipython",
    "version": 3
   },
   "file_extension": ".py",
   "mimetype": "text/x-python",
   "name": "python",
   "nbconvert_exporter": "python",
   "pygments_lexer": "ipython3",
   "version": "3.10.12"
  }
 },
 "nbformat": 4,
 "nbformat_minor": 2
}
