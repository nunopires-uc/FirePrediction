{
 "cells": [
  {
   "cell_type": "code",
   "execution_count": 104,
   "metadata": {},
   "outputs": [
    {
     "name": "stdout",
     "output_type": "stream",
     "text": [
      "/home/ori/Desktop/SPAWN\n"
     ]
    }
   ],
   "source": [
    "import pandas as pd\n",
    "import math\n",
    "import requests\n",
    "import os\n",
    "import ast\n",
    "\n",
    "current_dir = os.getcwd()\n",
    "root_dir = os.path.dirname(os.path.dirname(current_dir))\n",
    "print(root_dir)\n",
    "_RAWFIRESPATH = f\"{root_dir}/FirePrediction/RawData/Historical_FiresRAW\"\n",
    "\n",
    "dfTreesDRP = pd.read_csv('TreesPortugueseTerritoryDropped.csv')\n",
    "\n",
    "def DistanceTwoPoints(lat1, lon1, lat2, lon2):\n",
    "    R = 6371e3  # Radius of the Earth in meters\n",
    "    phi1 = math.radians(lat1)\n",
    "    phi2 = math.radians(lat2)\n",
    "    delta_phi = math.radians(lat2 - lat1)\n",
    "    delta_lambda = math.radians(lon2 - lon1)\n",
    "\n",
    "    a = math.sin(delta_phi / 2)**2 + math.cos(phi1) * math.cos(phi2) * math.sin(delta_lambda / 2)**2\n",
    "    c = 2 * math.atan2(math.sqrt(a), math.sqrt(1 - a))\n",
    "\n",
    "    return R * c  # Distance in meters\n",
    "\n",
    "def checkNearestPoint(row):    \n",
    "    district = str(row['district']).lower()\n",
    "    lat1 = row['latitude']\n",
    "    lon1 = row['longitude']\n",
    "\n",
    "    filtered_df = dfTreesDRP[dfTreesDRP['stateProvince'].str.lower() == district]\n",
    "\n",
    "    filtered_df['distance'] = filtered_df.apply(lambda x: DistanceTwoPoints(lat1, lon1, x['decimalLatitude'], x['decimalLongitude']), axis=1)\n",
    "\n",
    "    filtered_df = filtered_df.sort_values('distance')\n",
    "    \n",
    "    # Get the 'scientificName' and 'distance' of the nearest point\n",
    "    nearest_name = filtered_df.iloc[0]['scientificName']\n",
    "    nearest_distance = filtered_df.iloc[0]['distance']\n",
    "    \n",
    "    return nearest_name, nearest_distance\n",
    "\n",
    "def returnNearestTree(row):    \n",
    "    district = str(row['district']).lower()\n",
    "    lat1 = row['latitude']\n",
    "    lon1 = row['longitude']\n",
    "\n",
    "    filtered_df = dfTreesDRP[dfTreesDRP['stateProvince'].str.lower() == district].copy()\n",
    "    filtered_df['distance'] = filtered_df.apply(lambda x: DistanceTwoPoints(lat1, lon1, x['decimalLatitude'], x['decimalLongitude']), axis=1)\n",
    "\n",
    "    filtered_df = filtered_df.sort_values('distance')\n",
    "    \n",
    "    # Get the 'scientificName' and 'distance' of the nearest point\n",
    "    nearest_name = filtered_df.iloc[0]['scientificName']\n",
    "    nearest_distance = filtered_df.iloc[0]['distance']\n",
    "    \n",
    "    return nearest_name\n",
    "\n",
    "    \n",
    "def check_district(row, precision=1000):\n",
    "    district = str(row['district']).lower()\n",
    "    lat1 = row['latitude']\n",
    "    lon1 = row['longitude']\n",
    "    \n",
    "    # Filter dfTreesDRP based on 'locality' and 'stateProvince'\n",
    "    filtered_df = dfTreesDRP[(dfTreesDRP['stateProvince'].str.lower() == district)]\n",
    "    \n",
    "    # Calculate the distance for each row in the filtered DataFrame\n",
    "    filtered_df['distance'] = filtered_df.apply(lambda x: DistanceTwoPoints(lat1, lon1, x['decimalLatitude'], x['decimalLongitude']), axis=1)\n",
    "    \n",
    "    # Filter the DataFrame based on the distance\n",
    "    close_points_df = filtered_df[filtered_df['distance'] < precision]\n",
    "    \n",
    "    # Get the unique 'scientificName' values, excluding NaN values\n",
    "    unique_names = close_points_df['scientificName'].dropna().unique()\n",
    "\n",
    "    # If 'scientificNames' exists in row and is not NaN, append unique names if they don't exist\n",
    "    if 'scientificNames' in row and pd.notna(row['scientificNames']):\n",
    "        existing_names = str(row['scientificNames']).split('; ')\n",
    "        for name in unique_names:\n",
    "            if name not in existing_names:\n",
    "                existing_names.append(name)\n",
    "        return '; '.join(existing_names)\n",
    "    \n",
    "    # If 'scientificNames' is NaN, just return the unique names\n",
    "    return '; '.join(unique_names)"
   ]
  },
  {
   "cell_type": "code",
   "execution_count": 164,
   "metadata": {},
   "outputs": [
    {
     "name": "stdout",
     "output_type": "stream",
     "text": [
      "1\n",
      "14912\n",
      "0\n",
      "14913\n"
     ]
    }
   ],
   "source": [
    "_year = 2011\n",
    "_currentYearMissingValues = pd.read_csv(f'DatasetWTrees/PreviousVersions/{_year}_checkDistrict.csv')\n",
    "\n",
    "na_count = _currentYearMissingValues['scientificNames'].isna().sum()\n",
    "print(na_count)\n",
    "\n",
    "non_na_count = _currentYearMissingValues['scientificNames'].notna().sum()\n",
    "print(non_na_count)\n",
    "\n",
    "empty_count = (_currentYearMissingValues['scientificNames'] == '').sum()\n",
    "print(empty_count)\n",
    "\n",
    "non_empty_count = (_currentYearMissingValues['scientificNames'] != '').sum()\n",
    "print(non_empty_count)"
   ]
  },
  {
   "cell_type": "code",
   "execution_count": 165,
   "metadata": {},
   "outputs": [
    {
     "name": "stdout",
     "output_type": "stream",
     "text": [
      "      year        date district municipality parish          local   latitude  \\\n",
      "9143  2011  2011-09-07     Faro         Faro   Faro  Praia de Faro  37.003139   \n",
      "\n",
      "      longitude cause  elevation  ... hourly.direct_normal_irradiance_instant  \\\n",
      "9143   -7.98599    NC        0.0  ...                                   900.2   \n",
      "\n",
      "      hourly.global_tilted_irradiance_instant  \\\n",
      "9143                                    877.1   \n",
      "\n",
      "      hourly.terrestrial_radiation_instant  hourly.shortwave_radiation  \\\n",
      "9143                                1146.4                       854.0   \n",
      "\n",
      "      hourly.direct_radiation  hourly.diffuse_radiation  \\\n",
      "9143                    746.0                     108.0   \n",
      "\n",
      "      hourly.direct_normal_irradiance  hourly.global_tilted_irradiance  \\\n",
      "9143                            900.2                            854.0   \n",
      "\n",
      "      hourly.terrestrial_radiation  scientificNames  \n",
      "9143                        1116.2              NaN  \n",
      "\n",
      "[1 rows x 56 columns]\n"
     ]
    }
   ],
   "source": [
    "na_rows = _currentYearMissingValues[_currentYearMissingValues['scientificNames'].isna()]\n",
    "print(na_rows)"
   ]
  },
  {
   "cell_type": "code",
   "execution_count": 162,
   "metadata": {},
   "outputs": [
    {
     "name": "stdout",
     "output_type": "stream",
     "text": [
      "('Tracheophyta', 2104.6810002066204)\n"
     ]
    },
    {
     "name": "stderr",
     "output_type": "stream",
     "text": [
      "/tmp/ipykernel_4621/2893461563.py:33: SettingWithCopyWarning: \n",
      "A value is trying to be set on a copy of a slice from a DataFrame.\n",
      "Try using .loc[row_indexer,col_indexer] = value instead\n",
      "\n",
      "See the caveats in the documentation: https://pandas.pydata.org/pandas-docs/stable/user_guide/indexing.html#returning-a-view-versus-a-copy\n",
      "  filtered_df['distance'] = filtered_df.apply(lambda x: DistanceTwoPoints(lat1, lon1, x['decimalLatitude'], x['decimalLongitude']), axis=1)\n"
     ]
    }
   ],
   "source": [
    "print(checkNearestPoint(na_rows.iloc[0]))"
   ]
  },
  {
   "cell_type": "code",
   "execution_count": 126,
   "metadata": {},
   "outputs": [
    {
     "name": "stdout",
     "output_type": "stream",
     "text": [
      "Tracheophyta\n"
     ]
    }
   ],
   "source": [
    "na_rows.at[na_rows.index[2], 'scientificNames'] = returnNearestTree(na_rows.iloc[2])\n",
    "print(na_rows.at[na_rows.index[2], 'scientificNames'])\n",
    "na_rows.to_csv('/home/ori/Desktop/SPAWN/FirePrediction/AlgorithmTreesOnDataset/DatasetWTrees/PreviousVersions/2016_checkDistrict2v2.csv')"
   ]
  },
  {
   "cell_type": "code",
   "execution_count": 167,
   "metadata": {},
   "outputs": [],
   "source": [
    "_year = 2011\n",
    "#40.8998417, -7.4900188\n",
    "#38.6584269,-9.0193437\n",
    "#40.9603373,-8.5505025\n",
    "#41.4465162,-8.034185\n",
    "\n",
    "\n",
    "row = na_rows.iloc[0]\n",
    "\n",
    "LAT = 37.0064688\n",
    "LON = -8.0033546\n",
    "_DATA = row['date']\n",
    "HORA = row['hourly.time'].split(\"T\")[1]\n",
    "DIA = row['date'].split(\"-\")[2]\n",
    "MES = row['date'].split(\"-\")[1]\n",
    "\n",
    "_fileName = f\"{DIA}_{MES}_{HORA}_{LAT}_{LON}.csv.csv\"\n",
    "\n",
    "_fileName_radiation = f\"{DIA}_{MES}_{HORA}_{LAT}_{LON}_radiation.csv\"\n",
    "\n",
    "\n",
    "#url_rad = f\"https://archive-api.open-meteo.com/v1/archive?latitude={LAT}&longitude={LON}&start_date={_DATA}&end_date={_DATA}&hourly=shortwave_radiation,direct_radiation,diffuse_radiation,direct_normal_irradiance,global_tilted_irradiance,terrestrial_radiation,shortwave_radiation_instant,direct_radiation_instant,diffuse_radiation_instant,direct_normal_irradiance_instant,global_tilted_irradiance_instant,terrestrial_radiation_instant\"\n",
    "url = f\"https://archive-api.open-meteo.com/v1/archive?latitude={LAT}&longitude={LON}&start_date={_DATA}&end_date={_DATA}&hourly=temperature_2m,relative_humidity_2m,dew_point_2m,apparent_temperature,precipitation,rain,snowfall,snow_depth,weather_code,pressure_msl,surface_pressure,cloud_cover,cloud_cover_low,cloud_cover_mid,cloud_cover_high,et0_fao_evapotranspiration,vapour_pressure_deficit,wind_speed_10m,wind_speed_100m,wind_direction_10m,wind_direction_100m,wind_gusts_10m,soil_temperature_0_to_7cm,soil_temperature_7_to_28cm,soil_temperature_28_to_100cm,soil_temperature_100_to_255cm,soil_moisture_0_to_7cm,soil_moisture_7_to_28cm,soil_moisture_28_to_100cm,soil_moisture_100_to_255cm,is_day,sunshine_duration,shortwave_radiation_instant,direct_radiation_instant,diffuse_radiation_instant,direct_normal_irradiance_instant,global_tilted_irradiance_instant,terrestrial_radiation_instant&timezone=GMT\"\n",
    "response = requests.get(url)\n",
    "#response_rad = requests.get(url_rad)\n",
    "\n",
    "#print(response_rad.status_code)\n",
    "\n",
    "if((response.status_code == 200)):\n",
    "    data = response.json()\n",
    "    #data_rad = response_rad.json()\n",
    "\n",
    "    df = pd.json_normalize(data)\n",
    "    df.to_csv(f\"MissingValues/{_fileName}\", index=False)\n",
    "\n",
    "    #AlgorithmTreesOnDataset/MissingValues\n",
    "    #df_rad = pd.json_normalize(data_rad)\n",
    "    #df_rad.to_csv(f\"MissingValues/{_fileName_radiation}\", index=False)\n",
    "else:\n",
    "    print(\"Error row:\")"
   ]
  },
  {
   "cell_type": "code",
   "execution_count": 168,
   "metadata": {},
   "outputs": [
    {
     "name": "stdout",
     "output_type": "stream",
     "text": [
      "['latitude', 'longitude', 'generationtime_ms', 'utc_offset_seconds', 'timezone', 'timezone_abbreviation', 'elevation', 'hourly_units.time', 'hourly_units.temperature_2m', 'hourly_units.relative_humidity_2m', 'hourly_units.dew_point_2m', 'hourly_units.apparent_temperature', 'hourly_units.precipitation', 'hourly_units.rain', 'hourly_units.snowfall', 'hourly_units.snow_depth', 'hourly_units.weather_code', 'hourly_units.pressure_msl', 'hourly_units.surface_pressure', 'hourly_units.cloud_cover', 'hourly_units.cloud_cover_low', 'hourly_units.cloud_cover_mid', 'hourly_units.cloud_cover_high', 'hourly_units.et0_fao_evapotranspiration', 'hourly_units.vapour_pressure_deficit', 'hourly_units.wind_speed_10m', 'hourly_units.wind_speed_100m', 'hourly_units.wind_direction_10m', 'hourly_units.wind_direction_100m', 'hourly_units.wind_gusts_10m', 'hourly_units.soil_temperature_0_to_7cm', 'hourly_units.soil_temperature_7_to_28cm', 'hourly_units.soil_temperature_28_to_100cm', 'hourly_units.soil_temperature_100_to_255cm', 'hourly_units.soil_moisture_0_to_7cm', 'hourly_units.soil_moisture_7_to_28cm', 'hourly_units.soil_moisture_28_to_100cm', 'hourly_units.soil_moisture_100_to_255cm', 'hourly_units.is_day', 'hourly_units.sunshine_duration', 'hourly_units.shortwave_radiation_instant', 'hourly_units.direct_radiation_instant', 'hourly_units.diffuse_radiation_instant', 'hourly_units.direct_normal_irradiance_instant', 'hourly_units.global_tilted_irradiance_instant', 'hourly_units.terrestrial_radiation_instant', 'hourly.time', 'hourly.temperature_2m', 'hourly.relative_humidity_2m', 'hourly.dew_point_2m', 'hourly.apparent_temperature', 'hourly.precipitation', 'hourly.rain', 'hourly.snowfall', 'hourly.snow_depth', 'hourly.weather_code', 'hourly.pressure_msl', 'hourly.surface_pressure', 'hourly.cloud_cover', 'hourly.cloud_cover_low', 'hourly.cloud_cover_mid', 'hourly.cloud_cover_high', 'hourly.et0_fao_evapotranspiration', 'hourly.vapour_pressure_deficit', 'hourly.wind_speed_10m', 'hourly.wind_speed_100m', 'hourly.wind_direction_10m', 'hourly.wind_direction_100m', 'hourly.wind_gusts_10m', 'hourly.soil_temperature_0_to_7cm', 'hourly.soil_temperature_7_to_28cm', 'hourly.soil_temperature_28_to_100cm', 'hourly.soil_temperature_100_to_255cm', 'hourly.soil_moisture_0_to_7cm', 'hourly.soil_moisture_7_to_28cm', 'hourly.soil_moisture_28_to_100cm', 'hourly.soil_moisture_100_to_255cm', 'hourly.is_day', 'hourly.sunshine_duration', 'hourly.shortwave_radiation_instant', 'hourly.direct_radiation_instant', 'hourly.diffuse_radiation_instant', 'hourly.direct_normal_irradiance_instant', 'hourly.global_tilted_irradiance_instant', 'hourly.terrestrial_radiation_instant']\n",
      "['elevation', 'hourly.time', 'hourly.temperature_2m', 'hourly.relative_humidity_2m', 'hourly.dew_point_2m', 'hourly.apparent_temperature', 'hourly.precipitation', 'hourly.rain', 'hourly.snowfall', 'hourly.snow_depth', 'hourly.weather_code', 'hourly.pressure_msl', 'hourly.surface_pressure', 'hourly.cloud_cover', 'hourly.cloud_cover_low', 'hourly.cloud_cover_mid', 'hourly.cloud_cover_high', 'hourly.et0_fao_evapotranspiration', 'hourly.vapour_pressure_deficit', 'hourly.wind_speed_10m', 'hourly.wind_speed_100m', 'hourly.wind_direction_10m', 'hourly.wind_direction_100m', 'hourly.wind_gusts_10m', 'hourly.soil_temperature_0_to_7cm', 'hourly.soil_temperature_7_to_28cm', 'hourly.soil_temperature_28_to_100cm', 'hourly.soil_temperature_100_to_255cm', 'hourly.soil_moisture_0_to_7cm', 'hourly.soil_moisture_7_to_28cm', 'hourly.soil_moisture_28_to_100cm', 'hourly.soil_moisture_100_to_255cm', 'hourly.is_day', 'hourly.sunshine_duration', 'hourly.shortwave_radiation_instant', 'hourly.direct_radiation_instant', 'hourly.diffuse_radiation_instant', 'hourly.direct_normal_irradiance_instant', 'hourly.global_tilted_irradiance_instant', 'hourly.terrestrial_radiation_instant']\n",
      "   latitude  longitude  generationtime_ms  utc_offset_seconds timezone  \\\n",
      "0  37.71529  -8.783417           0.172973                   0      GMT   \n",
      "\n",
      "  timezone_abbreviation  elevation hourly_units.time  \\\n",
      "0                   GMT       50.0           iso8601   \n",
      "\n",
      "  hourly_units.shortwave_radiation hourly_units.direct_radiation  ...  \\\n",
      "0                             W/m²                          W/m²  ...   \n",
      "\n",
      "                            hourly.diffuse_radiation  \\\n",
      "0  [0.0, 0.0, 0.0, 0.0, 0.0, 0.0, 0.0, 0.0, 0.0, ...   \n",
      "\n",
      "                     hourly.direct_normal_irradiance  \\\n",
      "0  [0.0, 0.0, 0.0, 0.0, 0.0, 0.0, 0.0, 0.0, 0.0, ...   \n",
      "\n",
      "                     hourly.global_tilted_irradiance  \\\n",
      "0  [0.0, 0.0, 0.0, 0.0, 0.0, 0.0, 0.0, 0.0, 0.0, ...   \n",
      "\n",
      "                        hourly.terrestrial_radiation  \\\n",
      "0  [0.0, 0.0, 0.0, 0.0, 0.0, 0.0, 0.0, 0.0, 0.0, ...   \n",
      "\n",
      "                  hourly.shortwave_radiation_instant  \\\n",
      "0  [0.0, 0.0, 0.0, 0.0, 0.0, 0.0, 0.0, 0.0, 0.0, ...   \n",
      "\n",
      "                     hourly.direct_radiation_instant  \\\n",
      "0  [0.0, 0.0, 0.0, 0.0, 0.0, 0.0, 0.0, 0.0, 0.0, ...   \n",
      "\n",
      "                    hourly.diffuse_radiation_instant  \\\n",
      "0  [0.0, 0.0, 0.0, 0.0, 0.0, 0.0, 0.0, 0.0, 0.0, ...   \n",
      "\n",
      "             hourly.direct_normal_irradiance_instant  \\\n",
      "0  [0.0, 0.0, 0.0, 0.0, 0.0, 0.0, 0.0, 0.0, 0.0, ...   \n",
      "\n",
      "             hourly.global_tilted_irradiance_instant  \\\n",
      "0  [0.0, 0.0, 0.0, 0.0, 0.0, 0.0, 0.0, 0.0, 0.0, ...   \n",
      "\n",
      "                hourly.terrestrial_radiation_instant  \n",
      "0  [0.0, 0.0, 0.0, 0.0, 0.0, 0.0, 0.0, 0.0, 20.2,...  \n",
      "\n",
      "[1 rows x 33 columns]\n",
      "['latitude', 'longitude', 'generationtime_ms', 'utc_offset_seconds', 'timezone', 'timezone_abbreviation', 'elevation', 'hourly_units.time', 'hourly_units.shortwave_radiation', 'hourly_units.direct_radiation', 'hourly_units.diffuse_radiation', 'hourly_units.direct_normal_irradiance', 'hourly_units.global_tilted_irradiance', 'hourly_units.terrestrial_radiation', 'hourly_units.shortwave_radiation_instant', 'hourly_units.direct_radiation_instant', 'hourly_units.diffuse_radiation_instant', 'hourly_units.direct_normal_irradiance_instant', 'hourly_units.global_tilted_irradiance_instant', 'hourly_units.terrestrial_radiation_instant', 'hourly.time', 'hourly.shortwave_radiation', 'hourly.direct_radiation', 'hourly.diffuse_radiation', 'hourly.direct_normal_irradiance', 'hourly.global_tilted_irradiance', 'hourly.terrestrial_radiation', 'hourly.shortwave_radiation_instant', 'hourly.direct_radiation_instant', 'hourly.diffuse_radiation_instant', 'hourly.direct_normal_irradiance_instant', 'hourly.global_tilted_irradiance_instant', 'hourly.terrestrial_radiation_instant']\n",
      "['hourly.shortwave_radiation', 'hourly.direct_radiation', 'hourly.diffuse_radiation', 'hourly.direct_normal_irradiance', 'hourly.global_tilted_irradiance', 'hourly.terrestrial_radiation']\n",
      "set()\n"
     ]
    }
   ],
   "source": [
    "_year = 2005\n",
    "_file = f\"{_RAWFIRESPATH}/{_year}/2005-01-01_37.7388357_-8.750062888101874.csv\"\n",
    "df = pd.read_csv(f\"{_file}\")\n",
    "# print(df.head())\n",
    "column_names = df.columns.tolist()\n",
    "print(column_names)\n",
    "\n",
    "# Get all column names\n",
    "column_names = df.columns.tolist()\n",
    "\n",
    "# Find columns that contain 'hourly_units'\n",
    "columns_to_remove = [col for col in column_names if 'hourly_units' in col]\n",
    "columns_to_remove.extend(['latitude', 'longitude', 'generationtime_ms', 'utc_offset_seconds', 'timezone', 'timezone_abbreviation'])\n",
    "\n",
    "# Remove the columns\n",
    "df = df.drop(columns=columns_to_remove)\n",
    "\n",
    "# Print the updated column names\n",
    "updated_column_names = df.columns.tolist()\n",
    "print(updated_column_names)\n",
    "\n",
    "_file_radiation = _file.replace(\".csv\", \"_radiation.csv\")\n",
    "df = pd.read_csv(f\"{_file_radiation}\")\n",
    "print(df.head())\n",
    "\n",
    "df = pd.read_csv(f\"{_file_radiation}\")\n",
    "# print(df.head())\n",
    "column_names = df.columns.tolist()\n",
    "print(column_names)\n",
    "\n",
    "# Get all column names\n",
    "column_names = df.columns.tolist()\n",
    "\n",
    "# Find columns that contain 'hourly_units'\n",
    "columns_to_remove = [col for col in column_names if 'hourly_units' in col]\n",
    "columns_to_remove.extend(['latitude', 'longitude', 'generationtime_ms', 'utc_offset_seconds', 'timezone', 'timezone_abbreviation', 'elevation', 'hourly.time', 'hourly.global_tilted_irradiance_instant', 'hourly.diffuse_radiation_instant', 'hourly.terrestrial_radiation_instant', 'hourly.direct_radiation_instant', 'hourly.shortwave_radiation_instant', 'hourly.direct_normal_irradiance_instant'])\n",
    "\n",
    "# Remove the columns\n",
    "df = df.drop(columns=columns_to_remove)\n",
    "\n",
    "# Print the updated column names\n",
    "updated_column_names_radiation = df.columns.tolist()\n",
    "print(updated_column_names_radiation)\n",
    "\n",
    "# Convert the lists to sets\n",
    "set1 = set(updated_column_names_radiation)\n",
    "set2 = set(updated_column_names)\n",
    "\n",
    "# Find the common elements\n",
    "common_elements = set1 & set2\n",
    "\n",
    "# Print the common elements\n",
    "print(common_elements)\n",
    "\n",
    "\n",
    "header = ['year', 'date', 'district', 'municipality', 'parish', 'local', 'latitude', 'longitude', 'cause']\n",
    "\n",
    "columns = header + updated_column_names + updated_column_names_radiation\n",
    "\n",
    "df = pd.DataFrame(columns=columns)\n",
    "\n",
    "df.to_csv('MissingValues/missingValues2011.csv', index=False)"
   ]
  },
  {
   "cell_type": "code",
   "execution_count": 170,
   "metadata": {},
   "outputs": [
    {
     "name": "stdout",
     "output_type": "stream",
     "text": [
      "12\n",
      "30.1\n",
      "2011-09-07T12:00\n"
     ]
    }
   ],
   "source": [
    "row = na_rows.iloc[0]\n",
    "\n",
    "ANO = row['year']\n",
    "DISTRICTO = row['district']\n",
    "CONCELHO = row['municipality']\n",
    "FREGUESIA = row['parish']\n",
    "CAUSA = row['cause']\n",
    "LOCAL = row['local']\n",
    "print(HORA)\n",
    "#HORA = int(HORA.split(\":\")[0])\n",
    "#print(str(HORA))\n",
    "HORA = str(\"12\")\n",
    "_fileName = f\"{DIA}_{MES}_{HORA}_{LAT}_{LON}.csv.csv\"\n",
    "_fileName_radiation = f\"{DIA}_{MES}_{HORA}_{LAT}_{LON}_radiation.csv\"\n",
    "\n",
    "dfMet = pd.read_csv(f\"MissingValues/{_fileName}\")\n",
    "dfRad = pd.read_csv(f\"MissingValues/{_fileName_radiation}\")\n",
    "\n",
    "#MUDAR AQUI TAMBEM\n",
    "HORA = 12\n",
    "\n",
    "list_from_string = ast.literal_eval(dfMet[updated_column_names[2]].iloc[0])[HORA]\n",
    "\n",
    "print(list_from_string)\n",
    "\n",
    "list_from_string = ast.literal_eval(dfMet[updated_column_names[1]].iloc[0])[HORA]\n",
    "\n",
    "print(list_from_string)\n",
    "\n",
    "new_data = {\n",
    "    'year': ANO,\n",
    "    'date': f\"{_DATA}\",\n",
    "    'district': DISTRICTO,\n",
    "    'municipality': CONCELHO,\n",
    "    'parish': FREGUESIA,\n",
    "    'local': LOCAL,\n",
    "    'latitude': LAT,\n",
    "    'longitude': LON,\n",
    "    'cause': CAUSA,\n",
    "    'elevation': dfMet['elevation'].iloc[0]\n",
    "}\n",
    "\n",
    "try:\n",
    "    for i in range(1, len(updated_column_names)):\n",
    "        new_data[updated_column_names[i]] = ast.literal_eval(dfMet[updated_column_names[i]].iloc[0])[HORA]\n",
    "except Exception as e:\n",
    "    print(\"->\", e)\n",
    "\n",
    "try:\n",
    "    for i in range(0, len(updated_column_names_radiation)):\n",
    "        new_data[updated_column_names_radiation[i]] = ast.literal_eval(dfRad[updated_column_names_radiation[i]].iloc[0])[HORA]\n",
    "except Exception as e:\n",
    "    print(\"-x\", e)\n",
    "\n",
    "new_df = pd.DataFrame(new_data, index=[0])\n",
    "\n",
    "new_df.to_csv('MissingValues/missingValues2011.csv', mode='a', header=False, index=False)"
   ]
  },
  {
   "cell_type": "code",
   "execution_count": 148,
   "metadata": {},
   "outputs": [
    {
     "name": "stderr",
     "output_type": "stream",
     "text": [
      "/tmp/ipykernel_4621/2893461563.py:33: SettingWithCopyWarning: \n",
      "A value is trying to be set on a copy of a slice from a DataFrame.\n",
      "Try using .loc[row_indexer,col_indexer] = value instead\n",
      "\n",
      "See the caveats in the documentation: https://pandas.pydata.org/pandas-docs/stable/user_guide/indexing.html#returning-a-view-versus-a-copy\n",
      "  filtered_df['distance'] = filtered_df.apply(lambda x: DistanceTwoPoints(lat1, lon1, x['decimalLatitude'], x['decimalLongitude']), axis=1)\n"
     ]
    },
    {
     "name": "stdout",
     "output_type": "stream",
     "text": [
      "('Magnoliopsida', 227.12317847507407)\n",
      "['Tracheophyta' 'Magnoliopsida' 'Pinus pinaster Aiton' \"Eucalyptus L'Hér.\"]\n"
     ]
    }
   ],
   "source": [
    "_year = 2011\n",
    "newValues = pd.read_csv(f'MissingValues/missingValues{_year}.csv')\n",
    "print(checkNearestPoint(newValues.iloc[0]))\n",
    "\n",
    "newValues['scientificNames'] = newValues.apply(check_district, axis=1)\n",
    "newValues.to_csv(f'MissingValues/{_year}_checkDistrict.csv', index=False)"
   ]
  }
 ],
 "metadata": {
  "kernelspec": {
   "display_name": "Python 3",
   "language": "python",
   "name": "python3"
  },
  "language_info": {
   "codemirror_mode": {
    "name": "ipython",
    "version": 3
   },
   "file_extension": ".py",
   "mimetype": "text/x-python",
   "name": "python",
   "nbconvert_exporter": "python",
   "pygments_lexer": "ipython3",
   "version": "3.10.12"
  }
 },
 "nbformat": 4,
 "nbformat_minor": 2
}
