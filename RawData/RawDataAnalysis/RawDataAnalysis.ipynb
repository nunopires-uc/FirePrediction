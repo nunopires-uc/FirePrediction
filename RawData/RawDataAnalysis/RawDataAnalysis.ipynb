{
 "cells": [
  {
   "cell_type": "code",
   "execution_count": 2,
   "metadata": {},
   "outputs": [],
   "source": [
    "import os\n",
    "import pandas as pd\n",
    "import json\n",
    "\n",
    "current_dir = os.getcwd()\n",
    "root_dir = os.path.dirname(os.path.dirname(current_dir))\n",
    "_RAWFIRESPATH = f\"{root_dir}/RawData/Historical_FiresRAW/\""
   ]
  },
  {
   "cell_type": "code",
   "execution_count": 8,
   "metadata": {},
   "outputs": [
    {
     "name": "stdout",
     "output_type": "stream",
     "text": [
      "['Desconhecida' 'Reacendimento' nan 'Natural']\n",
      "2657\n",
      "1314\n"
     ]
    }
   ],
   "source": [
    "# Filter the DataFrame\n",
    "import pandas as pd\n",
    "\n",
    "# Read the CSV file\n",
    "df = pd.read_csv(f'{_RAWFIRESPATH}/filtered_icnf_2021.csv')\n",
    "\n",
    "# Get unique values in 'TIPOCAUSA'\n",
    "unique_values = df['TIPOCAUSA'].unique()\n",
    "\n",
    "# Print the unique values\n",
    "print(unique_values)\n",
    "\n",
    "# Filter the DataFrame where 'TIPOCAUSA' is 'Desconhecida', 'Reacendimento', 'Natural' or NaN\n",
    "filtered_df = df[(df['TIPO'] == 'Florestal') & (df['TIPOCAUSA'].isin(['Desconhecida', 'Reacendimento', 'Natural']) | df['TIPOCAUSA'].isna())]\n",
    "print(len(filtered_df))\n",
    "\n",
    "filtered_df = df[(df['TIPO'] == 'Florestal') & (df['TIPOCAUSA'].isin(['Desconhecida', 'Natural']))]\n",
    "print(len(filtered_df))\n",
    "\n",
    "# Write the filtered DataFrame to a new CSV file\n",
    "#filtered_df.to_csv('filtered_icnf_2023.csv', index=False)"
   ]
  },
  {
   "cell_type": "code",
   "execution_count": 5,
   "metadata": {},
   "outputs": [
    {
     "name": "stdout",
     "output_type": "stream",
     "text": [
      "[nan 'Desconhecida' 'Reacendimento' 'Natural']\n"
     ]
    }
   ],
   "source": [
    "# Filter the DataFrame\n",
    "import pandas as pd\n",
    "\n",
    "# Read the CSV file\n",
    "df = pd.read_csv(f'{_RAWFIRESPATH}/2021.csv')\n",
    "\n",
    "# Get unique values in 'TIPOCAUSA'\n",
    "unique_values = df['TIPOCAUSA'].unique()\n",
    "\n",
    "# Print the unique values\n",
    "print(unique_values)\n",
    "\n",
    "# Filter the DataFrame where 'TIPOCAUSA' is 'Desconhecida', 'Reacendimento', 'Natural' or NaN\n",
    "filtered_df = df[(df['TIPO'] == 'Florestal') & (df['TIPOCAUSA'].isin(['Desconhecida', 'Reacendimento', 'Natural']) | df['TIPOCAUSA'].isna())]\n",
    "print(len(filtered_df))\n",
    "\n",
    "filtered_df = df[(df['TIPO'] == 'Florestal') & (df['TIPOCAUSA'].isin(['Desconhecida', 'Natural']))]\n",
    "print(len(filtered_df))\n",
    "\n",
    "#filtered_df.to_csv('2022.csv', index=False)"
   ]
  },
  {
   "cell_type": "code",
   "execution_count": 24,
   "metadata": {},
   "outputs": [
    {
     "name": "stdout",
     "output_type": "stream",
     "text": [
      "[nan 'Desconhecida' 'Natural']\n",
      "50\n"
     ]
    },
    {
     "name": "stderr",
     "output_type": "stream",
     "text": [
      "/tmp/ipykernel_44983/3001789664.py:5: DtypeWarning: Columns (29) have mixed types. Specify dtype option on import or set low_memory=False.\n",
      "  df = pd.read_csv(f'{_RAWFIRESPATH}filtered_icnf_2002.csv')\n"
     ]
    }
   ],
   "source": [
    "# Filter the DataFrame\n",
    "import pandas as pd\n",
    "\n",
    "# Read the CSV file\n",
    "df = pd.read_csv(f'{_RAWFIRESPATH}filtered_icnf_2001.csv')\n",
    "\n",
    "\n",
    "#distrito,concelho,freguesia,local\n",
    "\n",
    "#agricola, falso_alarme\n",
    "\n",
    "# Get unique values in 'TIPOCAUSA'\n",
    "unique_values = df['tipo_causa'].unique()\n",
    "\n",
    "# Print the unique values\n",
    "print(unique_values)\n",
    "\n",
    "# Filter the DataFrame where 'TIPOCAUSA' is 'Desconhecida', 'Reacendimento', 'Natural' or NaN\n",
    "#filtered_df = df[(df['tipo'] == 'Florestal') & (df['tipo_causa'].isin(['Desconhecida', 'Reacendimento', 'Natural']) | df['tipo_causa'].isna())]\n",
    "#print(len(filtered_df))\n",
    "\n",
    "#filtered_df = df[(df['tipo'] == 'Florestal') & (df['tipo_causa'].isin(['Natural', 'Desconhecida']))]\n",
    "#print(len(filtered_df))\n",
    "\n",
    "#filtered_df.to_csv('2022.csv', index=False)\n",
    "\n",
    "# Filter the DataFrame where 'agricola' is not 1 and 'falso_alarme' is not 1\n",
    "# Filter the DataFrame where 'agricola' is not 1, 'falso_alarme' is not 1, and none of the substrings are in 'distrito', 'concelho', 'freguesia', or 'local'\n",
    "substrings = ['Rua', 'RUA', 'rua', 'R.', 'r.', 'Praceta', 'PRACETA', 'praceta', \n",
    "              'Lg.', 'lg.', 'Igreja', 'IGREJA', 'igreja', 'Bairro', 'bairro', 'BAIRRO', 'Zona Industrial', 'ESCOLA', 'escola', 'FUTEBOL', 'futebol',\n",
    "              'L.', 'l.'\n",
    "              \n",
    "              ]\n",
    "\n",
    "df['local'] = df['local'].fillna('')\n",
    "\n",
    "# Filter the DataFrame where 'tipo_causa' is 'Desconhecida', 'agricola' is not 1, 'falso_alarme' is not 1, and none of the substrings are in 'local'\n",
    "filtered_df_desconhecida = df[(df['tipo'] == 'Florestal') & \n",
    "                              (df['tipo_causa'] == 'Desconhecida') &\n",
    "                              (df['agricola'] != 1) & \n",
    "                              (df['falso_alarme'] != 1) &\n",
    "                              (~df['local'].str.contains('|'.join(substrings)))]\n",
    "\n",
    "# Filter the DataFrame where 'tipo_causa' is 'Natural'\n",
    "filtered_df_natural = df[(df['tipo'] == 'Florestal') & \n",
    "                         (df['tipo_causa'] == 'Natural')]\n",
    "\n",
    "# Concatenate the two dataframes\n",
    "filtered_df = pd.concat([filtered_df_desconhecida, filtered_df_natural])\n",
    "\n",
    "print(len(filtered_df))\n",
    "\n",
    "\n"
   ]
  },
  {
   "cell_type": "code",
   "execution_count": 9,
   "metadata": {},
   "outputs": [
    {
     "name": "stdout",
     "output_type": "stream",
     "text": [
      "1042\n"
     ]
    }
   ],
   "source": [
    "dfx = pd.read_csv(\"FireDatasetV2.csv\")\n",
    "fdf = dfx[(dfx['cause'] == 'Natural')]\n",
    "print(len(fdf))"
   ]
  }
 ],
 "metadata": {
  "kernelspec": {
   "display_name": "Python 3",
   "language": "python",
   "name": "python3"
  },
  "language_info": {
   "codemirror_mode": {
    "name": "ipython",
    "version": 3
   },
   "file_extension": ".py",
   "mimetype": "text/x-python",
   "name": "python",
   "nbconvert_exporter": "python",
   "pygments_lexer": "ipython3",
   "version": "3.10.12"
  }
 },
 "nbformat": 4,
 "nbformat_minor": 2
}
