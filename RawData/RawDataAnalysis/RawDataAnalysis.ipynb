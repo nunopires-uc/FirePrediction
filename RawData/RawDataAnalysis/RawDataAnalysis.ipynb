{
 "cells": [
  {
   "cell_type": "code",
   "execution_count": 1,
   "metadata": {},
   "outputs": [
    {
     "name": "stderr",
     "output_type": "stream",
     "text": [
      "/tmp/ipykernel_3209/2741073884.py:2: DeprecationWarning: \n",
      "Pyarrow will become a required dependency of pandas in the next major release of pandas (pandas 3.0),\n",
      "(to allow more performant data types, such as the Arrow string type, and better interoperability with other libraries)\n",
      "but was not found to be installed on your system.\n",
      "If this would cause problems for you,\n",
      "please provide us feedback at https://github.com/pandas-dev/pandas/issues/54466\n",
      "        \n",
      "  import pandas as pd\n"
     ]
    }
   ],
   "source": [
    "import os\n",
    "import pandas as pd\n",
    "import json\n",
    "\n",
    "current_dir = os.getcwd()\n",
    "root_dir = os.path.dirname(os.path.dirname(current_dir))\n",
    "_RAWFIRESPATH = f\"{root_dir}/RawData/Historical_FiresRAW/\""
   ]
  },
  {
   "cell_type": "code",
   "execution_count": 8,
   "metadata": {},
   "outputs": [
    {
     "name": "stdout",
     "output_type": "stream",
     "text": [
      "['Desconhecida' 'Reacendimento' nan 'Natural']\n",
      "2657\n",
      "1314\n"
     ]
    }
   ],
   "source": [
    "# Filter the DataFrame\n",
    "import pandas as pd\n",
    "\n",
    "# Read the CSV file\n",
    "df = pd.read_csv(f'{_RAWFIRESPATH}/filtered_icnf_2021.csv')\n",
    "\n",
    "# Get unique values in 'TIPOCAUSA'\n",
    "unique_values = df['TIPOCAUSA'].unique()\n",
    "\n",
    "# Print the unique values\n",
    "print(unique_values)\n",
    "\n",
    "# Filter the DataFrame where 'TIPOCAUSA' is 'Desconhecida', 'Reacendimento', 'Natural' or NaN\n",
    "filtered_df = df[(df['TIPO'] == 'Florestal') & (df['TIPOCAUSA'].isin(['Desconhecida', 'Reacendimento', 'Natural']) | df['TIPOCAUSA'].isna())]\n",
    "print(len(filtered_df))\n",
    "\n",
    "filtered_df = df[(df['TIPO'] == 'Florestal') & (df['TIPOCAUSA'].isin(['Desconhecida', 'Natural']))]\n",
    "print(len(filtered_df))\n",
    "\n",
    "# Write the filtered DataFrame to a new CSV file\n",
    "#filtered_df.to_csv('filtered_icnf_2023.csv', index=False)"
   ]
  },
  {
   "cell_type": "code",
   "execution_count": 5,
   "metadata": {},
   "outputs": [
    {
     "name": "stdout",
     "output_type": "stream",
     "text": [
      "[nan 'Desconhecida' 'Reacendimento' 'Natural']\n"
     ]
    }
   ],
   "source": [
    "# Filter the DataFrame\n",
    "import pandas as pd\n",
    "\n",
    "# Read the CSV file\n",
    "df = pd.read_csv(f'{_RAWFIRESPATH}/2021.csv')\n",
    "\n",
    "# Get unique values in 'TIPOCAUSA'\n",
    "unique_values = df['TIPOCAUSA'].unique()\n",
    "\n",
    "# Print the unique values\n",
    "print(unique_values)\n",
    "\n",
    "# Filter the DataFrame where 'TIPOCAUSA' is 'Desconhecida', 'Reacendimento', 'Natural' or NaN\n",
    "filtered_df = df[(df['TIPO'] == 'Florestal') & (df['TIPOCAUSA'].isin(['Desconhecida', 'Reacendimento', 'Natural']) | df['TIPOCAUSA'].isna())]\n",
    "print(len(filtered_df))\n",
    "\n",
    "filtered_df = df[(df['TIPO'] == 'Florestal') & (df['TIPOCAUSA'].isin(['Desconhecida', 'Natural']))]\n",
    "print(len(filtered_df))\n",
    "\n",
    "#filtered_df.to_csv('2022.csv', index=False)"
   ]
  },
  {
   "cell_type": "code",
   "execution_count": 25,
   "metadata": {},
   "outputs": [
    {
     "name": "stdout",
     "output_type": "stream",
     "text": [
      "[nan 'Desconhecida' 'Natural']\n",
      "92\n"
     ]
    }
   ],
   "source": [
    "# Filter the DataFrame\n",
    "import pandas as pd\n",
    "\n",
    "# Read the CSV file\n",
    "df = pd.read_csv(f'{_RAWFIRESPATH}filtered_icnf_2001.csv')\n",
    "\n",
    "\n",
    "#distrito,concelho,freguesia,local\n",
    "\n",
    "#agricola, falso_alarme\n",
    "\n",
    "# Get unique values in 'TIPOCAUSA'\n",
    "unique_values = df['tipo_causa'].unique()\n",
    "\n",
    "# Print the unique values\n",
    "print(unique_values)\n",
    "\n",
    "# Filter the DataFrame where 'TIPOCAUSA' is 'Desconhecida', 'Reacendimento', 'Natural' or NaN\n",
    "#filtered_df = df[(df['tipo'] == 'Florestal') & (df['tipo_causa'].isin(['Desconhecida', 'Reacendimento', 'Natural']) | df['tipo_causa'].isna())]\n",
    "#print(len(filtered_df))\n",
    "\n",
    "#filtered_df = df[(df['tipo'] == 'Florestal') & (df['tipo_causa'].isin(['Natural', 'Desconhecida']))]\n",
    "#print(len(filtered_df))\n",
    "\n",
    "#filtered_df.to_csv('2022.csv', index=False)\n",
    "\n",
    "# Filter the DataFrame where 'agricola' is not 1 and 'falso_alarme' is not 1\n",
    "# Filter the DataFrame where 'agricola' is not 1, 'falso_alarme' is not 1, and none of the substrings are in 'distrito', 'concelho', 'freguesia', or 'local'\n",
    "substrings = ['Rua', 'RUA', 'rua', 'R.', 'r.', 'Praceta', 'PRACETA', 'praceta', \n",
    "              'Lg.', 'lg.', 'Igreja', 'IGREJA', 'igreja', 'Bairro', 'bairro', 'BAIRRO', 'Zona Industrial', 'ESCOLA', 'escola', 'FUTEBOL', 'futebol',\n",
    "              'L.', 'l.'\n",
    "              \n",
    "              ]\n",
    "\n",
    "df['local'] = df['local'].fillna('')\n",
    "\n",
    "# Filter the DataFrame where 'tipo_causa' is 'Desconhecida', 'agricola' is not 1, 'falso_alarme' is not 1, and none of the substrings are in 'local'\n",
    "filtered_df_desconhecida = df[(df['tipo'] == 'Florestal') & \n",
    "                              (df['tipo_causa'] == 'Desconhecida') &\n",
    "                              (df['agricola'] != 1) & \n",
    "                              (df['falso_alarme'] != 1) &\n",
    "                              (~df['local'].str.contains('|'.join(substrings)))]\n",
    "\n",
    "# Filter the DataFrame where 'tipo_causa' is 'Natural'\n",
    "filtered_df_natural = df[(df['tipo'] == 'Florestal') & \n",
    "                         (df['tipo_causa'] == 'Natural')]\n",
    "\n",
    "# Concatenate the two dataframes\n",
    "filtered_df = pd.concat([filtered_df_desconhecida, filtered_df_natural])\n",
    "\n",
    "print(len(filtered_df))\n",
    "\n",
    "\n"
   ]
  },
  {
   "cell_type": "code",
   "execution_count": 9,
   "metadata": {},
   "outputs": [
    {
     "name": "stdout",
     "output_type": "stream",
     "text": [
      "1042\n"
     ]
    }
   ],
   "source": [
    "dfx = pd.read_csv(\"FireDatasetV2.csv\")\n",
    "fdf = dfx[(dfx['cause'] == 'Natural')]\n",
    "print(len(fdf))"
   ]
  },
  {
   "cell_type": "code",
   "execution_count": 42,
   "metadata": {},
   "outputs": [
    {
     "name": "stdout",
     "output_type": "stream",
     "text": [
      "[nan 'Desconhecida' 'Natural']\n",
      "0        NaN\n",
      "1        NaN\n",
      "2        NaN\n",
      "9        NaN\n",
      "10       NaN\n",
      "        ... \n",
      "14907    NaN\n",
      "14908    NaN\n",
      "14909    NaN\n",
      "14910    NaN\n",
      "14912    NaN\n",
      "Name: tipo_causa, Length: 8896, dtype: object\n"
     ]
    }
   ],
   "source": [
    "# Filter the DataFrame\n",
    "import pandas as pd\n",
    "\n",
    "# Read the CSV file\n",
    "df = pd.read_csv(f'{_RAWFIRESPATH}filtered_icnf_2011.csv')\n",
    "\n",
    "unique_values = df['tipo_causa'].unique()\n",
    "\n",
    "print(unique_values)\n",
    "\n",
    "nan_rows = df[df['tipo_causa'].isna()]['tipo_causa']\n",
    "\n",
    "print(nan_rows)\n",
    "\n",
    "#distrito,concelho,freguesia,local\n",
    "\n",
    "#agricola, falso_alarme\n",
    "\n",
    "# Get unique values in 'TIPOCAUSA'\n",
    "#unique_values = df['tipo_causa'].unique()\n",
    "\n",
    "#uniqagr = df['agricola'].unique()\n",
    "\n",
    "#uniqfals = df['falso_alarme'].unique()\n",
    "\n",
    "#uniqcaus = df['causa'].unique()\n",
    "\n",
    "#uniqrend = df['reacendimento'].unique()\n",
    "\n",
    "#print(unique_values)\n",
    "#print(uniqagr)\n",
    "#print(uniqfals)\n",
    "#print(uniqcaus)\n",
    "\n",
    "#print(len(df))\n",
    "\n",
    "#filtered_dfagr = df[(df['agricola'] == 0)]\n",
    "\n",
    "#print(len(filtered_dfagr))\n",
    "\n",
    "#filtered_dfagr.to_csv('filtered_icnf_2011v2.csv', index=False)"
   ]
  }
 ],
 "metadata": {
  "kernelspec": {
   "display_name": "Python 3",
   "language": "python",
   "name": "python3"
  },
  "language_info": {
   "codemirror_mode": {
    "name": "ipython",
    "version": 3
   },
   "file_extension": ".py",
   "mimetype": "text/x-python",
   "name": "python",
   "nbconvert_exporter": "python",
   "pygments_lexer": "ipython3",
   "version": "3.10.12"
  }
 },
 "nbformat": 4,
 "nbformat_minor": 2
}
