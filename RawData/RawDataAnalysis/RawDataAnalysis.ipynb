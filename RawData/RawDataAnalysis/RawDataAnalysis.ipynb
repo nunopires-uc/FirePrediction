{
 "cells": [
  {
   "cell_type": "code",
   "execution_count": 5,
   "metadata": {},
   "outputs": [],
   "source": [
    "import os\n",
    "import pandas as pd\n",
    "import json\n",
    "\n",
    "current_dir = os.getcwd()\n",
    "root_dir = os.path.dirname(os.path.dirname(current_dir))\n",
    "_RAWFIRESPATH = f\"{root_dir}/RawData/Historical_FiresRAW/\""
   ]
  },
  {
   "cell_type": "code",
   "execution_count": 8,
   "metadata": {},
   "outputs": [
    {
     "name": "stdout",
     "output_type": "stream",
     "text": [
      "['Desconhecida' nan 'Reacendimento' 'Natural']\n",
      "2499\n",
      "1935\n"
     ]
    }
   ],
   "source": [
    "# Filter the DataFrame\n",
    "import pandas as pd\n",
    "\n",
    "# Read the CSV file\n",
    "df = pd.read_csv(f'{_RAWFIRESPATH}/filtered_icnf_2023.csv')\n",
    "\n",
    "# Get unique values in 'TIPOCAUSA'\n",
    "unique_values = df['TIPOCAUSA'].unique()\n",
    "\n",
    "# Print the unique values\n",
    "print(unique_values)\n",
    "\n",
    "# Filter the DataFrame where 'TIPOCAUSA' is 'Desconhecida', 'Reacendimento', 'Natural' or NaN\n",
    "filtered_df = df[(df['TIPO'] == 'Florestal') & (df['TIPOCAUSA'].isin(['Desconhecida', 'Reacendimento', 'Natural']) | df['TIPOCAUSA'].isna())]\n",
    "print(len(filtered_df))\n",
    "\n",
    "filtered_df = df[(df['TIPO'] == 'Florestal') & (df['TIPOCAUSA'].isin(['Desconhecida', 'Natural']))]\n",
    "print(len(filtered_df))\n",
    "\n",
    "# Write the filtered DataFrame to a new CSV file\n",
    "#filtered_df.to_csv('filtered_icnf_2023.csv', index=False)"
   ]
  }
 ],
 "metadata": {
  "kernelspec": {
   "display_name": "Python 3",
   "language": "python",
   "name": "python3"
  },
  "language_info": {
   "codemirror_mode": {
    "name": "ipython",
    "version": 3
   },
   "file_extension": ".py",
   "mimetype": "text/x-python",
   "name": "python",
   "nbconvert_exporter": "python",
   "pygments_lexer": "ipython3",
   "version": "3.10.12"
  }
 },
 "nbformat": 4,
 "nbformat_minor": 2
}
