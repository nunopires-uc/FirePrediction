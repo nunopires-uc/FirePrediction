{
 "cells": [
  {
   "cell_type": "code",
   "execution_count": null,
   "metadata": {},
   "outputs": [],
   "source": [
    "import pandas as pd\n",
    "\n",
    "df = pd.read_csv(\"FireDatasetV2.csv\")\n",
    "\n",
    "df = df.drop_duplicates()\n",
    "\n",
    "# Save DataFrame to csv\n",
    "df.to_csv('FireDatasetV2.csv', index=False)"
   ]
  }
 ],
 "metadata": {
  "language_info": {
   "name": "python"
  }
 },
 "nbformat": 4,
 "nbformat_minor": 2
}
