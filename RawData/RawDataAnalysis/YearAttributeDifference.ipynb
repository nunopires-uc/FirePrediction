{
 "cells": [
  {
   "cell_type": "code",
   "execution_count": 3,
   "metadata": {},
   "outputs": [
    {
     "name": "stderr",
     "output_type": "stream",
     "text": [
      "/tmp/ipykernel_40570/2404046914.py:2: DeprecationWarning: \n",
      "Pyarrow will become a required dependency of pandas in the next major release of pandas (pandas 3.0),\n",
      "(to allow more performant data types, such as the Arrow string type, and better interoperability with other libraries)\n",
      "but was not found to be installed on your system.\n",
      "If this would cause problems for you,\n",
      "please provide us feedback at https://github.com/pandas-dev/pandas/issues/54466\n",
      "        \n",
      "  import pandas as pd\n"
     ]
    }
   ],
   "source": [
    "import os\n",
    "import pandas as pd\n",
    "import random\n",
    "\n",
    "current_dir = os.getcwd()\n",
    "root_dir = os.path.dirname(os.path.dirname(current_dir))\n",
    "_RAWFIRESPATH = f\"{root_dir}/RawData/Historical_FiresRAW\""
   ]
  },
  {
   "cell_type": "code",
   "execution_count": 23,
   "metadata": {},
   "outputs": [
    {
     "name": "stdout",
     "output_type": "stream",
     "text": [
      "2006-01-20_40.2951973_-7.6713656.csv 2006-01-20_40.2951973_-7.6713656_radiation.csv\n",
      "29_01_18_41.2964430003696_-8.57563199996948.csv.csv 29_01_18_41.2964430003696_-8.57563199996948_radiation.csv\n"
     ]
    }
   ],
   "source": [
    "import os\n",
    "import random\n",
    "\n",
    "\n",
    "dir_path_2006 = f\"{_RAWFIRESPATH}/2006/\"\n",
    "files = [f for f in os.listdir(dir_path_2006) if \"_radiation\" not in f]\n",
    "index = random.randrange(0, len(files))\n",
    "am2006 = files[index]\n",
    "am2006_radiation = am2006.replace(\".csv\", \"_radiation.csv\")\n",
    "\n",
    "print(am2006, am2006_radiation)\n",
    "\n",
    "dir_path_2022 = f\"{_RAWFIRESPATH}/2022/\"\n",
    "files = [f for f in os.listdir(dir_path_2022) if \"_radiation\" not in f]\n",
    "index = random.randrange(0, len(files))\n",
    "am2022 = files[index]\n",
    "am2022_radiation = am2022.replace(\".csv.csv\", \"_radiation.csv\")\n",
    "\n",
    "print(am2022, am2022_radiation)\n",
    "\n"
   ]
  },
  {
   "cell_type": "code",
   "execution_count": 24,
   "metadata": {},
   "outputs": [
    {
     "name": "stdout",
     "output_type": "stream",
     "text": [
      "['latitude', 'longitude', 'generationtime_ms', 'utc_offset_seconds', 'timezone', 'timezone_abbreviation', 'elevation', 'hourly_units.time', 'hourly_units.shortwave_radiation', 'hourly_units.direct_radiation', 'hourly_units.diffuse_radiation', 'hourly_units.direct_normal_irradiance', 'hourly_units.global_tilted_irradiance', 'hourly_units.terrestrial_radiation', 'hourly_units.shortwave_radiation_instant', 'hourly_units.direct_radiation_instant', 'hourly_units.diffuse_radiation_instant', 'hourly_units.direct_normal_irradiance_instant', 'hourly_units.global_tilted_irradiance_instant', 'hourly_units.terrestrial_radiation_instant', 'hourly.time', 'hourly.shortwave_radiation', 'hourly.direct_radiation', 'hourly.diffuse_radiation', 'hourly.direct_normal_irradiance', 'hourly.global_tilted_irradiance', 'hourly.terrestrial_radiation', 'hourly.shortwave_radiation_instant', 'hourly.direct_radiation_instant', 'hourly.diffuse_radiation_instant', 'hourly.direct_normal_irradiance_instant', 'hourly.global_tilted_irradiance_instant', 'hourly.terrestrial_radiation_instant']\n",
      "['latitude', 'longitude', 'generationtime_ms', 'utc_offset_seconds', 'timezone', 'timezone_abbreviation', 'elevation', 'hourly_units.time', 'hourly_units.temperature_2m', 'hourly_units.relative_humidity_2m', 'hourly_units.dew_point_2m', 'hourly_units.apparent_temperature', 'hourly_units.precipitation', 'hourly_units.rain', 'hourly_units.snowfall', 'hourly_units.snow_depth', 'hourly_units.weather_code', 'hourly_units.pressure_msl', 'hourly_units.surface_pressure', 'hourly_units.cloud_cover', 'hourly_units.cloud_cover_low', 'hourly_units.cloud_cover_mid', 'hourly_units.cloud_cover_high', 'hourly_units.et0_fao_evapotranspiration', 'hourly_units.vapour_pressure_deficit', 'hourly_units.wind_speed_10m', 'hourly_units.wind_speed_100m', 'hourly_units.wind_direction_10m', 'hourly_units.wind_direction_100m', 'hourly_units.wind_gusts_10m', 'hourly_units.soil_temperature_0_to_7cm', 'hourly_units.soil_temperature_7_to_28cm', 'hourly_units.soil_temperature_28_to_100cm', 'hourly_units.soil_temperature_100_to_255cm', 'hourly_units.soil_moisture_0_to_7cm', 'hourly_units.soil_moisture_7_to_28cm', 'hourly_units.soil_moisture_28_to_100cm', 'hourly_units.soil_moisture_100_to_255cm', 'hourly_units.is_day', 'hourly_units.sunshine_duration', 'hourly_units.shortwave_radiation_instant', 'hourly_units.direct_radiation_instant', 'hourly_units.diffuse_radiation_instant', 'hourly_units.direct_normal_irradiance_instant', 'hourly_units.global_tilted_irradiance_instant', 'hourly_units.terrestrial_radiation_instant', 'hourly.time', 'hourly.temperature_2m', 'hourly.relative_humidity_2m', 'hourly.dew_point_2m', 'hourly.apparent_temperature', 'hourly.precipitation', 'hourly.rain', 'hourly.snowfall', 'hourly.snow_depth', 'hourly.weather_code', 'hourly.pressure_msl', 'hourly.surface_pressure', 'hourly.cloud_cover', 'hourly.cloud_cover_low', 'hourly.cloud_cover_mid', 'hourly.cloud_cover_high', 'hourly.et0_fao_evapotranspiration', 'hourly.vapour_pressure_deficit', 'hourly.wind_speed_10m', 'hourly.wind_speed_100m', 'hourly.wind_direction_10m', 'hourly.wind_direction_100m', 'hourly.wind_gusts_10m', 'hourly.soil_temperature_0_to_7cm', 'hourly.soil_temperature_7_to_28cm', 'hourly.soil_temperature_28_to_100cm', 'hourly.soil_temperature_100_to_255cm', 'hourly.soil_moisture_0_to_7cm', 'hourly.soil_moisture_7_to_28cm', 'hourly.soil_moisture_28_to_100cm', 'hourly.soil_moisture_100_to_255cm', 'hourly.is_day', 'hourly.sunshine_duration', 'hourly.shortwave_radiation_instant', 'hourly.direct_radiation_instant', 'hourly.diffuse_radiation_instant', 'hourly.direct_normal_irradiance_instant', 'hourly.global_tilted_irradiance_instant', 'hourly.terrestrial_radiation_instant']\n"
     ]
    }
   ],
   "source": [
    "df2006met = pd.read_csv(f\"{dir_path_2006}{am2006}\")\n",
    "column_names2006met = df2006met.columns.tolist()\n",
    "\n",
    "df2006rad = pd.read_csv(f\"{dir_path_2006}{am2006_radiation}\")\n",
    "column_names2006rad = df2006rad.columns.tolist()\n",
    "\n",
    "df2022met = pd.read_csv(f\"{dir_path_2022}{am2022}\")\n",
    "column_names2022met = df2022met.columns.tolist()\n",
    "\n",
    "df2022rad = pd.read_csv(f\"{dir_path_2022}{am2022_radiation}\")\n",
    "column_names2022rad = df2022rad.columns.tolist()\n",
    "\n",
    "\n",
    "print(column_names2006rad)\n",
    "print(column_names2022rad)\n",
    "\n",
    "\n",
    "\n",
    "￼\n",
    "#columns_to_remove = [col for col in column_names if 'hourly_units' in col]\n",
    "#columns_to_remove.extend(['latitude', 'longitude', 'generationtime_ms', 'utc_offset_seconds', 'timezone', 'timezone_abbreviation'])\n",
    "\n",
    "# Remove the columns\n",
    "#df = df.drop(columns=columns_to_remove)\n",
    "\n",
    "# Print the updated column names\n",
    "#updated_column_names = df.columns.tolist()\n",
    "#print(updated_column_names)"
   ]
  },
  {
   "cell_type": "code",
   "execution_count": 20,
   "metadata": {},
   "outputs": [
    {
     "name": "stdout",
     "output_type": "stream",
     "text": [
      "set()\n"
     ]
    }
   ],
   "source": [
    "set_2006rad = set(column_names2006rad)\n",
    "set_2022rad = set(column_names2022rad)\n",
    "\n",
    "# Find the attributes that are not the same\n",
    "different_attributes = set_2006rad ^ set_2022rad\n",
    "\n",
    "print(different_attributes)"
   ]
  },
  {
   "cell_type": "code",
   "execution_count": 5,
   "metadata": {},
   "outputs": [],
   "source": [
    "import os\n",
    "import random\n",
    "\n",
    "current_dir = os.getcwd()\n",
    "root_dir = os.path.dirname(os.path.dirname(current_dir))\n",
    "_RAWFIRESPATH = f\"{root_dir}/RawData/Historical_FiresRAW\"\n",
    "dir_path_2022 = f\"{_RAWFIRESPATH}/2021/\"\n",
    "files = [f for f in os.listdir(dir_path_2022) if \"_radiation\" in f]\n",
    "\n",
    "for file in files:\n",
    "    os.remove(os.path.join(dir_path_2022, file))"
   ]
  }
 ],
 "metadata": {
  "kernelspec": {
   "display_name": "Python 3",
   "language": "python",
   "name": "python3"
  },
  "language_info": {
   "codemirror_mode": {
    "name": "ipython",
    "version": 3
   },
   "file_extension": ".py",
   "mimetype": "text/x-python",
   "name": "python",
   "nbconvert_exporter": "python",
   "pygments_lexer": "ipython3",
   "version": "3.10.12"
  }
 },
 "nbformat": 4,
 "nbformat_minor": 2
}
