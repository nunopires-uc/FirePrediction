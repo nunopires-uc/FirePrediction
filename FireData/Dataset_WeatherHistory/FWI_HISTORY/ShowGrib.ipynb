{
 "cells": [
  {
   "cell_type": "code",
   "execution_count": 3,
   "metadata": {},
   "outputs": [
    {
     "name": "stdout",
     "output_type": "stream",
     "text": [
      "<xarray.Dataset> Size: 4MB\n",
      "Dimensions:    (time: 365, latitude: 23, longitude: 16)\n",
      "Coordinates:\n",
      "  * time       (time) datetime64[ns] 3kB 2001-01-01T12:00:00 ... 2001-12-31T1...\n",
      "    surface    float64 8B ...\n",
      "  * latitude   (latitude) float64 184B 42.2 41.95 41.7 41.45 ... 37.2 36.95 36.7\n",
      "  * longitude  (longitude) float64 128B 350.2 350.4 350.7 ... 353.4 353.7 353.9\n",
      "Data variables:\n",
      "    fbupinx    (time, latitude, longitude) float32 537kB ...\n",
      "    drtcode    (time, latitude, longitude) float32 537kB ...\n",
      "    dufmcode   (time, latitude, longitude) float32 537kB ...\n",
      "    ffmcode    (time, latitude, longitude) float32 537kB ...\n",
      "    fdsrte     (time, latitude, longitude) float32 537kB ...\n",
      "    fwinx      (time, latitude, longitude) float32 537kB ...\n",
      "    infsinx    (time, latitude, longitude) float32 537kB ...\n",
      "Attributes:\n",
      "    GRIB_edition:            2\n",
      "    GRIB_centre:             ecmf\n",
      "    GRIB_centreDescription:  European Centre for Medium-Range Weather Forecasts\n",
      "    GRIB_subCentre:          0\n",
      "    Conventions:             CF-1.7\n",
      "    institution:             European Centre for Medium-Range Weather Forecasts\n",
      "    history:                 2024-04-24T17:15 GRIB to CDM+CF via cfgrib-0.9.1...\n"
     ]
    }
   ],
   "source": [
    "import cfgrib\n",
    "import xarray as xrs\n",
    "\n",
    "\n",
    "year = 2004\n",
    "ds = xrs.open_dataset(f\"{year}.grib\", engine='cfgrib')\n",
    "print(ds)"
   ]
  }
 ],
 "metadata": {
  "kernelspec": {
   "display_name": "Python 3",
   "language": "python",
   "name": "python3"
  },
  "language_info": {
   "codemirror_mode": {
    "name": "ipython",
    "version": 3
   },
   "file_extension": ".py",
   "mimetype": "text/x-python",
   "name": "python",
   "nbconvert_exporter": "python",
   "pygments_lexer": "ipython3",
   "version": "3.10.12"
  }
 },
 "nbformat": 4,
 "nbformat_minor": 2
}
