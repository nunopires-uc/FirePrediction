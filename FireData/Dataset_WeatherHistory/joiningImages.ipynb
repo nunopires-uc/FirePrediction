{
 "cells": [
  {
   "cell_type": "code",
   "execution_count": null,
   "metadata": {},
   "outputs": [],
   "source": [
    "from PIL import Image\n",
    "\n",
    "# List of images\n",
    "images = ['image1.png', 'image2.png', 'image3.png']\n",
    "\n",
    "# Open images and convert them to RGB\n",
    "imgs = [Image.open(i).convert('RGB') for i in images]\n",
    "\n",
    "# Find total width and maximum height\n",
    "total_width = sum(i.width for i in imgs)\n",
    "max_height = max(i.height for i in imgs)\n",
    "\n",
    "# Create new image of the right size\n",
    "new_img = Image.new('RGB', (total_width, max_height))\n",
    "\n",
    "# Iterate over images and paste them\n",
    "x_offset = 0\n",
    "for img in imgs:\n",
    "    new_img.paste(img, (x_offset,0))\n",
    "    x_offset += img.width\n",
    "\n",
    "# Save the image\n",
    "new_img.save('combined.png')"
   ]
  }
 ],
 "metadata": {
  "language_info": {
   "name": "python"
  }
 },
 "nbformat": 4,
 "nbformat_minor": 2
}
