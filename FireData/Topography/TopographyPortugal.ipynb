{
 "cells": [
  {
   "cell_type": "code",
   "execution_count": 2,
   "metadata": {},
   "outputs": [],
   "source": [
    "import geopandas as gpd"
   ]
  },
  {
   "cell_type": "code",
   "execution_count": 3,
   "metadata": {},
   "outputs": [],
   "source": [
    "gdf = gpd.read_file('GMTED2010_Spatial_Metadata/GMTED2010_Spatial_Metadata.shp')"
   ]
  },
  {
   "cell_type": "code",
   "execution_count": 4,
   "metadata": {},
   "outputs": [
    {
     "name": "stdout",
     "output_type": "stream",
     "text": [
      "Index(['ID', 'SOURCE_ORG', 'SOURCE', 'EL_SURFACE', 'NORTH', 'SOUTH', 'WEST',\n",
      "       'EAST', 'X_SRCE_RES', 'Y_SRCE_RES', 'HORZ_UNIT', 'COORD_SYS',\n",
      "       'HORZ_DATUM', 'VERT_DATUM', 'VERT_UNIT', 'MIN_ELEV', 'MAX_ELEV',\n",
      "       'MEAN_ELEV', 'SDEV_ELEV', 'PROD_DATE', 'geometry'],\n",
      "      dtype='object')\n",
      "    ID       SOURCE_ORG                       SOURCE  EL_SURFACE  NORTH  \\\n",
      "0  268  Univ of Bristol  Ant Radar and Laser Alt DEM  Reflective    -55   \n",
      "1  269  Univ of Bristol  Ant Radar and Laser Alt DEM  Reflective    -55   \n",
      "2  270  Univ of Bristol  Ant Radar and Laser Alt DEM  Reflective    -55   \n",
      "3  271  Univ of Bristol  Ant Radar and Laser Alt DEM  Reflective    -55   \n",
      "4  272  Univ of Bristol  Ant Radar and Laser Alt DEM  Reflective    -55   \n",
      "\n",
      "   SOUTH  WEST  EAST  X_SRCE_RES  Y_SRCE_RES  ...           COORD_SYS  \\\n",
      "0    -90  -180   180      1000.0      1000.0  ...  Polar Sterographic   \n",
      "1    -90  -180   180      1000.0      1000.0  ...  Polar Sterographic   \n",
      "2    -90  -180   180      1000.0      1000.0  ...  Polar Sterographic   \n",
      "3    -90  -180   180      1000.0      1000.0  ...  Polar Sterographic   \n",
      "4    -90  -180   180      1000.0      1000.0  ...  Polar Sterographic   \n",
      "\n",
      "  HORZ_DATUM VERT_DATUM VERT_UNIT MIN_ELEV  MAX_ELEV  MEAN_ELEV  SDEV_ELEV  \\\n",
      "0     WGS 84     WGS 84     Meter      -82      4211   2152.694   1127.631   \n",
      "1     WGS 84     WGS 84     Meter      -82      4211   2152.694   1127.631   \n",
      "2     WGS 84     WGS 84     Meter      -82      4211   2152.694   1127.631   \n",
      "3     WGS 84     WGS 84     Meter      -82      4211   2152.694   1127.631   \n",
      "4     WGS 84     WGS 84     Meter      -82      4211   2152.694   1127.631   \n",
      "\n",
      "   PROD_DATE                                           geometry  \n",
      "0  31Aug2011  POLYGON ((-103.61667 -72.71707, -103.61667 -72...  \n",
      "1  31Aug2011  POLYGON ((-126.67500 -73.14207, -126.67500 -73...  \n",
      "2  31Aug2011  POLYGON ((-126.48333 -73.21707, -126.48333 -73...  \n",
      "3  31Aug2011  POLYGON ((-125.81667 -73.23373, -125.81667 -73...  \n",
      "4  31Aug2011  POLYGON ((-105.15833 -73.00040, -105.15833 -73...  \n",
      "\n",
      "[5 rows x 21 columns]\n"
     ]
    }
   ],
   "source": [
    "print(gdf.columns)\n",
    "print(gdf.head())"
   ]
  },
  {
   "cell_type": "code",
   "execution_count": 7,
   "metadata": {},
   "outputs": [
    {
     "name": "stdout",
     "output_type": "stream",
     "text": [
      "336.807\n"
     ]
    }
   ],
   "source": [
    "from shapely.geometry import Point\n",
    "\n",
    "point = Point(37.283231, -8.5772292)\n",
    "\n",
    "mask = gdf['geometry'].contains(point)\n",
    "\n",
    "elevation_series = gdf.loc[mask, 'MEAN_ELEV']\n",
    "\n",
    "elevation = elevation_series.values[0]\n",
    "\n",
    "print(elevation)"
   ]
  },
  {
   "cell_type": "code",
   "execution_count": 9,
   "metadata": {},
   "outputs": [],
   "source": [
    "import rasterio"
   ]
  },
  {
   "cell_type": "code",
   "execution_count": 7,
   "metadata": {},
   "outputs": [],
   "source": [
    "import geopandas as gpd\n",
    "import rasterio\n",
    "from rasterio.mask import mask\n",
    "from scipy.ndimage import generic_filter"
   ]
  },
  {
   "cell_type": "code",
   "execution_count": 12,
   "metadata": {},
   "outputs": [],
   "source": [
    "with rasterio.open('md30_grd/md30_grd/w001001.adf') as src:\n",
    "    raster_data = src.read(1)\n",
    "    transform = src.transform"
   ]
  },
  {
   "cell_type": "code",
   "execution_count": 14,
   "metadata": {},
   "outputs": [
    {
     "name": "stderr",
     "output_type": "stream",
     "text": [
      "Exception ignored in: <bound method IPythonKernel._clean_thread_parent_frames of <ipykernel.ipkernel.IPythonKernel object at 0x7ff1c2d50af0>>\n",
      "Traceback (most recent call last):\n",
      "  File \"/home/ori/.local/lib/python3.10/site-packages/ipykernel/ipkernel.py\", line 770, in _clean_thread_parent_frames\n",
      "    def _clean_thread_parent_frames(\n",
      "KeyboardInterrupt: \n"
     ]
    },
    {
     "ename": "",
     "evalue": "",
     "output_type": "error",
     "traceback": [
      "\u001b[1;31mThe Kernel crashed while executing code in the current cell or a previous cell. \n",
      "\u001b[1;31mPlease review the code in the cell(s) to identify a possible cause of the failure. \n",
      "\u001b[1;31mClick <a href='https://aka.ms/vscodeJupyterKernelCrash'>here</a> for more info. \n",
      "\u001b[1;31mView Jupyter <a href='command:jupyter.viewOutput'>log</a> for further details."
     ]
    }
   ],
   "source": [
    "terrain = rd.rdarray(raster_data, no_data=src.nodata)\n",
    "\n",
    "import numpy as np\n",
    "from scipy.ndimage import generic_filter\n",
    "\n",
    "def calculate_tri(dem):\n",
    "    def tri_filter(x):\n",
    "        central_value = x[len(x) // 2]\n",
    "        return np.mean(np.abs(x - central_value))\n",
    "\n",
    "    return generic_filter(dem, tri_filter, size=3)\n",
    "\n",
    "# Calculate TRI\n",
    "tri = calculate_tri(terrain)\n",
    "\n",
    "# Define your coordinates\n",
    "longitude = 37.283231  # replace with your longitude\n",
    "latitude = -8.5772292  # replace with your latitude\n",
    "\n",
    "# Convert the coordinate to raster indices\n",
    "row, col = src.index(longitude, latitude)\n",
    "\n",
    "# Get the TRI value at the coordinate\n",
    "tri_value = tri[row, col]\n",
    "\n",
    "print(tri_value)"
   ]
  },
  {
   "cell_type": "code",
   "execution_count": 5,
   "metadata": {},
   "outputs": [
    {
     "name": "stdout",
     "output_type": "stream",
     "text": [
      "POLYGON ((-9.034817674180246 41.880570583659676, -8.67194576662672 42.13468943945496, -8.263856980817792 42.28046865495034, -8.013174607769912 41.790886135417125, -7.422512986673795 41.79207469335984, -7.251308966490824 41.91834605566505, -6.6686055159676565 41.883386949219584, -6.389087693700915 41.381815497394655, -6.851126674822552 41.11108266861753, -6.864019944679385 40.33087189387483, -7.026413133156595 40.184524237624245, -7.066591559263529 39.711891587882775, -7.498632371439726 39.62957103124181, -7.098036668313128 39.03007274022379, -7.374092169616318 38.37305858006492, -7.029281175148796 38.07576406508977, -7.166507941099865 37.803894354802225, -7.537105475281024 37.42890432387624, -7.453725551778092 37.09778758396607, -7.855613165711986 36.83826854099627, -8.382816127953689 36.97888011326246, -8.898856980820327 36.86880931248078, -8.746101446965554 37.65134552667661, -8.83999752443988 38.266243394517616, -9.287463751655224 38.3584858261586, -9.526570603869715 38.73742910415491, -9.446988898140233 39.39206614842837, -9.048305223008427 39.75509308527877, -8.977353481471681 40.15930613866581, -8.768684047877102 40.76063894303019, -8.79085323733031 41.18433401139126, -8.99078935386757 41.54345937760364, -9.034817674180246 41.880570583659676))\n"
     ]
    },
    {
     "name": "stderr",
     "output_type": "stream",
     "text": [
      "/tmp/ipykernel_15252/4293272401.py:1: FutureWarning: The geopandas.dataset module is deprecated and will be removed in GeoPandas 1.0. You can get the original 'naturalearth_lowres' data from https://www.naturalearthdata.com/downloads/110m-cultural-vectors/.\n",
      "  world = gpd.read_file(gpd.datasets.get_path('naturalearth_lowres'))\n"
     ]
    }
   ],
   "source": []
  },
  {
   "cell_type": "code",
   "execution_count": 9,
   "metadata": {},
   "outputs": [
    {
     "name": "stderr",
     "output_type": "stream",
     "text": [
      "/tmp/ipykernel_15252/815532472.py:6: FutureWarning: The geopandas.dataset module is deprecated and will be removed in GeoPandas 1.0. You can get the original 'naturalearth_lowres' data from https://www.naturalearthdata.com/downloads/110m-cultural-vectors/.\n",
      "  world = gpd.read_file(gpd.datasets.get_path('naturalearth_lowres'))\n"
     ]
    },
    {
     "name": "stdout",
     "output_type": "stream",
     "text": [
      "ERROR! Session/line number was not unique in database. History logging moved to new session 553\n"
     ]
    }
   ],
   "source": [
    "import rasterio\n",
    "from rasterio.mask import mask\n",
    "from scipy.ndimage import generic_filter\n",
    "\n",
    "# Download the world countries shapefile\n",
    "world = gpd.read_file(gpd.datasets.get_path('naturalearth_lowres'))\n",
    "\n",
    "# Get the geometry of Portugal\n",
    "portugal = world[world['name'] == 'Portugal']['geometry'].values[0]\n",
    "\n",
    "with rasterio.open('md30_grd/md30_grd/w001001.adf') as src:\n",
    "    # Clip the raster to the extent of Portugal\n",
    "    out_image, out_transform = mask(src, [portugal.__geo_interface__], crop=True)\n",
    "    out_meta = src.meta.copy()\n",
    "    out_meta.update({\"driver\": \"GTiff\",\n",
    "                     \"height\": out_image.shape[1],\n",
    "                     \"width\": out_image.shape[2],\n",
    "                     \"transform\": out_transform})\n",
    "\n",
    "# Save the clipped raster\n",
    "with rasterio.open('clipped.tif', 'w', **out_meta) as dest:\n",
    "    dest.write(out_image)\n",
    "\n",
    "# Now you can calculate the TRI on the clipped raster\n",
    "with rasterio.open('clipped.tif') as src:\n",
    "    # Read the raster data\n",
    "    raster_data = src.read(1)\n",
    "\n",
    "    def calculate_tri(dem):\n",
    "        def tri_filter(x):\n",
    "            central_value = x[len(x) // 2]\n",
    "            return np.mean(np.abs(x - central_value))\n",
    "\n",
    "        return generic_filter(dem, tri_filter, size=3)\n",
    "\n",
    "    # Calculate TRI\n",
    "    tri = calculate_tri(raster_data)"
   ]
  }
 ],
 "metadata": {
  "kernelspec": {
   "display_name": "Python 3",
   "language": "python",
   "name": "python3"
  },
  "language_info": {
   "codemirror_mode": {
    "name": "ipython",
    "version": 3
   },
   "file_extension": ".py",
   "mimetype": "text/x-python",
   "name": "python",
   "nbconvert_exporter": "python",
   "pygments_lexer": "ipython3",
   "version": "3.10.12"
  }
 },
 "nbformat": 4,
 "nbformat_minor": 2
}
