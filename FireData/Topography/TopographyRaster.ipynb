{
 "cells": [
  {
   "cell_type": "code",
   "execution_count": 1,
   "metadata": {},
   "outputs": [],
   "source": [
    "import rasterio\n",
    "from rasterio.mask import mask\n",
    "from scipy.ndimage import generic_filter\n",
    "import geopandas as gpd\n",
    "import numpy as np\n",
    "from pyproj import Proj, transform\n",
    "import pandas as pd"
   ]
  },
  {
   "cell_type": "code",
   "execution_count": 2,
   "metadata": {},
   "outputs": [
    {
     "name": "stdout",
     "output_type": "stream",
     "text": [
      "POLYGON ((-9.034817674180246 41.880570583659676, -8.67194576662672 42.13468943945496, -8.263856980817792 42.28046865495034, -8.013174607769912 41.790886135417125, -7.422512986673795 41.79207469335984, -7.251308966490824 41.91834605566505, -6.6686055159676565 41.883386949219584, -6.389087693700915 41.381815497394655, -6.851126674822552 41.11108266861753, -6.864019944679385 40.33087189387483, -7.026413133156595 40.184524237624245, -7.066591559263529 39.711891587882775, -7.498632371439726 39.62957103124181, -7.098036668313128 39.03007274022379, -7.374092169616318 38.37305858006492, -7.029281175148796 38.07576406508977, -7.166507941099865 37.803894354802225, -7.537105475281024 37.42890432387624, -7.453725551778092 37.09778758396607, -7.855613165711986 36.83826854099627, -8.382816127953689 36.97888011326246, -8.898856980820327 36.86880931248078, -8.746101446965554 37.65134552667661, -8.83999752443988 38.266243394517616, -9.287463751655224 38.3584858261586, -9.526570603869715 38.73742910415491, -9.446988898140233 39.39206614842837, -9.048305223008427 39.75509308527877, -8.977353481471681 40.15930613866581, -8.768684047877102 40.76063894303019, -8.79085323733031 41.18433401139126, -8.99078935386757 41.54345937760364, -9.034817674180246 41.880570583659676))\n"
     ]
    },
    {
     "name": "stderr",
     "output_type": "stream",
     "text": [
      "/tmp/ipykernel_17933/3069684263.py:1: FutureWarning: The geopandas.dataset module is deprecated and will be removed in GeoPandas 1.0. You can get the original 'naturalearth_lowres' data from https://www.naturalearthdata.com/downloads/110m-cultural-vectors/.\n",
      "  world = gpd.read_file(gpd.datasets.get_path('naturalearth_lowres'))\n"
     ]
    }
   ],
   "source": [
    "world = gpd.read_file(gpd.datasets.get_path('naturalearth_lowres'))\n",
    "\n",
    "portugal = world[world['name'] == 'Portugal']['geometry'].values[0]\n",
    "\n",
    "print(portugal)"
   ]
  },
  {
   "cell_type": "code",
   "execution_count": null,
   "metadata": {},
   "outputs": [],
   "source": [
    "NaturalFires = pd.read_csv('NaturalFires.csv')"
   ]
  },
  {
   "cell_type": "code",
   "execution_count": 3,
   "metadata": {},
   "outputs": [
    {
     "name": "stdout",
     "output_type": "stream",
     "text": [
      "17\n"
     ]
    },
    {
     "name": "stderr",
     "output_type": "stream",
     "text": [
      "/home/ori/.local/lib/python3.10/site-packages/pyproj/crs/crs.py:141: FutureWarning: '+init=<authority>:<code>' syntax is deprecated. '<authority>:<code>' is the preferred initialization method. When making the change, be mindful of axis order changes: https://pyproj4.github.io/pyproj/stable/gotchas.html#axis-order-changes-in-proj-6\n",
      "  in_crs_string = _prepare_from_proj_string(in_crs_string)\n",
      "/tmp/ipykernel_17933/44699290.py:42: FutureWarning: This function is deprecated. See: https://pyproj4.github.io/pyproj/stable/gotchas.html#upgrading-to-pyproj-2-from-pyproj-1\n",
      "  longitude_proj, latitude_proj = transform(src_crs, dst_crs, longitude, latitude)\n"
     ]
    }
   ],
   "source": [
    "with rasterio.open('md75_grd/md75_grd/w001001.adf') as src:\n",
    "    # Clip the raster to the extent of Portugal\n",
    "    out_image, out_transform = mask(src, [portugal.__geo_interface__], crop=True)\n",
    "    out_meta = src.meta.copy()\n",
    "    out_meta.update({\"driver\": \"GTiff\",\n",
    "                     \"height\": out_image.shape[1],\n",
    "                     \"width\": out_image.shape[2],\n",
    "                     \"transform\": out_transform})\n",
    "\n",
    "# Save the clipped raster\n",
    "with rasterio.open('clipped.tif', 'w', **out_meta) as dest:\n",
    "    dest.write(out_image)\n",
    "\n",
    "# Now you can calculate the TRI on the clipped raster\n",
    "with rasterio.open('clipped.tif') as src:\n",
    "    # Read the raster data\n",
    "    raster_data = src.read(1)\n",
    "\n",
    "    def calculate_tri(dem):\n",
    "        def tri_filter(x):\n",
    "            central_value = x[len(x) // 2]\n",
    "            return np.mean(np.abs(x - central_value))\n",
    "\n",
    "        return generic_filter(dem, tri_filter, size=3)\n",
    "\n",
    "    # Calculate TRI\n",
    "    tri = calculate_tri(raster_data)\n",
    "\n",
    "\n",
    "longitude = 37.283231\n",
    "latitude = -8.5772292\n",
    "\n",
    "# Define the source CRS (WGS84)\n",
    "src_crs = Proj(init='EPSG:4326')\n",
    "\n",
    "# Get the CRS of the raster data\n",
    "dst_crs = Proj(src.crs)\n",
    "\n",
    "# Convert the coordinates to the raster data's CRS\n",
    "longitude_proj, latitude_proj = transform(src_crs, dst_crs, longitude, latitude)\n",
    "\n",
    "# Convert the projected coordinates to raster indices\n",
    "row, col = src.index(longitude_proj, latitude_proj)\n",
    "\n",
    "# Check if the indices are within the dimensions of the array\n",
    "if 0 <= row < tri.shape[0] and 0 <= col < tri.shape[1]:\n",
    "    tri_value = tri[row, col]\n",
    "    print(tri_value)\n",
    "else:\n",
    "    print(f\"The coordinates ({longitude}, {latitude}) are outside the extent of the raster.\")"
   ]
  },
  {
   "cell_type": "code",
   "execution_count": null,
   "metadata": {},
   "outputs": [],
   "source": []
  },
  {
   "cell_type": "code",
   "execution_count": 4,
   "metadata": {},
   "outputs": [
    {
     "name": "stdout",
     "output_type": "stream",
     "text": [
      "89.994255\n"
     ]
    },
    {
     "name": "stderr",
     "output_type": "stream",
     "text": [
      "/home/ori/.local/lib/python3.10/site-packages/pyproj/crs/crs.py:141: FutureWarning: '+init=<authority>:<code>' syntax is deprecated. '<authority>:<code>' is the preferred initialization method. When making the change, be mindful of axis order changes: https://pyproj4.github.io/pyproj/stable/gotchas.html#axis-order-changes-in-proj-6\n",
      "  in_crs_string = _prepare_from_proj_string(in_crs_string)\n",
      "/tmp/ipykernel_17933/3793152031.py:26: FutureWarning: This function is deprecated. See: https://pyproj4.github.io/pyproj/stable/gotchas.html#upgrading-to-pyproj-2-from-pyproj-1\n",
      "  longitude_proj, latitude_proj = transform(src_crs, dst_crs, longitude, latitude)\n"
     ]
    }
   ],
   "source": [
    "from osgeo import gdal\n",
    "from pyproj import Proj, transform\n",
    "\n",
    "longitude = 37.283231\n",
    "latitude = -8.5772292\n",
    "\n",
    "# Open the DEM file\n",
    "dem = gdal.Open('clipped.tif')  # replace 'clipped.tif' with your DEM file\n",
    "\n",
    "# Calculate the slope\n",
    "gdal.DEMProcessing('slope.tif', dem, 'slope')\n",
    "\n",
    "# Close the DEM file\n",
    "dem = None\n",
    "\n",
    "# Open the slope file\n",
    "slope_ds = gdal.Open('slope.tif')\n",
    "\n",
    "# Get the CRS of the raster data\n",
    "dst_crs = Proj(slope_ds.GetProjection())\n",
    "\n",
    "# Define the source CRS (WGS84)\n",
    "src_crs = Proj(init='EPSG:4326')\n",
    "\n",
    "# Convert the coordinates to the raster data's CRS\n",
    "longitude_proj, latitude_proj = transform(src_crs, dst_crs, longitude, latitude)\n",
    "\n",
    "# Convert the projected coordinates to raster indices\n",
    "gt = slope_ds.GetGeoTransform()\n",
    "col = int((longitude_proj - gt[0]) / gt[1])\n",
    "row = int((latitude_proj - gt[3]) / gt[5])\n",
    "\n",
    "# Read the slope data\n",
    "slope_data = slope_ds.ReadAsArray()\n",
    "\n",
    "# Check if the indices are within the dimensions of the array\n",
    "if 0 <= row < slope_data.shape[0] and 0 <= col < slope_data.shape[1]:\n",
    "    slope_value = slope_data[row, col]\n",
    "    print(slope_value)\n",
    "else:\n",
    "    print(f\"The coordinates ({longitude}, {latitude}) are outside the extent of the raster.\")\n",
    "\n",
    "# Close the slope file\n",
    "slope_ds = None"
   ]
  },
  {
   "cell_type": "code",
   "execution_count": 9,
   "metadata": {},
   "outputs": [
    {
     "name": "stdout",
     "output_type": "stream",
     "text": [
      "Cell size in x direction: 0.00833333333333337\n",
      "Cell size in y direction: 0.00833333333333337\n"
     ]
    }
   ],
   "source": [
    "import rasterio\n",
    "\n",
    "# Open the raster file\n",
    "with rasterio.open('clipped.tif') as src:\n",
    "    # Get the cell size\n",
    "    cellsize_x, cellsize_y = src.res\n",
    "\n",
    "print('Cell size in x direction:', cellsize_x)\n",
    "print('Cell size in y direction:', cellsize_y)"
   ]
  },
  {
   "cell_type": "code",
   "execution_count": 10,
   "metadata": {},
   "outputs": [],
   "source": [
    "def calculate_slope(dem, cellsize):\n",
    "    def slope_filter(window):\n",
    "        # Reshape the window to a 3x3 array\n",
    "        matrix = window.reshape((3, 3))\n",
    "\n",
    "        # Calculate the derivatives in the x and y directions\n",
    "        dz_dx = (matrix[1, 2] - matrix[1, 0]) / (2 * cellsize)\n",
    "        dz_dy = (matrix[2, 1] - matrix[0, 1]) / (2 * cellsize)\n",
    "\n",
    "        # Calculate the slope\n",
    "        slope = np.sqrt(dz_dx**2 + dz_dy**2)\n",
    "\n",
    "        return slope\n",
    "\n",
    "    return generic_filter(dem, slope_filter, size=3)\n",
    "\n",
    "# Calculate slope\n",
    "cellsize = 0.00833333333333337  # replace with your actual cell size\n",
    "slope = calculate_slope(raster_data, cellsize)"
   ]
  },
  {
   "cell_type": "code",
   "execution_count": 16,
   "metadata": {},
   "outputs": [
    {
     "ename": "ValueError",
     "evalue": "The coordinate is on the edge of the raster or outside the raster",
     "output_type": "error",
     "traceback": [
      "\u001b[0;31m---------------------------------------------------------------------------\u001b[0m",
      "\u001b[0;31mValueError\u001b[0m                                Traceback (most recent call last)",
      "Cell \u001b[0;32mIn[16], line 39\u001b[0m\n\u001b[1;32m     37\u001b[0m lon \u001b[38;5;241m=\u001b[39m \u001b[38;5;241m37.283231\u001b[39m  \u001b[38;5;66;03m# replace with your actual longitude\u001b[39;00m\n\u001b[1;32m     38\u001b[0m lat \u001b[38;5;241m=\u001b[39m \u001b[38;5;241m-\u001b[39m\u001b[38;5;241m8.5772292\u001b[39m  \u001b[38;5;66;03m# replace with your actual latitude\u001b[39;00m\n\u001b[0;32m---> 39\u001b[0m slope \u001b[38;5;241m=\u001b[39m \u001b[43mcalculate_slope_at_coordinate\u001b[49m\u001b[43m(\u001b[49m\u001b[43mraster_data\u001b[49m\u001b[43m,\u001b[49m\u001b[43m \u001b[49m\u001b[43mlon\u001b[49m\u001b[43m,\u001b[49m\u001b[43m \u001b[49m\u001b[43mlat\u001b[49m\u001b[43m,\u001b[49m\u001b[43m \u001b[49m\u001b[43mtransform\u001b[49m\u001b[43m)\u001b[49m\n\u001b[1;32m     40\u001b[0m \u001b[38;5;28mprint\u001b[39m(slope)\n",
      "Cell \u001b[0;32mIn[16], line 21\u001b[0m, in \u001b[0;36mcalculate_slope_at_coordinate\u001b[0;34m(dem, lon, lat, transform)\u001b[0m\n\u001b[1;32m     19\u001b[0m \u001b[38;5;66;03m# Check if the coordinate is within the bounds of the raster\u001b[39;00m\n\u001b[1;32m     20\u001b[0m \u001b[38;5;28;01mif\u001b[39;00m row \u001b[38;5;241m<\u001b[39m\u001b[38;5;241m=\u001b[39m \u001b[38;5;241m0\u001b[39m \u001b[38;5;129;01mor\u001b[39;00m row \u001b[38;5;241m>\u001b[39m\u001b[38;5;241m=\u001b[39m dem\u001b[38;5;241m.\u001b[39mshape[\u001b[38;5;241m0\u001b[39m] \u001b[38;5;241m-\u001b[39m \u001b[38;5;241m1\u001b[39m \u001b[38;5;129;01mor\u001b[39;00m col \u001b[38;5;241m<\u001b[39m\u001b[38;5;241m=\u001b[39m \u001b[38;5;241m0\u001b[39m \u001b[38;5;129;01mor\u001b[39;00m col \u001b[38;5;241m>\u001b[39m\u001b[38;5;241m=\u001b[39m dem\u001b[38;5;241m.\u001b[39mshape[\u001b[38;5;241m1\u001b[39m] \u001b[38;5;241m-\u001b[39m \u001b[38;5;241m1\u001b[39m:\n\u001b[0;32m---> 21\u001b[0m     \u001b[38;5;28;01mraise\u001b[39;00m \u001b[38;5;167;01mValueError\u001b[39;00m(\u001b[38;5;124m'\u001b[39m\u001b[38;5;124mThe coordinate is on the edge of the raster or outside the raster\u001b[39m\u001b[38;5;124m'\u001b[39m)\n\u001b[1;32m     23\u001b[0m \u001b[38;5;66;03m# Extract a 3x3 window around the cell\u001b[39;00m\n\u001b[1;32m     24\u001b[0m window \u001b[38;5;241m=\u001b[39m dem[row\u001b[38;5;241m-\u001b[39m\u001b[38;5;241m1\u001b[39m:row\u001b[38;5;241m+\u001b[39m\u001b[38;5;241m2\u001b[39m, col\u001b[38;5;241m-\u001b[39m\u001b[38;5;241m1\u001b[39m:col\u001b[38;5;241m+\u001b[39m\u001b[38;5;241m2\u001b[39m]\n",
      "\u001b[0;31mValueError\u001b[0m: The coordinate is on the edge of the raster or outside the raster"
     ]
    }
   ],
   "source": [
    "def calculate_slope(dem):\n",
    "    # Calculate the derivatives in the x and y directions\n",
    "    dz_dx = (dem[1, 2] - dem[1, 0]) / 2\n",
    "    dz_dy = (dem[2, 1] - dem[0, 1]) / 2\n",
    "\n",
    "    # Calculate the slope\n",
    "    slope = np.sqrt(dz_dx**2 + dz_dy**2)\n",
    "\n",
    "    return slope\n",
    "\n",
    "def calculate_slope_at_coordinate(dem, lon, lat, transform):\n",
    "    # Convert the geographic coordinates to the raster's coordinate system\n",
    "    col, row = ~transform * (lon, lat)\n",
    "\n",
    "    # Make sure the row and column are integers\n",
    "    col = int(col)\n",
    "    row = int(row)\n",
    "\n",
    "    # Check if the coordinate is within the bounds of the raster\n",
    "    if row <= 0 or row >= dem.shape[0] - 1 or col <= 0 or col >= dem.shape[1] - 1:\n",
    "        raise ValueError('The coordinate is on the edge of the raster or outside the raster')\n",
    "\n",
    "    # Extract a 3x3 window around the cell\n",
    "    window = dem[row-1:row+2, col-1:col+2]\n",
    "\n",
    "    # Calculate the slope for the window\n",
    "    slope = calculate_slope(window)\n",
    "\n",
    "    return slope\n",
    "\n",
    "\n",
    "# Get the raster's transform\n",
    "with rasterio.open('clipped.tif') as src:\n",
    "    transform = src.transform\n",
    "\n",
    "# Calculate the slope at the specific geographic coordinate\n",
    "lon = 37.283231  # replace with your actual longitude\n",
    "lat = -8.5772292  # replace with your actual latitude\n",
    "slope = calculate_slope_at_coordinate(raster_data, lon, lat, transform)\n",
    "print(slope)"
   ]
  },
  {
   "cell_type": "code",
   "execution_count": 17,
   "metadata": {},
   "outputs": [
    {
     "ename": "ValueError",
     "evalue": "The coordinate is outside the raster",
     "output_type": "error",
     "traceback": [
      "\u001b[0;31m---------------------------------------------------------------------------\u001b[0m",
      "\u001b[0;31mValueError\u001b[0m                                Traceback (most recent call last)",
      "Cell \u001b[0;32mIn[17], line 9\u001b[0m\n\u001b[1;32m      7\u001b[0m lat \u001b[38;5;241m=\u001b[39m \u001b[38;5;241m-\u001b[39m\u001b[38;5;241m8.5772292\u001b[39m  \u001b[38;5;66;03m# replace with your actual latitude\u001b[39;00m\n\u001b[1;32m      8\u001b[0m \u001b[38;5;28;01mif\u001b[39;00m \u001b[38;5;129;01mnot\u001b[39;00m (bounds\u001b[38;5;241m.\u001b[39mleft \u001b[38;5;241m<\u001b[39m lon \u001b[38;5;241m<\u001b[39m bounds\u001b[38;5;241m.\u001b[39mright \u001b[38;5;129;01mand\u001b[39;00m bounds\u001b[38;5;241m.\u001b[39mbottom \u001b[38;5;241m<\u001b[39m lat \u001b[38;5;241m<\u001b[39m bounds\u001b[38;5;241m.\u001b[39mtop):\n\u001b[0;32m----> 9\u001b[0m     \u001b[38;5;28;01mraise\u001b[39;00m \u001b[38;5;167;01mValueError\u001b[39;00m(\u001b[38;5;124m'\u001b[39m\u001b[38;5;124mThe coordinate is outside the raster\u001b[39m\u001b[38;5;124m'\u001b[39m)\n\u001b[1;32m     11\u001b[0m \u001b[38;5;66;03m# Calculate the slope at the specific geographic coordinate\u001b[39;00m\n\u001b[1;32m     12\u001b[0m slope \u001b[38;5;241m=\u001b[39m calculate_slope_at_coordinate(raster_data, lon, lat, transform)\n",
      "\u001b[0;31mValueError\u001b[0m: The coordinate is outside the raster"
     ]
    }
   ],
   "source": [
    "with rasterio.open('clipped.tif') as src:\n",
    "    transform = src.transform\n",
    "    bounds = src.bounds\n",
    "\n",
    "# Check if the coordinate is within the bounds of the raster\n",
    "lon = 37.283231  # replace with your actual longitude\n",
    "lat = -8.5772292  # replace with your actual latitude\n",
    "if not (bounds.left < lon < bounds.right and bounds.bottom < lat < bounds.top):\n",
    "    raise ValueError('The coordinate is outside the raster')\n",
    "\n",
    "# Calculate the slope at the specific geographic coordinate\n",
    "slope = calculate_slope_at_coordinate(raster_data, lon, lat, transform)\n",
    "print(slope)"
   ]
  }
 ],
 "metadata": {
  "kernelspec": {
   "display_name": "Python 3",
   "language": "python",
   "name": "python3"
  },
  "language_info": {
   "codemirror_mode": {
    "name": "ipython",
    "version": 3
   },
   "file_extension": ".py",
   "mimetype": "text/x-python",
   "name": "python",
   "nbconvert_exporter": "python",
   "pygments_lexer": "ipython3",
   "version": "3.10.12"
  }
 },
 "nbformat": 4,
 "nbformat_minor": 2
}
