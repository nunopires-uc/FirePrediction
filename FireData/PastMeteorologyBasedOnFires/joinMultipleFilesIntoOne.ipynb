{
 "cells": [
  {
   "cell_type": "code",
   "execution_count": 2,
   "metadata": {},
   "outputs": [
    {
     "name": "stdout",
     "output_type": "stream",
     "text": [
      "['Samples/CopernicusToOpenMeteo/stations2.csv', 'Samples/CopernicusToOpenMeteo/stations4.csv', 'Samples/CopernicusToOpenMeteo/stations.csv', 'Samples/CopernicusToOpenMeteo/stations3.csv']\n"
     ]
    }
   ],
   "source": [
    "import pandas as pd\n",
    "import glob\n",
    "files = glob.glob('Samples/CopernicusToOpenMeteo/stations*.csv')\n",
    "print(files)\n",
    "\n",
    "df_list = [pd.read_csv(file) for file in files]\n",
    "df = pd.concat(df_list, ignore_index=True)\n",
    "df.to_csv('Samples/CopernicusToOpenMeteo/combinedStations.csv', index=False)"
   ]
  }
 ],
 "metadata": {
  "kernelspec": {
   "display_name": "Python 3",
   "language": "python",
   "name": "python3"
  },
  "language_info": {
   "codemirror_mode": {
    "name": "ipython",
    "version": 3
   },
   "file_extension": ".py",
   "mimetype": "text/x-python",
   "name": "python",
   "nbconvert_exporter": "python",
   "pygments_lexer": "ipython3",
   "version": "3.10.12"
  }
 },
 "nbformat": 4,
 "nbformat_minor": 2
}
