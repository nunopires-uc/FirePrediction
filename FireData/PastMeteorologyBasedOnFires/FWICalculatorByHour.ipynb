{
 "cells": [
  {
   "cell_type": "code",
   "execution_count": 2,
   "metadata": {},
   "outputs": [],
   "source": [
    "import pandas as pd\n",
    "import FWI\n",
    "import matplotlib.pyplot as plt\n",
    "import numpy as np\n",
    "\n",
    "def total_precipitation(initial_date, final_date, dmet):\n",
    "    dmet['hourly.time'] = pd.to_datetime(dmet['hourly.time'])\n",
    "    dmet_copy = dmet.copy()\n",
    "    dmet_copy.set_index('hourly.time', inplace=True)\n",
    "    selected_rows = dmet_copy.loc[initial_date:final_date]\n",
    "    total_precipitation = selected_rows['hourly.precipitation'].sum()\n",
    "\n",
    "    return total_precipitation"
   ]
  },
  {
   "cell_type": "code",
   "execution_count": 15,
   "metadata": {},
   "outputs": [
    {
     "name": "stdout",
     "output_type": "stream",
     "text": [
      "2015-06-20T12:00\n",
      "06 20\n",
      "2015-06-20 13:00:00\n"
     ]
    },
    {
     "ename": "AttributeError",
     "evalue": "'Timestamp' object has no attribute 'split'",
     "output_type": "error",
     "traceback": [
      "\u001b[0;31m---------------------------------------------------------------------------\u001b[0m",
      "\u001b[0;31mAttributeError\u001b[0m                            Traceback (most recent call last)",
      "Cell \u001b[0;32mIn[15], line 25\u001b[0m\n\u001b[1;32m     23\u001b[0m iso_timestamp \u001b[38;5;241m=\u001b[39m dmet\u001b[38;5;241m.\u001b[39miloc[i][\u001b[38;5;124m'\u001b[39m\u001b[38;5;124mhourly.time\u001b[39m\u001b[38;5;124m'\u001b[39m]\n\u001b[1;32m     24\u001b[0m \u001b[38;5;28mprint\u001b[39m(iso_timestamp)\n\u001b[0;32m---> 25\u001b[0m MONTH \u001b[38;5;241m=\u001b[39m \u001b[43miso_timestamp\u001b[49m\u001b[38;5;241;43m.\u001b[39;49m\u001b[43msplit\u001b[49m(\u001b[38;5;124m'\u001b[39m\u001b[38;5;124m-\u001b[39m\u001b[38;5;124m'\u001b[39m)[\u001b[38;5;241m1\u001b[39m]\n\u001b[1;32m     26\u001b[0m DAY \u001b[38;5;241m=\u001b[39m iso_timestamp\u001b[38;5;241m.\u001b[39msplit(\u001b[38;5;124m'\u001b[39m\u001b[38;5;124m-\u001b[39m\u001b[38;5;124m'\u001b[39m)[\u001b[38;5;241m2\u001b[39m]\u001b[38;5;241m.\u001b[39msplit(\u001b[38;5;124m'\u001b[39m\u001b[38;5;124mT\u001b[39m\u001b[38;5;124m'\u001b[39m)[\u001b[38;5;241m0\u001b[39m]\n\u001b[1;32m     27\u001b[0m \u001b[38;5;66;03m#HOUR = iso_timestamp.split('T')[1].split(':')[0]\u001b[39;00m\n",
      "\u001b[0;31mAttributeError\u001b[0m: 'Timestamp' object has no attribute 'split'"
     ]
    }
   ],
   "source": [
    "dmet = pd.read_csv('Samples/2015/2015.csv')\n",
    "start_index = 0 + 12\n",
    "LAT = 40.20875\n",
    "FFMCPrev = 94.29084014892578\n",
    "DMCPrev = 65.2578125\n",
    "DCPrev = 370.92425537109375\n",
    "\n",
    "mts = {5: 31,\n",
    "       6: 30,\n",
    "       7: 31,\n",
    "       8:31, \n",
    "       9:30, \n",
    "       10:31}\n",
    "\n",
    "fwix_values = [None] * len(dmet)\n",
    "ffmc_values = [None] * len(dmet)\n",
    "dmc_values = [None] * len(dmet)\n",
    "dc_values = [None] * len(dmet)\n",
    "isi_values = [None] * len(dmet)\n",
    "bui_values = [None] * len(dmet)\n",
    "\n",
    "for i in range(start_index, len(dmet)):\n",
    "    iso_timestamp = dmet.iloc[i]['hourly.time']\n",
    "    print(iso_timestamp)\n",
    "    MONTH = iso_timestamp.split('-')[1]\n",
    "    DAY = iso_timestamp.split('-')[2].split('T')[0]\n",
    "    #HOUR = iso_timestamp.split('T')[1].split(':')[0]\n",
    "\n",
    "    print(MONTH, DAY)\n",
    "\n",
    "    TEMP = dmet.iloc[i]['hourly.temperature_2m']\n",
    "    RH = dmet.iloc[i]['hourly.relative_humidity_2m']\n",
    "    WIND = dmet.iloc[i]['hourly.wind_speed_10m']\n",
    "\n",
    "    if(int(DAY) == 1):\n",
    "        LAST_DAY = mts[int(MONTH) - 1]\n",
    "        LAST_MONTH = str(int(MONTH) - 1)\n",
    "        \n",
    "        if(int(LAST_MONTH) < 10):\n",
    "            LAST_MONTH = '0' + str(int(LAST_MONTH))\n",
    "            \n",
    "        initial_date = f'2015-{LAST_MONTH}-{LAST_DAY}T12:00'\n",
    "        final_date = f'2015-{MONTH}-{DAY}T12:00'\n",
    "\n",
    "    elif((int(DAY) < 10) and (int(DAY) > 1)):\n",
    "        id = '0' + str(int(DAY)-1)\n",
    "        fd = '0' + str(int(DAY))\n",
    "\n",
    "        initial_date = f'2015-{MONTH}-{id}T12:00'\n",
    "        final_date = f'2015-{MONTH}-{fd}T12:00'\n",
    "    else:\n",
    "        id = str(int(DAY)-1)\n",
    "        fd = str(int(DAY))\n",
    "\n",
    "        initial_date = f'2015-{MONTH}-{id}T12:00'\n",
    "        final_date = f'2015-{MONTH}-{fd}T12:00'\n",
    "\n",
    "    \n",
    "    RAIN = total_precipitation(initial_date, final_date, dmet)\n",
    "    \n",
    "    FFMCPrev = FWI.FFMC(TEMP,RH,WIND,RAIN,FFMCPrev)\n",
    "    DMCPrev = FWI.DMC(TEMP,RH,RAIN,DMCPrev,LAT,int(MONTH))\n",
    "    DCPrev = FWI.DC(TEMP,RAIN,DCPrev,LAT,int(MONTH))\n",
    "    isi = FWI.ISI(WIND, FFMCPrev)\n",
    "    bui = FWI.BUI(DMCPrev,DCPrev)\n",
    "    fwix = FWI.FWI(isi, bui)\n",
    "\n",
    "    fwix_values[i] = fwix\n",
    "    ffmc_values[i] = FFMCPrev\n",
    "    dmc_values[i] = DMCPrev\n",
    "    dc_values[i] = DCPrev\n",
    "    isi_values[i] = isi\n",
    "    bui_values[i] = bui\n",
    "\n",
    "\n",
    "dmet['fwix'] = fwix_values\n",
    "dmet['ffmc'] = ffmc_values\n",
    "dmet['dmc'] = dmc_values\n",
    "dmet['dc'] = dc_values\n",
    "dmet['isi'] = isi_values\n",
    "dmet['bui'] = bui_values\n",
    "\n",
    "\n",
    "dmet.to_csv('Samples/2015/2015MidDayFWIX.csv', index=False)"
   ]
  }
 ],
 "metadata": {
  "kernelspec": {
   "display_name": "Python 3",
   "language": "python",
   "name": "python3"
  },
  "language_info": {
   "codemirror_mode": {
    "name": "ipython",
    "version": 3
   },
   "file_extension": ".py",
   "mimetype": "text/x-python",
   "name": "python",
   "nbconvert_exporter": "python",
   "pygments_lexer": "ipython3",
   "version": "3.10.12"
  }
 },
 "nbformat": 4,
 "nbformat_minor": 2
}
