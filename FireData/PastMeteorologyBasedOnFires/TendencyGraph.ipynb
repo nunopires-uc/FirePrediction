{
 "cells": [
  {
   "cell_type": "code",
   "execution_count": null,
   "metadata": {},
   "outputs": [],
   "source": [
    "import pandas as pd\n",
    "import numpy as np\n",
    "pdtotal = pd.read_csv('Samples/2015/2019byHourFWIXFFMCFireHour.csv')\n",
    "\n",
    "var = \"ISI\"\n",
    "var_field = \"isi\"\n",
    "\n",
    "chunk_size = 24*3\n",
    "num_chunks = len(pdtotal) // chunk_size + 1\n",
    "print(num_chunks)\n",
    "\n",
    "\n",
    "for i in range(num_chunks):\n",
    "    chunk = pdtotal[i*chunk_size:(i+1)*chunk_size]\n",
    "    if chunk.empty:\n",
    "        continue\n",
    "    \n"
   ]
  }
 ],
 "metadata": {
  "language_info": {
   "name": "python"
  }
 },
 "nbformat": 4,
 "nbformat_minor": 2
}
