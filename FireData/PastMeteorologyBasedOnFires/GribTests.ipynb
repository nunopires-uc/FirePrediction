{
 "cells": [
  {
   "cell_type": "code",
   "execution_count": 3,
   "metadata": {},
   "outputs": [
    {
     "name": "stdout",
     "output_type": "stream",
     "text": [
      "<xarray.Dataset> Size: 1MB\n",
      "Dimensions:    (time: 122, latitude: 23, longitude: 14)\n",
      "Coordinates:\n",
      "  * time       (time) datetime64[ns] 976B 2015-06-01T12:00:00 ... 2015-09-30T...\n",
      "    surface    float64 8B ...\n",
      "  * latitude   (latitude) float64 184B 42.2 41.95 41.7 41.45 ... 37.2 36.95 36.7\n",
      "  * longitude  (longitude) float64 112B 350.2 350.4 350.7 ... 352.9 353.2 353.4\n",
      "Data variables:\n",
      "    fbupinx    (time, latitude, longitude) float32 157kB ...\n",
      "    drtcode    (time, latitude, longitude) float32 157kB ...\n",
      "    dufmcode   (time, latitude, longitude) float32 157kB ...\n",
      "    ffmcode    (time, latitude, longitude) float32 157kB ...\n",
      "    fdsrte     (time, latitude, longitude) float32 157kB ...\n",
      "    fwinx      (time, latitude, longitude) float32 157kB ...\n",
      "    infsinx    (time, latitude, longitude) float32 157kB ...\n",
      "Attributes:\n",
      "    GRIB_edition:            2\n",
      "    GRIB_centre:             ecmf\n",
      "    GRIB_centreDescription:  European Centre for Medium-Range Weather Forecasts\n",
      "    GRIB_subCentre:          0\n",
      "    Conventions:             CF-1.7\n",
      "    institution:             European Centre for Medium-Range Weather Forecasts\n",
      "    history:                 2024-03-26T20:05 GRIB to CDM+CF via cfgrib-0.9.1...\n"
     ]
    }
   ],
   "source": [
    "#pip3 install cfgrib\n",
    "#pip install eccodes-python\n",
    "#!pip3 install cfgrib\n",
    "#!pip3 install eccodes-python\n",
    "#!pip3 install xarray\n",
    "#!pip3 install matplotlib\n",
    "#!pip3 install pandas\n",
    "#!pip3 install eccodes \n",
    "import xarray as xrs\n",
    "import pandas as pd\n",
    "import matplotlib.pyplot as plt\n",
    "import numpy as np\n",
    "import cfgrib\n",
    "\n",
    "ds = xrs.open_dataset(\"g20152019/adaptor.mars.external-1710758226.700941-22261-8-30103376-956a-4a3b-9de7-0fe42d09489f.grib\", engine='cfgrib')\n",
    "print(ds)"
   ]
  },
  {
   "cell_type": "code",
   "execution_count": 30,
   "metadata": {},
   "outputs": [],
   "source": [
    "import math\n",
    "def DistanceTwoPoints(lat1, lon1, lat2, lon2):\n",
    "    R = 6371e3  # Radius of the Earth in meters\n",
    "    phi1 = math.radians(lat1)\n",
    "    phi2 = math.radians(lat2)\n",
    "    delta_phi = math.radians(lat2 - lat1)\n",
    "    delta_lambda = math.radians(lon2 - lon1)\n",
    "\n",
    "    a = math.sin(delta_phi / 2)**2 + math.cos(phi1) * math.cos(phi2) * math.sin(delta_lambda / 2)**2\n",
    "    c = 2 * math.atan2(math.sqrt(a), math.sqrt(1 - a))\n",
    "\n",
    "    return R * c  # Distance in meters\n",
    "\n",
    "def count_decimal_places(number):\n",
    "    str_num = str(number)\n",
    "    if '.' in str_num:\n",
    "        return len(str_num) - str_num.index('.') - 1\n",
    "    else:\n",
    "        return 0\n",
    "\n",
    "def find_nearest(lat, lon, latitudes, longitudes):\n",
    "    min_distance = None\n",
    "    nearest_point = None\n",
    "\n",
    "    for lat2, lon2 in zip(latitudes, longitudes):\n",
    "        distance = DistanceTwoPoints(lat, lon, lat2, lon2)\n",
    "        if min_distance is None or distance < min_distance:\n",
    "            min_distance = distance\n",
    "            nearest_point = (lat2, lon2)\n",
    "\n",
    "    return min_distance, nearest_point\n",
    "\n",
    "\n",
    "def find_nearest_index(lat, lon, latitudes, longitudes):\n",
    "    distances = np.array([DistanceTwoPoints(lat, lon, lat2, lon2) for lat2, lon2 in zip(latitudes, longitudes)])\n",
    "    sorted_distances_indices = np.argsort(distances)\n",
    "    nearest_points = [(latitudes[i], longitudes[i]) for i in sorted_distances_indices[:4]]\n",
    "    min_distances = distances[sorted_distances_indices[:4]]\n",
    "    return min_distances, nearest_points\n",
    "\n",
    "\n",
    "def convert_latitude(lon):\n",
    "    if lon > 180:\n",
    "        return lon - 360\n",
    "    return lon\n",
    "\n",
    "def convert_longitude360(lon):\n",
    "    if lon < 0:\n",
    "        return lon + 360\n",
    "    return lon"
   ]
  },
  {
   "cell_type": "code",
   "execution_count": 15,
   "metadata": {},
   "outputs": [
    {
     "name": "stdout",
     "output_type": "stream",
     "text": [
      "Coordinates: Coordinates:\n",
      "  * time       (time) datetime64[ns] 976B 2015-06-01T12:00:00 ... 2015-09-30T...\n",
      "    surface    float64 8B ...\n",
      "  * latitude   (latitude) float64 184B 42.2 41.95 41.7 41.45 ... 37.2 36.95 36.7\n",
      "  * longitude  (longitude) float64 112B 350.2 350.4 350.7 ... 352.9 353.2 353.4\n",
      "Variables: Data variables:\n",
      "    fbupinx   (time, latitude, longitude) float32 157kB ...\n",
      "    drtcode   (time, latitude, longitude) float32 157kB ...\n",
      "    dufmcode  (time, latitude, longitude) float32 157kB ...\n",
      "    ffmcode   (time, latitude, longitude) float32 157kB ...\n",
      "    fdsrte    (time, latitude, longitude) float32 157kB ...\n",
      "    fwinx     (time, latitude, longitude) float32 157kB ...\n",
      "    infsinx   (time, latitude, longitude) float32 157kB ...\n"
     ]
    }
   ],
   "source": [
    "print(\"Coordinates:\", ds.coords)\n",
    "print(\"Variables:\", ds.data_vars)"
   ]
  },
  {
   "cell_type": "code",
   "execution_count": 16,
   "metadata": {},
   "outputs": [
    {
     "name": "stdout",
     "output_type": "stream",
     "text": [
      "41.95\n",
      "23\n",
      "14\n"
     ]
    }
   ],
   "source": [
    "fwinx = ds['fwinx']\n",
    "lat = ds['latitude']\n",
    "lon = ds['longitude']\n",
    "tm = ds['time']\n",
    "\n",
    "print(lat[1].coords['latitude'].values)\n",
    "print(len(lat))\n",
    "print(len(lon))\n",
    "#print(lon)"
   ]
  },
  {
   "cell_type": "code",
   "execution_count": 6,
   "metadata": {},
   "outputs": [
    {
     "name": "stdout",
     "output_type": "stream",
     "text": [
      "122\n",
      "23\n"
     ]
    }
   ],
   "source": [
    "print(len(ds['fwinx'].values))\n",
    "print(len(ds['fwinx'][0].values))"
   ]
  },
  {
   "cell_type": "code",
   "execution_count": 5,
   "metadata": {},
   "outputs": [
    {
     "name": "stdout",
     "output_type": "stream",
     "text": [
      "<xarray.DataArray 'fwinx' (latitude: 23, longitude: 14)> Size: 1kB\n",
      "[322 values with dtype=float32]\n",
      "Coordinates:\n",
      "    time       datetime64[ns] 8B 2015-06-20T12:00:00\n",
      "    surface    float64 8B ...\n",
      "  * latitude   (latitude) float64 184B 42.2 41.95 41.7 41.45 ... 37.2 36.95 36.7\n",
      "  * longitude  (longitude) float64 112B 350.2 350.4 350.7 ... 352.9 353.2 353.4\n",
      "Attributes: (12/28)\n",
      "    GRIB_paramId:                             260540\n",
      "    GRIB_dataType:                            fc\n",
      "    GRIB_numberOfPoints:                      322\n",
      "    GRIB_typeOfLevel:                         surface\n",
      "    GRIB_stepType:                            instant\n",
      "    GRIB_gridType:                            regular_ll\n",
      "    ...                                       ...\n",
      "    GRIB_name:                                Forest fire weather index\n",
      "    GRIB_shortName:                           fwinx\n",
      "    GRIB_units:                               Numeric\n",
      "    long_name:                                Forest fire weather index\n",
      "    units:                                    Numeric\n",
      "    standard_name:                            unknown\n",
      "[42.2  41.95 41.7  41.45 41.2  40.95 40.7  40.45 40.2  39.95 39.7  39.45\n",
      " 39.2  38.95 38.7  38.45 38.2  37.95 37.7  37.45 37.2  36.95 36.7 ]\n",
      "23\n",
      "[350.2  350.45 350.7  350.95 351.2  351.45 351.7  351.95 352.2  352.45\n",
      " 352.7  352.95 353.2  353.45]\n",
      "14\n",
      "322\n",
      "322\n",
      "5405.006646005345 (array(40.2), array(352.7))\n"
     ]
    }
   ],
   "source": [
    "# Select the 'fwinx' data variable at the desired time\n",
    "fwinx_at_time = ds['fwinx'].sel(time='2015-06-20T12:00:00')\n",
    "\n",
    "print(fwinx_at_time)\n",
    "\n",
    "# Get the 'latitude' coordinate\n",
    "latitudes = fwinx_at_time.latitude\n",
    "longitudes = fwinx_at_time.longitude\n",
    "\n",
    "# Print the latitudes\n",
    "print(latitudes.values)\n",
    "print(len(latitudes.values))\n",
    "print(longitudes.values)\n",
    "print(len(longitudes.values))\n",
    "\n",
    "novas_lat = []\n",
    "novas_lon = []\n",
    "for lat in range(len(latitudes)):\n",
    "    for lon in range(len(longitudes)):\n",
    "        #novas_lat.append(latitudes[lat])\n",
    "        novas_lat.append(latitudes[lat].values)\n",
    "        novas_lon.append(longitudes[lon].values)\n",
    "        #novas_lon.append(longitudes[lon])\n",
    "\n",
    "print(len(novas_lat))\n",
    "print(len(novas_lon))\n",
    "\n",
    "#,\n",
    "\n",
    "# 2015 40.20875,-7.36260499954224\n",
    "#\n",
    "#\n",
    "LATITUDE_SING = 40.20875\n",
    "LONGITUDE_SING = -7.36260499954224\n",
    "min_distance, nearest_point = find_nearest(LATITUDE_SING, LONGITUDE_SING, novas_lat, novas_lon)\n",
    "print(min_distance, nearest_point)"
   ]
  },
  {
   "cell_type": "code",
   "execution_count": 21,
   "metadata": {},
   "outputs": [
    {
     "name": "stdout",
     "output_type": "stream",
     "text": [
      "https://archive-api.open-meteo.com/v1/archive?latitude=37.45,37.45,37.45,37.45,37.45,37.45,37.45,37.45,37.45,37.45,37.2,37.2,37.2,37.2,37.2,37.2,37.2,37.2,37.2,37.2,37.2,37.2,37.2,37.2,36.95,36.95,36.95,36.95,36.95,36.95,36.95,36.95,36.95,36.95,36.95,36.95,36.95,36.95,36.7,36.7,36.7,36.7,36.7,36.7,36.7,36.7,36.7,36.7,36.7,36.7,36.7,36.7&longitude=-8.800000000000011,-8.550000000000011,-8.300000000000011,-8.050000000000011,-7.800000000000011,-7.550000000000011,-7.300000000000011,-7.050000000000011,-6.800000000000011,-6.550000000000011,-9.800000000000011,-9.550000000000011,-9.300000000000011,-9.050000000000011,-8.800000000000011,-8.550000000000011,-8.300000000000011,-8.050000000000011,-7.800000000000011,-7.550000000000011,-7.300000000000011,-7.050000000000011,-6.800000000000011,-6.550000000000011,-9.800000000000011,-9.550000000000011,-9.300000000000011,-9.050000000000011,-8.800000000000011,-8.550000000000011,-8.300000000000011,-8.050000000000011,-7.800000000000011,-7.550000000000011,-7.300000000000011,-7.050000000000011,-6.800000000000011,-6.550000000000011,-9.800000000000011,-9.550000000000011,-9.300000000000011,-9.050000000000011,-8.800000000000011,-8.550000000000011,-8.300000000000011,-8.050000000000011,-7.800000000000011,-7.550000000000011,-7.300000000000011,-7.050000000000011,-6.800000000000011,-6.550000000000011&start_date=2015-06-21,2015-06-21,2015-06-21,2015-06-21,2015-06-21,2015-06-21,2015-06-21,2015-06-21,2015-06-21,2015-06-21,2015-06-21,2015-06-21,2015-06-21,2015-06-21,2015-06-21,2015-06-21,2015-06-21,2015-06-21,2015-06-21,2015-06-21,2015-06-21,2015-06-21,2015-06-21,2015-06-21,2015-06-21,2015-06-21,2015-06-21,2015-06-21,2015-06-21,2015-06-21,2015-06-21,2015-06-21,2015-06-21,2015-06-21,2015-06-21,2015-06-21,2015-06-21,2015-06-21,2015-06-21,2015-06-21,2015-06-21,2015-06-21,2015-06-21,2015-06-21,2015-06-21,2015-06-21,2015-06-21,2015-06-21,2015-06-21,2015-06-21,2015-06-21,2015-06-21&end_date=2015-06-21,2015-06-21,2015-06-21,2015-06-21,2015-06-21,2015-06-21,2015-06-21,2015-06-21,2015-06-21,2015-06-21,2015-06-21,2015-06-21,2015-06-21,2015-06-21,2015-06-21,2015-06-21,2015-06-21,2015-06-21,2015-06-21,2015-06-21,2015-06-21,2015-06-21,2015-06-21,2015-06-21,2015-06-21,2015-06-21,2015-06-21,2015-06-21,2015-06-21,2015-06-21,2015-06-21,2015-06-21,2015-06-21,2015-06-21,2015-06-21,2015-06-21,2015-06-21,2015-06-21,2015-06-21,2015-06-21,2015-06-21,2015-06-21,2015-06-21,2015-06-21,2015-06-21,2015-06-21,2015-06-21,2015-06-21,2015-06-21,2015-06-21,2015-06-21,2015-06-21&hourly=temperature_2m,relative_humidity_2m,dew_point_2m,apparent_temperature,precipitation,rain,snowfall,snow_depth,weather_code,pressure_msl,surface_pressure,cloud_cover,cloud_cover_low,cloud_cover_mid,cloud_cover_high,et0_fao_evapotranspiration,vapour_pressure_deficit,wind_speed_10m,wind_speed_100m,wind_direction_10m,wind_direction_100m,wind_gusts_10m,soil_temperature_0_to_7cm,soil_temperature_7_to_28cm,soil_temperature_28_to_100cm,soil_temperature_100_to_255cm,soil_moisture_0_to_7cm,soil_moisture_7_to_28cm,soil_moisture_28_to_100cm,soil_moisture_100_to_255cm,is_day,sunshine_duration,shortwave_radiation,direct_radiation,diffuse_radiation,direct_normal_irradiance,global_tilted_irradiance,terrestrial_radiation,shortwave_radiation_instant,direct_radiation_instant,diffuse_radiation_instant,direct_normal_irradiance_instant,global_tilted_irradiance_instant,terrestrial_radiation_instant&timezone=GMT,GMT,GMT,GMT,GMT,GMT,GMT,GMT,GMT,GMT,GMT,GMT,GMT,GMT,GMT,GMT,GMT,GMT,GMT,GMT,GMT,GMT,GMT,GMT,GMT,GMT,GMT,GMT,GMT,GMT,GMT,GMT,GMT,GMT,GMT,GMT,GMT,GMT,GMT,GMT,GMT,GMT,GMT,GMT,GMT,GMT,GMT,GMT,GMT,GMT,GMT,GMT\n"
     ]
    }
   ],
   "source": [
    "#https://archive-api.open-meteo.com/v1/archive?latitude=40.2,40.2&longitude=-7.300000000000011,-7.550000000000011&start_date=2015-06-21,2015-06-21&end_date=2015-09-29,2015-09-29&hourly=temperature_2m,relative_humidity_2m,dew_point_2m,apparent_temperature,precipitation,rain,snowfall,snow_depth,weather_code,pressure_msl,surface_pressure,cloud_cover,cloud_cover_low,cloud_cover_mid,cloud_cover_high,et0_fao_evapotranspiration,vapour_pressure_deficit,wind_speed_10m,wind_speed_100m,wind_direction_10m,wind_direction_100m,wind_gusts_10m,soil_temperature_0_to_7cm,soil_temperature_7_to_28cm,soil_temperature_28_to_100cm,soil_temperature_100_to_255cm,soil_moisture_0_to_7cm,soil_moisture_7_to_28cm,soil_moisture_28_to_100cm,soil_moisture_100_to_255cm,is_day,sunshine_duration,shortwave_radiation,direct_radiation,diffuse_radiation,direct_normal_irradiance,global_tilted_irradiance,terrestrial_radiation,shortwave_radiation_instant,direct_radiation_instant,diffuse_radiation_instant,direct_normal_irradiance_instant,global_tilted_irradiance_instant,terrestrial_radiation_instant&timezone=GMT,GMT\n",
    "\n",
    "header = \"https://archive-api.open-meteo.com/v1/archive?latitude=\"\n",
    "gmt = \"\"\n",
    "start_date = \"\"\n",
    "end_date = \"\"\n",
    "latitudes = \"\"\n",
    "longitudes = \"\"\n",
    "x = 270\n",
    "for i in range(270, len(novas_lat)):\n",
    "    if(i < len(novas_lat)-1):\n",
    "        latitudes += f\"{novas_lat[i]},\"\n",
    "        longitudes += f\"{novas_lon[i]},\"\n",
    "        start_date += \"2015-06-21,\"\n",
    "        end_date += \"2015-06-21,\"\n",
    "        gmt += \"GMT,\"\n",
    "    else:\n",
    "        latitudes += f\"{novas_lat[i]}\"\n",
    "        longitudes += f\"{novas_lon[i]}\"\n",
    "        gmt += \"GMT\"\n",
    "        start_date += \"2015-06-21\"\n",
    "        end_date += \"2015-06-21\"\n",
    "\n",
    "    \n",
    "\n",
    "url = f\"https://archive-api.open-meteo.com/v1/archive?latitude={latitudes}&longitude={longitudes}&start_date={start_date}&end_date={end_date}&hourly=temperature_2m,relative_humidity_2m,dew_point_2m,apparent_temperature,precipitation,rain,snowfall,snow_depth,weather_code,pressure_msl,surface_pressure,cloud_cover,cloud_cover_low,cloud_cover_mid,cloud_cover_high,et0_fao_evapotranspiration,vapour_pressure_deficit,wind_speed_10m,wind_speed_100m,wind_direction_10m,wind_direction_100m,wind_gusts_10m,soil_temperature_0_to_7cm,soil_temperature_7_to_28cm,soil_temperature_28_to_100cm,soil_temperature_100_to_255cm,soil_moisture_0_to_7cm,soil_moisture_7_to_28cm,soil_moisture_28_to_100cm,soil_moisture_100_to_255cm,is_day,sunshine_duration,shortwave_radiation,direct_radiation,diffuse_radiation,direct_normal_irradiance,global_tilted_irradiance,terrestrial_radiation,shortwave_radiation_instant,direct_radiation_instant,diffuse_radiation_instant,direct_normal_irradiance_instant,global_tilted_irradiance_instant,terrestrial_radiation_instant&timezone={gmt}\"\n",
    "print(url)\n",
    "with open(\"url.txt\", \"w\") as f:\n",
    "    f.write(url)"
   ]
  },
  {
   "cell_type": "code",
   "execution_count": 25,
   "metadata": {},
   "outputs": [
    {
     "name": "stdout",
     "output_type": "stream",
     "text": [
      "0      40.949030\n",
      "1      40.949030\n",
      "2      40.949030\n",
      "3      40.949030\n",
      "4      40.667835\n",
      "         ...    \n",
      "317    37.715290\n",
      "318    37.434093\n",
      "319    37.434093\n",
      "320    37.434093\n",
      "321    37.434093\n",
      "Name: latitude, Length: 322, dtype: float64 0     -7.307678\n",
      "1     -7.051270\n",
      "2     -6.794861\n",
      "3     -6.538452\n",
      "4     -9.815887\n",
      "         ...   \n",
      "317   -6.497314\n",
      "318   -9.813843\n",
      "319   -9.574463\n",
      "320   -9.335114\n",
      "321   -9.095734\n",
      "Name: longitude, Length: 322, dtype: float64\n",
      "[42.2, 42.2, 42.2, 42.2, 42.2, 42.2, 42.2, 42.2, 42.2, 42.2, 42.2, 42.2, 42.2, 42.2, 41.95, 41.95, 41.95, 41.95, 41.95, 41.95, 41.95, 41.95, 41.95, 41.95, 41.95, 41.95, 41.95, 41.95, 41.7, 41.7, 41.7, 41.7, 41.7, 41.7, 41.7, 41.7, 41.7, 41.7, 41.7, 41.7, 41.7, 41.7, 41.45, 41.45, 41.45, 41.45, 41.45, 41.45, 41.45, 41.45, 41.45, 41.45, 41.45, 41.45, 41.45, 41.45, 41.2, 41.2, 41.2, 41.2, 41.2, 41.2, 41.2, 41.2, 41.2, 41.2, 41.2, 41.2, 41.2, 41.2, 40.95, 40.95, 40.95, 40.95, 40.95, 40.95, 40.95, 40.95, 40.95, 40.95, 40.95, 40.95, 40.95, 40.95, 40.7, 40.7, 40.7, 40.7, 40.7, 40.7, 40.7, 40.7, 40.7, 40.7, 40.7, 40.7, 40.7, 40.7, 40.45, 40.45, 40.45, 40.45, 40.45, 40.45, 40.45, 40.45, 40.45, 40.45, 40.45, 40.45, 40.45, 40.45, 40.2, 40.2, 40.2, 40.2, 40.2, 40.2, 40.2, 40.2, 40.2, 40.2, 40.2, 40.2, 40.2, 40.2, 39.95, 39.95, 39.95, 39.95, 39.95, 39.95, 39.95, 39.95, 39.95, 39.95, 39.95, 39.95, 39.95, 39.95, 39.7, 39.7, 39.7, 39.7, 39.7, 39.7, 39.7, 39.7, 39.7, 39.7, 39.7, 39.7, 39.7, 39.7, 39.45, 39.45, 39.45, 39.45, 39.45, 39.45, 39.45, 39.45, 39.45, 39.45, 39.45, 39.45, 39.45, 39.45, 39.2, 39.2, 39.2, 39.2, 39.2, 39.2, 39.2, 39.2, 39.2, 39.2, 39.2, 39.2, 39.2, 39.2, 38.95, 38.95, 38.95, 38.95, 38.95, 38.95, 38.95, 38.95, 38.95, 38.95, 38.95, 38.95, 38.95, 38.95, 38.7, 38.7, 38.7, 38.7, 38.7, 38.7, 38.7, 38.7, 38.7, 38.7, 38.7, 38.7, 38.7, 38.7, 38.45, 38.45, 38.45, 38.45, 38.45, 38.45, 38.45, 38.45, 38.45, 38.45, 38.45, 38.45, 38.45, 38.45, 38.2, 38.2, 38.2, 38.2, 38.2, 38.2, 38.2, 38.2, 38.2, 38.2, 38.2, 38.2, 38.2, 38.2, 37.95, 37.95, 37.95, 37.95, 37.95, 37.95, 37.95, 37.95, 37.95, 37.95, 37.95, 37.95, 37.95, 37.95, 37.7, 37.7, 37.7, 37.7, 37.7, 37.7, 37.7, 37.7, 37.7, 37.7, 37.7, 37.7, 37.7, 37.7, 37.45, 37.45, 37.45, 37.45, 37.45, 37.45, 37.45, 37.45, 37.45, 37.45, 37.45, 37.45, 37.45, 37.45, 37.2, 37.2, 37.2, 37.2, 37.2, 37.2, 37.2, 37.2, 37.2, 37.2, 37.2, 37.2, 37.2, 37.2, 36.95, 36.95, 36.95, 36.95, 36.95, 36.95, 36.95, 36.95, 36.95, 36.95, 36.95, 36.95, 36.95, 36.95, 36.7, 36.7, 36.7, 36.7, 36.7, 36.7, 36.7, 36.7, 36.7, 36.7, 36.7, 36.7, 36.7, 36.7] [-9.800000000000011, -9.550000000000011, -9.300000000000011, -9.050000000000011, -8.800000000000011, -8.550000000000011, -8.300000000000011, -8.050000000000011, -7.800000000000011, -7.550000000000011, -7.300000000000011, -7.050000000000011, -6.800000000000011, -6.550000000000011, -9.800000000000011, -9.550000000000011, -9.300000000000011, -9.050000000000011, -8.800000000000011, -8.550000000000011, -8.300000000000011, -8.050000000000011, -7.800000000000011, -7.550000000000011, -7.300000000000011, -7.050000000000011, -6.800000000000011, -6.550000000000011, -9.800000000000011, -9.550000000000011, -9.300000000000011, -9.050000000000011, -8.800000000000011, -8.550000000000011, -8.300000000000011, -8.050000000000011, -7.800000000000011, -7.550000000000011, -7.300000000000011, -7.050000000000011, -6.800000000000011, -6.550000000000011, -9.800000000000011, -9.550000000000011, -9.300000000000011, -9.050000000000011, -8.800000000000011, -8.550000000000011, -8.300000000000011, -8.050000000000011, -7.800000000000011, -7.550000000000011, -7.300000000000011, -7.050000000000011, -6.800000000000011, -6.550000000000011, -9.800000000000011, -9.550000000000011, -9.300000000000011, -9.050000000000011, -8.800000000000011, -8.550000000000011, -8.300000000000011, -8.050000000000011, -7.800000000000011, -7.550000000000011, -7.300000000000011, -7.050000000000011, -6.800000000000011, -6.550000000000011, -9.800000000000011, -9.550000000000011, -9.300000000000011, -9.050000000000011, -8.800000000000011, -8.550000000000011, -8.300000000000011, -8.050000000000011, -7.800000000000011, -7.550000000000011, -7.300000000000011, -7.050000000000011, -6.800000000000011, -6.550000000000011, -9.800000000000011, -9.550000000000011, -9.300000000000011, -9.050000000000011, -8.800000000000011, -8.550000000000011, -8.300000000000011, -8.050000000000011, -7.800000000000011, -7.550000000000011, -7.300000000000011, -7.050000000000011, -6.800000000000011, -6.550000000000011, -9.800000000000011, -9.550000000000011, -9.300000000000011, -9.050000000000011, -8.800000000000011, -8.550000000000011, -8.300000000000011, -8.050000000000011, -7.800000000000011, -7.550000000000011, -7.300000000000011, -7.050000000000011, -6.800000000000011, -6.550000000000011, -9.800000000000011, -9.550000000000011, -9.300000000000011, -9.050000000000011, -8.800000000000011, -8.550000000000011, -8.300000000000011, -8.050000000000011, -7.800000000000011, -7.550000000000011, -7.300000000000011, -7.050000000000011, -6.800000000000011, -6.550000000000011, -9.800000000000011, -9.550000000000011, -9.300000000000011, -9.050000000000011, -8.800000000000011, -8.550000000000011, -8.300000000000011, -8.050000000000011, -7.800000000000011, -7.550000000000011, -7.300000000000011, -7.050000000000011, -6.800000000000011, -6.550000000000011, -9.800000000000011, -9.550000000000011, -9.300000000000011, -9.050000000000011, -8.800000000000011, -8.550000000000011, -8.300000000000011, -8.050000000000011, -7.800000000000011, -7.550000000000011, -7.300000000000011, -7.050000000000011, -6.800000000000011, -6.550000000000011, -9.800000000000011, -9.550000000000011, -9.300000000000011, -9.050000000000011, -8.800000000000011, -8.550000000000011, -8.300000000000011, -8.050000000000011, -7.800000000000011, -7.550000000000011, -7.300000000000011, -7.050000000000011, -6.800000000000011, -6.550000000000011, -9.800000000000011, -9.550000000000011, -9.300000000000011, -9.050000000000011, -8.800000000000011, -8.550000000000011, -8.300000000000011, -8.050000000000011, -7.800000000000011, -7.550000000000011, -7.300000000000011, -7.050000000000011, -6.800000000000011, -6.550000000000011, -9.800000000000011, -9.550000000000011, -9.300000000000011, -9.050000000000011, -8.800000000000011, -8.550000000000011, -8.300000000000011, -8.050000000000011, -7.800000000000011, -7.550000000000011, -7.300000000000011, -7.050000000000011, -6.800000000000011, -6.550000000000011, -9.800000000000011, -9.550000000000011, -9.300000000000011, -9.050000000000011, -8.800000000000011, -8.550000000000011, -8.300000000000011, -8.050000000000011, -7.800000000000011, -7.550000000000011, -7.300000000000011, -7.050000000000011, -6.800000000000011, -6.550000000000011, -9.800000000000011, -9.550000000000011, -9.300000000000011, -9.050000000000011, -8.800000000000011, -8.550000000000011, -8.300000000000011, -8.050000000000011, -7.800000000000011, -7.550000000000011, -7.300000000000011, -7.050000000000011, -6.800000000000011, -6.550000000000011, -9.800000000000011, -9.550000000000011, -9.300000000000011, -9.050000000000011, -8.800000000000011, -8.550000000000011, -8.300000000000011, -8.050000000000011, -7.800000000000011, -7.550000000000011, -7.300000000000011, -7.050000000000011, -6.800000000000011, -6.550000000000011, -9.800000000000011, -9.550000000000011, -9.300000000000011, -9.050000000000011, -8.800000000000011, -8.550000000000011, -8.300000000000011, -8.050000000000011, -7.800000000000011, -7.550000000000011, -7.300000000000011, -7.050000000000011, -6.800000000000011, -6.550000000000011, -9.800000000000011, -9.550000000000011, -9.300000000000011, -9.050000000000011, -8.800000000000011, -8.550000000000011, -8.300000000000011, -8.050000000000011, -7.800000000000011, -7.550000000000011, -7.300000000000011, -7.050000000000011, -6.800000000000011, -6.550000000000011, -9.800000000000011, -9.550000000000011, -9.300000000000011, -9.050000000000011, -8.800000000000011, -8.550000000000011, -8.300000000000011, -8.050000000000011, -7.800000000000011, -7.550000000000011, -7.300000000000011, -7.050000000000011, -6.800000000000011, -6.550000000000011, -9.800000000000011, -9.550000000000011, -9.300000000000011, -9.050000000000011, -8.800000000000011, -8.550000000000011, -8.300000000000011, -8.050000000000011, -7.800000000000011, -7.550000000000011, -7.300000000000011, -7.050000000000011, -6.800000000000011, -6.550000000000011, -9.800000000000011, -9.550000000000011, -9.300000000000011, -9.050000000000011, -8.800000000000011, -8.550000000000011, -8.300000000000011, -8.050000000000011, -7.800000000000011, -7.550000000000011, -7.300000000000011, -7.050000000000011, -6.800000000000011, -6.550000000000011, -9.800000000000011, -9.550000000000011, -9.300000000000011, -9.050000000000011, -8.800000000000011, -8.550000000000011, -8.300000000000011, -8.050000000000011, -7.800000000000011, -7.550000000000011, -7.300000000000011, -7.050000000000011, -6.800000000000011, -6.550000000000011]\n"
     ]
    }
   ],
   "source": [
    "dfstations = pd.read_csv(\"Samples/CopernicusToOpenMeteo/combinedStations.csv\")\n",
    "print(dfstations['latitude'], dfstations['longitude'])\n",
    "print(([lat.item() for lat in novas_lat]), novas_lon)"
   ]
  },
  {
   "cell_type": "code",
   "execution_count": 26,
   "metadata": {},
   "outputs": [
    {
     "name": "stdout",
     "output_type": "stream",
     "text": [
      "The closest points are ((40.94903, -7.0512695), (array(40.95), -7.050000000000011)) with a distance of 151.6606259772792 meters.\n"
     ]
    }
   ],
   "source": [
    "min_distance = float('inf')\n",
    "closest_points = None\n",
    "\n",
    "for _, row in dfstations.iterrows():\n",
    "    for lat, lon in zip(novas_lat, novas_lon):\n",
    "        distance = DistanceTwoPoints(row['latitude'], row['longitude'], lat, lon)\n",
    "        if distance < min_distance:\n",
    "            min_distance = distance\n",
    "            closest_points = ((row['latitude'], row['longitude']), (lat, lon))\n",
    "\n",
    "print(f\"The closest points are {closest_points} with a distance of {min_distance} meters.\")"
   ]
  },
  {
   "cell_type": "code",
   "execution_count": 13,
   "metadata": {},
   "outputs": [
    {
     "name": "stdout",
     "output_type": "stream",
     "text": [
      "322\n",
      "80\n"
     ]
    }
   ],
   "source": [
    "print(len(novas_lat))\n",
    "print(int(len(novas_lon)/4))"
   ]
  },
  {
   "cell_type": "code",
   "execution_count": 20,
   "metadata": {},
   "outputs": [
    {
     "name": "stdout",
     "output_type": "stream",
     "text": [
      "1\n",
      "2\n",
      "3\n",
      "4\n",
      "5\n",
      "6\n",
      "7\n",
      "8\n"
     ]
    }
   ],
   "source": [
    "for q in range(1, 9):\n",
    "    print(q)"
   ]
  },
  {
   "cell_type": "code",
   "execution_count": 21,
   "metadata": {},
   "outputs": [
    {
     "name": "stdout",
     "output_type": "stream",
     "text": [
      "[ 5405.00664601 15944.18677979 26565.71460547 27345.6632578 ] [(array(40.2), array(352.7)), (array(40.2), array(352.45)), (array(40.2), array(352.95)), (array(40.45), array(352.7))]\n"
     ]
    }
   ],
   "source": [
    "LATITUDE_SING = 40.20875\n",
    "LONGITUDE_SING = -7.36260499954224\n",
    "min_distance, nearest_point = find_nearest_index(LATITUDE_SING, LONGITUDE_SING, novas_lat, novas_lon)\n",
    "print(min_distance, nearest_point)"
   ]
  },
  {
   "cell_type": "code",
   "execution_count": 24,
   "metadata": {},
   "outputs": [
    {
     "name": "stdout",
     "output_type": "stream",
     "text": [
      "Latitude: 40.2\n",
      "Longitude: -7.550000000000011\n"
     ]
    }
   ],
   "source": [
    "print(\"Latitude:\", nearest_point[1][0])\n",
    "print(\"Longitude:\", convert_latitude(nearest_point[1][1]))"
   ]
  },
  {
   "cell_type": "code",
   "execution_count": 16,
   "metadata": {},
   "outputs": [
    {
     "name": "stdout",
     "output_type": "stream",
     "text": [
      "[42.2, 42.2, 42.2, 42.2, 42.2, 42.2, 42.2, 42.2, 42.2, 42.2, 42.2, 42.2, 42.2, 42.2, 41.95, 41.95, 41.95, 41.95, 41.95, 41.95, 41.95, 41.95, 41.95, 41.95, 41.95, 41.95, 41.95, 41.95, 41.7, 41.7, 41.7, 41.7, 41.7, 41.7, 41.7, 41.7, 41.7, 41.7, 41.7, 41.7, 41.7, 41.7, 41.45, 41.45, 41.45, 41.45, 41.45, 41.45, 41.45, 41.45, 41.45, 41.45, 41.45, 41.45, 41.45, 41.45, 41.2, 41.2, 41.2, 41.2, 41.2, 41.2, 41.2, 41.2, 41.2, 41.2, 41.2, 41.2, 41.2, 41.2, 40.95, 40.95, 40.95, 40.95, 40.95, 40.95, 40.95, 40.95, 40.95, 40.95, 40.95, 40.95, 40.95, 40.95, 40.7, 40.7, 40.7, 40.7, 40.7, 40.7, 40.7, 40.7, 40.7, 40.7, 40.7, 40.7, 40.7, 40.7, 40.45, 40.45, 40.45, 40.45, 40.45, 40.45, 40.45, 40.45, 40.45, 40.45, 40.45, 40.45, 40.45, 40.45, 40.2, 40.2, 40.2, 40.2, 40.2, 40.2, 40.2, 40.2, 40.2, 40.2, 40.2, 40.2, 40.2, 40.2, 39.95, 39.95, 39.95, 39.95, 39.95, 39.95, 39.95, 39.95, 39.95, 39.95, 39.95, 39.95, 39.95, 39.95, 39.7, 39.7, 39.7, 39.7, 39.7, 39.7, 39.7, 39.7, 39.7, 39.7, 39.7, 39.7, 39.7, 39.7, 39.45, 39.45, 39.45, 39.45, 39.45, 39.45, 39.45, 39.45, 39.45, 39.45, 39.45, 39.45, 39.45, 39.45, 39.2, 39.2, 39.2, 39.2, 39.2, 39.2, 39.2, 39.2, 39.2, 39.2, 39.2, 39.2, 39.2, 39.2, 38.95, 38.95, 38.95, 38.95, 38.95, 38.95, 38.95, 38.95, 38.95, 38.95, 38.95, 38.95, 38.95, 38.95, 38.7, 38.7, 38.7, 38.7, 38.7, 38.7, 38.7, 38.7, 38.7, 38.7, 38.7, 38.7, 38.7, 38.7, 38.45, 38.45, 38.45, 38.45, 38.45, 38.45, 38.45, 38.45, 38.45, 38.45, 38.45, 38.45, 38.45, 38.45, 38.2, 38.2, 38.2, 38.2, 38.2, 38.2, 38.2, 38.2, 38.2, 38.2, 38.2, 38.2, 38.2, 38.2, 37.95, 37.95, 37.95, 37.95, 37.95, 37.95, 37.95, 37.95, 37.95, 37.95, 37.95, 37.95, 37.95, 37.95, 37.7, 37.7, 37.7, 37.7, 37.7, 37.7, 37.7, 37.7, 37.7, 37.7, 37.7, 37.7, 37.7, 37.7, 37.45, 37.45, 37.45, 37.45, 37.45, 37.45, 37.45, 37.45, 37.45, 37.45, 37.45, 37.45, 37.45, 37.45, 37.2, 37.2, 37.2, 37.2, 37.2, 37.2, 37.2, 37.2, 37.2, 37.2, 37.2, 37.2, 37.2, 37.2, 36.95, 36.95, 36.95, 36.95, 36.95, 36.95, 36.95, 36.95, 36.95, 36.95, 36.95, 36.95, 36.95, 36.95, 36.7, 36.7, 36.7, 36.7, 36.7, 36.7, 36.7, 36.7, 36.7, 36.7, 36.7, 36.7, 36.7, 36.7]\n",
      "[-9.800000000000011, -9.550000000000011, -9.300000000000011, -9.050000000000011, -8.800000000000011, -8.550000000000011, -8.300000000000011, -8.050000000000011, -7.800000000000011, -7.550000000000011, -7.300000000000011, -7.050000000000011, -6.800000000000011, -6.550000000000011, -9.800000000000011, -9.550000000000011, -9.300000000000011, -9.050000000000011, -8.800000000000011, -8.550000000000011, -8.300000000000011, -8.050000000000011, -7.800000000000011, -7.550000000000011, -7.300000000000011, -7.050000000000011, -6.800000000000011, -6.550000000000011, -9.800000000000011, -9.550000000000011, -9.300000000000011, -9.050000000000011, -8.800000000000011, -8.550000000000011, -8.300000000000011, -8.050000000000011, -7.800000000000011, -7.550000000000011, -7.300000000000011, -7.050000000000011, -6.800000000000011, -6.550000000000011, -9.800000000000011, -9.550000000000011, -9.300000000000011, -9.050000000000011, -8.800000000000011, -8.550000000000011, -8.300000000000011, -8.050000000000011, -7.800000000000011, -7.550000000000011, -7.300000000000011, -7.050000000000011, -6.800000000000011, -6.550000000000011, -9.800000000000011, -9.550000000000011, -9.300000000000011, -9.050000000000011, -8.800000000000011, -8.550000000000011, -8.300000000000011, -8.050000000000011, -7.800000000000011, -7.550000000000011, -7.300000000000011, -7.050000000000011, -6.800000000000011, -6.550000000000011, -9.800000000000011, -9.550000000000011, -9.300000000000011, -9.050000000000011, -8.800000000000011, -8.550000000000011, -8.300000000000011, -8.050000000000011, -7.800000000000011, -7.550000000000011, -7.300000000000011, -7.050000000000011, -6.800000000000011, -6.550000000000011, -9.800000000000011, -9.550000000000011, -9.300000000000011, -9.050000000000011, -8.800000000000011, -8.550000000000011, -8.300000000000011, -8.050000000000011, -7.800000000000011, -7.550000000000011, -7.300000000000011, -7.050000000000011, -6.800000000000011, -6.550000000000011, -9.800000000000011, -9.550000000000011, -9.300000000000011, -9.050000000000011, -8.800000000000011, -8.550000000000011, -8.300000000000011, -8.050000000000011, -7.800000000000011, -7.550000000000011, -7.300000000000011, -7.050000000000011, -6.800000000000011, -6.550000000000011, -9.800000000000011, -9.550000000000011, -9.300000000000011, -9.050000000000011, -8.800000000000011, -8.550000000000011, -8.300000000000011, -8.050000000000011, -7.800000000000011, -7.550000000000011, -7.300000000000011, -7.050000000000011, -6.800000000000011, -6.550000000000011, -9.800000000000011, -9.550000000000011, -9.300000000000011, -9.050000000000011, -8.800000000000011, -8.550000000000011, -8.300000000000011, -8.050000000000011, -7.800000000000011, -7.550000000000011, -7.300000000000011, -7.050000000000011, -6.800000000000011, -6.550000000000011, -9.800000000000011, -9.550000000000011, -9.300000000000011, -9.050000000000011, -8.800000000000011, -8.550000000000011, -8.300000000000011, -8.050000000000011, -7.800000000000011, -7.550000000000011, -7.300000000000011, -7.050000000000011, -6.800000000000011, -6.550000000000011, -9.800000000000011, -9.550000000000011, -9.300000000000011, -9.050000000000011, -8.800000000000011, -8.550000000000011, -8.300000000000011, -8.050000000000011, -7.800000000000011, -7.550000000000011, -7.300000000000011, -7.050000000000011, -6.800000000000011, -6.550000000000011, -9.800000000000011, -9.550000000000011, -9.300000000000011, -9.050000000000011, -8.800000000000011, -8.550000000000011, -8.300000000000011, -8.050000000000011, -7.800000000000011, -7.550000000000011, -7.300000000000011, -7.050000000000011, -6.800000000000011, -6.550000000000011, -9.800000000000011, -9.550000000000011, -9.300000000000011, -9.050000000000011, -8.800000000000011, -8.550000000000011, -8.300000000000011, -8.050000000000011, -7.800000000000011, -7.550000000000011, -7.300000000000011, -7.050000000000011, -6.800000000000011, -6.550000000000011, -9.800000000000011, -9.550000000000011, -9.300000000000011, -9.050000000000011, -8.800000000000011, -8.550000000000011, -8.300000000000011, -8.050000000000011, -7.800000000000011, -7.550000000000011, -7.300000000000011, -7.050000000000011, -6.800000000000011, -6.550000000000011, -9.800000000000011, -9.550000000000011, -9.300000000000011, -9.050000000000011, -8.800000000000011, -8.550000000000011, -8.300000000000011, -8.050000000000011, -7.800000000000011, -7.550000000000011, -7.300000000000011, -7.050000000000011, -6.800000000000011, -6.550000000000011, -9.800000000000011, -9.550000000000011, -9.300000000000011, -9.050000000000011, -8.800000000000011, -8.550000000000011, -8.300000000000011, -8.050000000000011, -7.800000000000011, -7.550000000000011, -7.300000000000011, -7.050000000000011, -6.800000000000011, -6.550000000000011, -9.800000000000011, -9.550000000000011, -9.300000000000011, -9.050000000000011, -8.800000000000011, -8.550000000000011, -8.300000000000011, -8.050000000000011, -7.800000000000011, -7.550000000000011, -7.300000000000011, -7.050000000000011, -6.800000000000011, -6.550000000000011, -9.800000000000011, -9.550000000000011, -9.300000000000011, -9.050000000000011, -8.800000000000011, -8.550000000000011, -8.300000000000011, -8.050000000000011, -7.800000000000011, -7.550000000000011, -7.300000000000011, -7.050000000000011, -6.800000000000011, -6.550000000000011, -9.800000000000011, -9.550000000000011, -9.300000000000011, -9.050000000000011, -8.800000000000011, -8.550000000000011, -8.300000000000011, -8.050000000000011, -7.800000000000011, -7.550000000000011, -7.300000000000011, -7.050000000000011, -6.800000000000011, -6.550000000000011, -9.800000000000011, -9.550000000000011, -9.300000000000011, -9.050000000000011, -8.800000000000011, -8.550000000000011, -8.300000000000011, -8.050000000000011, -7.800000000000011, -7.550000000000011, -7.300000000000011, -7.050000000000011, -6.800000000000011, -6.550000000000011, -9.800000000000011, -9.550000000000011, -9.300000000000011, -9.050000000000011, -8.800000000000011, -8.550000000000011, -8.300000000000011, -8.050000000000011, -7.800000000000011, -7.550000000000011, -7.300000000000011, -7.050000000000011, -6.800000000000011, -6.550000000000011, -9.800000000000011, -9.550000000000011, -9.300000000000011, -9.050000000000011, -8.800000000000011, -8.550000000000011, -8.300000000000011, -8.050000000000011, -7.800000000000011, -7.550000000000011, -7.300000000000011, -7.050000000000011, -6.800000000000011, -6.550000000000011]\n"
     ]
    }
   ],
   "source": [
    "print([lat.item() for lat in novas_lat])\n",
    "novas_lon = [(lon-360 if lon>180 else lon) for lon in novas_lon]\n",
    "print(novas_lon)"
   ]
  },
  {
   "cell_type": "code",
   "execution_count": 61,
   "metadata": {},
   "outputs": [
    {
     "data": {
      "image/png": "[encoded data removed]",
      "text/plain": [
       "<Figure size 1000x600 with 1 Axes>"
      ]
     },
     "metadata": {},
     "output_type": "display_data"
    }
   ],
   "source": [
    "from mpl_toolkits.basemap import Basemap\n",
    "import matplotlib.pyplot as plt\n",
    "\n",
    "# Create a new figure\n",
    "plt.figure(figsize=(10,6))\n",
    "\n",
    "# Create a Basemap instance for Portugal and expanded north\n",
    "m = Basemap(llcrnrlon=-10, llcrnrlat=36, urcrnrlon=-6, urcrnrlat=43, resolution='i')\n",
    "\n",
    "# Draw coastlines, countries, and meridians/parallels\n",
    "m.drawcoastlines()\n",
    "m.drawcountries()\n",
    "m.drawmeridians(np.arange(-10, -6, 1), labels=[1,0,0,1])\n",
    "m.drawparallels(np.arange(36, 51, 1), labels=[1,0,0,1])  # Adjusted to match new map extent\n",
    "\n",
    "# Convert latitudes and longitudes to map projection coordinates\n",
    "x, y = m(novas_lon, novas_lat)\n",
    "\n",
    "# Plot the data\n",
    "m.scatter(x, y, marker='o', color='red')\n",
    "\n",
    "plt.savefig('stations.png', dpi=300)\n",
    "# Show the plot\n",
    "plt.show()"
   ]
  },
  {
   "cell_type": "code",
   "execution_count": 27,
   "metadata": {},
   "outputs": [
    {
     "name": "stdout",
     "output_type": "stream",
     "text": [
      "0.0 (array(40.95), -7.050000000000011)\n",
      "Latitude: 40.95 Longitude: -7.050000000000011\n"
     ]
    }
   ],
   "source": [
    "LATITUDE_SING = 40.95\n",
    "LONGITUDE_SING = -7.050000000000011\n",
    "min_distance, nearest_point = find_nearest(LATITUDE_SING, LONGITUDE_SING, novas_lat, novas_lon)\n",
    "print(min_distance, nearest_point)\n",
    "\n",
    "latitude_data_array, longitude_data_array = nearest_point\n",
    "print(\"Latitude:\", latitude_data_array, \"Longitude:\", longitude_data_array)\n",
    "\n",
    "#latitude = latitude_data_array.values.item()\n",
    "#longitude = longitude_data_array.values.item()\n",
    "\n",
    "#print(\"Latitude:\", latitude)\n",
    "#print(\"Longitude:\", longitude)"
   ]
  },
  {
   "cell_type": "code",
   "execution_count": 31,
   "metadata": {},
   "outputs": [
    {
     "name": "stdout",
     "output_type": "stream",
     "text": [
      "352.95\n"
     ]
    }
   ],
   "source": [
    "print(convert_longitude360(-7.050000000000011))"
   ]
  },
  {
   "cell_type": "code",
   "execution_count": 54,
   "metadata": {},
   "outputs": [
    {
     "name": "stdout",
     "output_type": "stream",
     "text": [
      "29.0068359375\n",
      "Drought Code (DC):  468.021484375\n",
      "Duff Moisture Code (DMC):  58.990211486816406\n",
      "Fine Fuel Moisture Code (FFMC):  94.8427734375\n"
     ]
    }
   ],
   "source": [
    "DAY = 21\n",
    "HOUR = 12\n",
    "\n",
    "fwinx_value = ds['fwinx'].sel(time=f'2015-06-{DAY}T{HOUR}:00:00', latitude=latitude_data_array, longitude=352.95)\n",
    "drtcode_value = ds['drtcode'].sel(time=f'2015-06-{DAY}T{HOUR}:00:00', latitude=latitude_data_array, longitude=352.95)\n",
    "dufmcode_value = ds['dufmcode'].sel(time=f'2015-06-{DAY}T{HOUR}:00:00', latitude=latitude_data_array, longitude=352.95)\n",
    "ffmcode_value = ds['ffmcode'].sel(time=f'2015-06-{DAY}T{HOUR}:00:00', latitude=latitude_data_array, longitude=352.95)\n",
    "\n",
    "\n",
    "#drtcode    (time, latitude, longitude) float32 79kB ... -> Drought Code: DC \n",
    "#    dufmcode   (time, latitude, longitude) float32 79kB ... -> Duff Moisture Code Code\n",
    "#    ffmcode    (time, latitude, longitude) float32 79kB ... -> Fine Fuel Moisture Code\n",
    "\n",
    "print(fwinx_value.values.item())\n",
    "print(\"Drought Code (DC): \", drtcode_value.values.item())\n",
    "print(\"Duff Moisture Code (DMC): \",dufmcode_value.values.item())\n",
    "print(\"Fine Fuel Moisture Code (FFMC): \", ffmcode_value.values.item())"
   ]
  },
  {
   "cell_type": "code",
   "execution_count": 55,
   "metadata": {},
   "outputs": [
    {
     "name": "stdout",
     "output_type": "stream",
     "text": [
      "2015-06-20T12:00:00\n",
      "35.83699035644531\n",
      "Drought Code (DC):  458.97113037109375\n",
      "Duff Moisture Code (DMC):  52.3828125\n",
      "Fine Fuel Moisture Code (FFMC):  94.76251983642578\n",
      "Build Up Index (BUI):  81.265625\n",
      "Initial Spread Index (ISI):  14.12997817993164\n",
      " \n",
      "2015-06-21T12:00:00\n",
      "29.0068359375\n",
      "Drought Code (DC):  468.021484375\n",
      "Duff Moisture Code (DMC):  58.990211486816406\n",
      "Fine Fuel Moisture Code (FFMC):  94.8427734375\n",
      "Build Up Index (BUI):  89.55563354492188\n",
      "Initial Spread Index (ISI):  9.5986328125\n",
      " \n",
      "2015-06-22T12:00:00\n",
      "34.3291015625\n",
      "Drought Code (DC):  476.5809326171875\n",
      "Duff Moisture Code (DMC):  63.943336486816406\n",
      "Fine Fuel Moisture Code (FFMC):  93.13427734375\n",
      "Build Up Index (BUI):  95.57125854492188\n",
      "Initial Spread Index (ISI):  11.753907203674316\n",
      " \n",
      "2015-06-23T12:00:00\n",
      "18.944068908691406\n",
      "Drought Code (DC):  478.16229248046875\n",
      "Duff Moisture Code (DMC):  60.18982696533203\n",
      "Fine Fuel Moisture Code (FFMC):  83.94886016845703\n",
      "Build Up Index (BUI):  91.33229064941406\n",
      "Initial Spread Index (ISI):  5.330556392669678\n",
      " \n",
      "2015-06-24T12:00:00\n",
      "16.686880111694336\n",
      "Drought Code (DC):  486.20574951171875\n",
      "Duff Moisture Code (DMC):  63.93782043457031\n",
      "Fine Fuel Moisture Code (FFMC):  88.19380187988281\n",
      "Build Up Index (BUI):  96.1951904296875\n",
      "Initial Spread Index (ISI):  4.212546348571777\n",
      " \n",
      "2015-06-25T12:00:00\n",
      "26.5166015625\n",
      "Drought Code (DC):  494.86199951171875\n",
      "Duff Moisture Code (DMC):  69.2323989868164\n",
      "Fine Fuel Moisture Code (FFMC):  91.59619140625\n",
      "Build Up Index (BUI):  102.58798217773438\n",
      "Initial Spread Index (ISI):  7.68359375\n",
      " \n",
      "2015-06-26T12:00:00\n",
      "43.2705078125\n",
      "Drought Code (DC):  503.90887451171875\n",
      "Duff Moisture Code (DMC):  76.1308364868164\n",
      "Fine Fuel Moisture Code (FFMC):  95.0087890625\n",
      "Build Up Index (BUI):  110.39353942871094\n",
      "Initial Spread Index (ISI):  15.28466796875\n",
      " \n",
      "2015-06-27T12:00:00\n",
      "34.9208984375\n",
      "Drought Code (DC):  512.9713745117188\n",
      "Duff Moisture Code (DMC):  82.9823989868164\n",
      "Fine Fuel Moisture Code (FFMC):  95.47998046875\n",
      "Build Up Index (BUI):  118.20407104492188\n",
      "Initial Spread Index (ISI):  10.50146484375\n",
      " \n",
      "2015-06-28T12:00:00\n",
      "38.681640625\n",
      "Drought Code (DC):  522.2682495117188\n",
      "Duff Moisture Code (DMC):  90.1777114868164\n",
      "Fine Fuel Moisture Code (FFMC):  95.599609375\n",
      "Build Up Index (BUI):  126.00291442871094\n",
      "Initial Spread Index (ISI):  11.82568359375\n",
      " \n",
      "2015-06-29T12:00:00\n",
      "44.027400970458984\n",
      "Drought Code (DC):  532.1276245117188\n",
      "Duff Moisture Code (DMC):  98.17478942871094\n",
      "Fine Fuel Moisture Code (FFMC):  96.23116302490234\n",
      "Build Up Index (BUI):  134.30760192871094\n",
      "Initial Spread Index (ISI):  13.98876953125\n",
      " \n"
     ]
    }
   ],
   "source": [
    "'''\n",
    "fbupinx   (time, latitude, longitude) float32 157kB ...\n",
    "    drtcode   (time, latitude, longitude) float32 157kB ...\n",
    "    dufmcode  (time, latitude, longitude) float32 157kB ...\n",
    "    ffmcode   (time, latitude, longitude) float32 157kB ...\n",
    "    fdsrte    (time, latitude, longitude) float32 157kB ...\n",
    "    fwinx     (time, latitude, longitude) float32 157kB ...\n",
    "    infsinx   (time, latitude, longitude) float32 157kB\n",
    "\n",
    "'''\n",
    "\n",
    "\n",
    "HOUR = 12\n",
    "for d in range(20, 30):\n",
    "    temp = f'2015-06-{d}T{HOUR}:00:00'\n",
    "    print(temp)\n",
    "    fwinx_value = ds['fwinx'].sel(time=f'2015-06-{d}T{HOUR}:00:00', latitude=40.95, longitude=352.95)\n",
    "    drtcode_value = ds['drtcode'].sel(time=f'2015-06-{d}T{HOUR}:00:00', latitude=40.95, longitude=352.95)\n",
    "    dufmcode_value = ds['dufmcode'].sel(time=f'2015-06-{d}T{HOUR}:00:00', latitude=40.95, longitude=352.95)\n",
    "    ffmcode_value = ds['ffmcode'].sel(time=f'2015-06-{d}T{HOUR}:00:00', latitude=40.95, longitude=352.95)\n",
    "    fbupinx_value = ds['fbupinx'].sel(time=f'2015-06-{d}T{HOUR}:00:00', latitude=40.95, longitude=352.95)\n",
    "    infsinx_value = ds['infsinx'].sel(time=f'2015-06-{d}T{HOUR}:00:00', latitude=40.95, longitude=352.95)\n",
    "    \n",
    "\n",
    "    print(fwinx_value.values.item())\n",
    "    print(\"Drought Code (DC): \", drtcode_value.values.item())\n",
    "    print(\"Duff Moisture Code (DMC): \",dufmcode_value.values.item())\n",
    "    print(\"Fine Fuel Moisture Code (FFMC): \", ffmcode_value.values.item())\n",
    "    print(\"Build Up Index (BUI): \", fbupinx_value.values.item())\n",
    "    print(\"Initial Spread Index (ISI): \", infsinx_value.values.item())\n",
    "    print(\" \")\n"
   ]
  },
  {
   "cell_type": "code",
   "execution_count": 39,
   "metadata": {},
   "outputs": [
    {
     "name": "stdout",
     "output_type": "stream",
     "text": [
      "['2015-06-21T12:00:00.000000000' '2015-06-22T12:00:00.000000000'\n",
      " '2015-06-23T12:00:00.000000000' '2015-06-24T12:00:00.000000000'\n",
      " '2015-06-25T12:00:00.000000000' '2015-06-26T12:00:00.000000000'\n",
      " '2015-06-27T12:00:00.000000000' '2015-06-28T12:00:00.000000000'\n",
      " '2015-06-29T12:00:00.000000000' '2015-06-30T12:00:00.000000000'\n",
      " '2015-07-01T12:00:00.000000000' '2015-07-02T12:00:00.000000000'\n",
      " '2015-07-03T12:00:00.000000000' '2015-07-04T12:00:00.000000000'\n",
      " '2015-07-05T12:00:00.000000000' '2015-07-06T12:00:00.000000000'\n",
      " '2015-07-07T12:00:00.000000000' '2015-07-08T12:00:00.000000000'\n",
      " '2015-07-09T12:00:00.000000000' '2015-07-10T12:00:00.000000000'\n",
      " '2015-07-11T12:00:00.000000000' '2015-07-12T12:00:00.000000000'\n",
      " '2015-07-13T12:00:00.000000000' '2015-07-14T12:00:00.000000000'\n",
      " '2015-07-15T12:00:00.000000000' '2015-07-16T12:00:00.000000000'\n",
      " '2015-07-17T12:00:00.000000000' '2015-07-18T12:00:00.000000000'\n",
      " '2015-07-19T12:00:00.000000000' '2015-07-20T12:00:00.000000000'\n",
      " '2015-07-21T12:00:00.000000000' '2015-07-22T12:00:00.000000000'\n",
      " '2015-07-23T12:00:00.000000000' '2015-07-24T12:00:00.000000000'\n",
      " '2015-07-25T12:00:00.000000000' '2015-07-26T12:00:00.000000000'\n",
      " '2015-07-27T12:00:00.000000000' '2015-07-28T12:00:00.000000000'\n",
      " '2015-07-29T12:00:00.000000000' '2015-07-30T12:00:00.000000000'\n",
      " '2015-07-31T12:00:00.000000000' '2015-08-01T12:00:00.000000000'\n",
      " '2015-08-02T12:00:00.000000000' '2015-08-03T12:00:00.000000000'\n",
      " '2015-08-04T12:00:00.000000000' '2015-08-05T12:00:00.000000000'\n",
      " '2015-08-06T12:00:00.000000000' '2015-08-07T12:00:00.000000000'\n",
      " '2015-08-08T12:00:00.000000000' '2015-08-09T12:00:00.000000000'\n",
      " '2015-08-10T12:00:00.000000000' '2015-08-11T12:00:00.000000000'\n",
      " '2015-08-12T12:00:00.000000000' '2015-08-13T12:00:00.000000000'\n",
      " '2015-08-14T12:00:00.000000000' '2015-08-15T12:00:00.000000000'\n",
      " '2015-08-16T12:00:00.000000000' '2015-08-17T12:00:00.000000000'\n",
      " '2015-08-18T12:00:00.000000000' '2015-08-19T12:00:00.000000000'\n",
      " '2015-08-20T12:00:00.000000000' '2015-08-21T12:00:00.000000000'\n",
      " '2015-08-22T12:00:00.000000000' '2015-08-23T12:00:00.000000000'\n",
      " '2015-08-24T12:00:00.000000000' '2015-08-25T12:00:00.000000000'\n",
      " '2015-08-26T12:00:00.000000000' '2015-08-27T12:00:00.000000000'\n",
      " '2015-08-28T12:00:00.000000000' '2015-08-29T12:00:00.000000000'\n",
      " '2015-08-30T12:00:00.000000000' '2015-08-31T12:00:00.000000000'\n",
      " '2015-09-01T12:00:00.000000000' '2015-09-02T12:00:00.000000000'\n",
      " '2015-09-03T12:00:00.000000000' '2015-09-04T12:00:00.000000000'\n",
      " '2015-09-05T12:00:00.000000000' '2015-09-06T12:00:00.000000000'\n",
      " '2015-09-07T12:00:00.000000000' '2015-09-08T12:00:00.000000000'\n",
      " '2015-09-09T12:00:00.000000000' '2015-09-10T12:00:00.000000000'\n",
      " '2015-09-11T12:00:00.000000000' '2015-09-12T12:00:00.000000000'\n",
      " '2015-09-13T12:00:00.000000000' '2015-09-14T12:00:00.000000000'\n",
      " '2015-09-15T12:00:00.000000000' '2015-09-16T12:00:00.000000000'\n",
      " '2015-09-17T12:00:00.000000000' '2015-09-18T12:00:00.000000000'\n",
      " '2015-09-19T12:00:00.000000000' '2015-09-20T12:00:00.000000000'\n",
      " '2015-09-21T12:00:00.000000000' '2015-09-22T12:00:00.000000000'\n",
      " '2015-09-23T12:00:00.000000000' '2015-09-24T12:00:00.000000000'\n",
      " '2015-09-25T12:00:00.000000000' '2015-09-26T12:00:00.000000000'\n",
      " '2015-09-27T12:00:00.000000000' '2015-09-28T12:00:00.000000000'\n",
      " '2015-09-29T12:00:00.000000000']\n"
     ]
    }
   ],
   "source": [
    "import numpy as np\n",
    "\n",
    "# Convert the dates to numpy datetime64\n",
    "dates = np.array(ds['time'].values, dtype='datetime64')\n",
    "\n",
    "# Define the date range\n",
    "start_date = np.datetime64('2015-06-21')\n",
    "end_date = np.datetime64('2015-09-30')\n",
    "\n",
    "# Get the dates within the range\n",
    "filtered_dates = dates[(dates > start_date) & (dates < end_date)]\n",
    "\n",
    "# Print the filtered dates\n",
    "print(filtered_dates)"
   ]
  },
  {
   "cell_type": "code",
   "execution_count": 65,
   "metadata": {},
   "outputs": [
    {
     "name": "stdout",
     "output_type": "stream",
     "text": [
      "13.812256813049316\n",
      "Drought Code (DC):  429.4921569824219\n",
      "Duff Moisture Code (DMC):  110.5078125\n",
      "Fine Fuel Moisture Code (FFMC):  80.40735626220703\n"
     ]
    }
   ],
   "source": [
    "DAY = 20\n",
    "HOUR = 12\n",
    "MONTH = 6\n",
    "DATE = f'2022-0{MONTH}-{DAY}T{HOUR}:00:00'\n",
    "\n",
    "#latitude_data_array, longitude_data_array\n",
    "\n",
    "\n",
    "fwinx_value = ds['fwinx'].sel(time=f'2019-06-{DAY}T{HOUR}:00:00', latitude=latitude_data_array, longitude=longitude_data_array)\n",
    "drtcode_value = ds['drtcode'].sel(time=f'2019-06-{DAY}T{HOUR}:00:00', latitude=latitude_data_array, longitude=longitude_data_array)\n",
    "dufmcode_value = ds['dufmcode'].sel(time=f'2019-06-{DAY}T{HOUR}:00:00', latitude=latitude_data_array, longitude=longitude_data_array)\n",
    "ffmcode_value = ds['ffmcode'].sel(time=f'2019-06-{DAY}T{HOUR}:00:00', latitude=latitude_data_array, longitude=longitude_data_array)\n",
    "\n",
    "\n",
    "#drtcode    (time, latitude, longitude) float32 79kB ... -> Drought Code: DC \n",
    "#    dufmcode   (time, latitude, longitude) float32 79kB ... -> Duff Moisture Code Code\n",
    "#    ffmcode    (time, latitude, longitude) float32 79kB ... -> Fine Fuel Moisture Code\n",
    "\n",
    "print(fwinx_value.values.item())\n",
    "print(\"Drought Code (DC): \", drtcode_value.values.item())\n",
    "print(\"Duff Moisture Code (DMC): \",dufmcode_value.values.item())\n",
    "print(\"Fine Fuel Moisture Code (FFMC): \", ffmcode_value.values.item())"
   ]
  },
  {
   "cell_type": "code",
   "execution_count": 44,
   "metadata": {},
   "outputs": [
    {
     "name": "stdout",
     "output_type": "stream",
     "text": [
      "[94.8427734375, 93.13427734375, 83.94886016845703, 88.19380187988281, 91.59619140625, 95.0087890625, 95.47998046875, 95.599609375, 96.23116302490234, 96.47314453125, 93.806640625, 93.6240234375, 95.16943359375, 94.36898803710938, 92.5, 94.81298828125, 94.86376953125, 94.23876953125, 94.40802764892578, 93.208984375, 92.91332244873047, 92.96992492675781, 93.552734375, 94.37187957763672, 94.65522003173828, 92.94695281982422, 93.4775390625, 92.8935546875, 91.91162109375, 91.96240234375, 90.77880859375, 91.7255859375, 92.4169921875, 89.85955810546875, 92.00214385986328, 92.28271484375, 92.3208236694336, 92.37158203125, 91.68678283691406, 90.44114685058594, 71.89127349853516, 81.1906967163086, 92.46133422851562, 93.283203125, 92.8388671875, 93.974609375, 93.85391235351562, 92.95458984375, 93.00537109375, 93.67603302001953, 93.75016021728516, 93.80078125, 93.73974609375, 89.89486694335938, 89.98472595214844, 89.94368743896484, 88.61396789550781, 88.86767578125, 90.37451171875, 91.51676940917969, 94.18724822998047, 94.23828125, 92.0439453125, 90.85562133789062, 77.4736328125, 86.189453125, 89.16015625, 88.916015625, 89.986328125, 93.259765625, 93.564453125, 74.916015625, 74.87260437011719, 85.1544418334961, 87.57330322265625, 89.04486083984375, 89.79150390625, 90.72462463378906, 92.35041046142578, 92.79150390625, 92.921875, 91.9892578125, 91.6806640625, 91.6376953125, 86.99101257324219, 80.28933715820312, 42.95984649658203, 58.82434844970703, 72.288330078125, 82.653564453125, 87.32711029052734, 90.05908203125, 93.06201171875, 89.9541015625, 90.0029296875, 90.1152572631836, 92.24951171875, 92.3740234375, 91.2958984375, 90.9599609375, 91.248046875]\n",
      "101\n"
     ]
    }
   ],
   "source": [
    "'''\n",
    "fbupinx   (time, latitude, longitude) float32 157kB ...\n",
    "    drtcode   (time, latitude, longitude) float32 157kB ...\n",
    "    dufmcode  (time, latitude, longitude) float32 157kB ...\n",
    "    ffmcode   (time, latitude, longitude) float32 157kB ...\n",
    "    fdsrte    (time, latitude, longitude) float32 157kB ...\n",
    "    fwinx     (time, latitude, longitude) float32 157kB ...\n",
    "    infsinx   (time, latitude, longitude) float32 157kB ...\n",
    "\n",
    "\n",
    "'''\n",
    "\n",
    "plat = 40.95\n",
    "plon = 352.95\n",
    "fwinx_values = []\n",
    "for dt in filtered_dates:\n",
    "    fwinx_value = ds['ffmcode'].sel(time=dt, latitude=plat, longitude=plon)\n",
    "    fwinx_values.append(fwinx_value.values.item())\n",
    "\n",
    "print(fwinx_values)\n",
    "print(len(fwinx_values))"
   ]
  },
  {
   "cell_type": "code",
   "execution_count": 45,
   "metadata": {},
   "outputs": [
    {
     "data": {
      "image/png": "[encoded data removed]",
      "text/plain": [
       "<Figure size 1000x600 with 1 Axes>"
      ]
     },
     "metadata": {},
     "output_type": "display_data"
    }
   ],
   "source": [
    "import matplotlib.pyplot as plt\n",
    "\n",
    "plt.figure(figsize=(10,6))\n",
    "plt.plot(filtered_dates, fwinx_values, label='FWIX')\n",
    "plt.xlabel('Time')\n",
    "plt.ylabel('FWIX')\n",
    "plt.title('FWI from Copernicus')\n",
    "plt.legend\n",
    "plt.savefig('nsfwi.png', dpi=300)\n",
    "plt.show()"
   ]
  },
  {
   "cell_type": "code",
   "execution_count": null,
   "metadata": {},
   "outputs": [],
   "source": []
  }
 ],
 "metadata": {
  "kernelspec": {
   "display_name": "Python 3 (ipykernel)",
   "language": "python",
   "name": "python3"
  },
  "language_info": {
   "codemirror_mode": {
    "name": "ipython",
    "version": 3
   },
   "file_extension": ".py",
   "mimetype": "text/x-python",
   "name": "python",
   "nbconvert_exporter": "python",
   "pygments_lexer": "ipython3",
   "version": "3.10.12"
  }
 },
 "nbformat": 4,
 "nbformat_minor": 4
}
