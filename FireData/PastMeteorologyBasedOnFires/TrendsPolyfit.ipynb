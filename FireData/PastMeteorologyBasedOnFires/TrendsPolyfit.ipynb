{
 "cells": [
  {
   "cell_type": "code",
   "execution_count": null,
   "metadata": {},
   "outputs": [],
   "source": [
    "import pandas as pd\n",
    "import numpy as np\n",
    "import matplotlib.pyplot as plt\n",
    "\n",
    "data = pd.read_csv('paste.txt', sep='\\s+', parse_dates=['date_time'])\n",
    "temperature = data['temperature']\n",
    "degree = 1\n",
    "coefficients = np.polyfit(temperature.index, temperature, degree)\n",
    "\n",
    "def calculate_trend(coefficients, x):\n",
    "    return coefficients[0] * x + coefficients[1]\n",
    "\n",
    "\n",
    "trend_values = [calculate_trend(coefficients, x) for x in temperature.index]\n",
    "\n",
    "plt.figure(figsize=(12, 6))\n",
    "plt.plot(temperature, label='Temperature')\n",
    "plt.plot(trend_values, label='Trend')\n",
    "plt.xlabel('Time')\n",
    "plt.ylabel('Temperature')\n",
    "plt.title('Temperature Trend Analysis')\n",
    "plt.legend()\n",
    "plt.grid()\n",
    "plt.show()"
   ]
  }
 ],
 "metadata": {
  "language_info": {
   "name": "python"
  }
 },
 "nbformat": 4,
 "nbformat_minor": 2
}
