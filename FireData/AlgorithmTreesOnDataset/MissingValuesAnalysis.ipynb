{
 "cells": [
  {
   "cell_type": "code",
   "execution_count": 1,
   "metadata": {},
   "outputs": [
    {
     "name": "stdout",
     "output_type": "stream",
     "text": [
      "/home/ori/Desktop/SPAWN\n"
     ]
    }
   ],
   "source": [
    "import pandas as pd\n",
    "import math\n",
    "import requests\n",
    "import os\n",
    "import ast\n",
    "\n",
    "current_dir = os.getcwd()\n",
    "root_dir = os.path.dirname(os.path.dirname(current_dir))\n",
    "print(root_dir)\n",
    "_RAWFIRESPATH = f\"{root_dir}/FirePrediction/RawData/Historical_FiresRAW\"\n",
    "\n",
    "dfTreesDRP = pd.read_csv('TreesPortugueseTerritoryDropped.csv')\n",
    "\n",
    "def DistanceTwoPoints(lat1, lon1, lat2, lon2):\n",
    "    R = 6371e3  # Radius of the Earth in meters\n",
    "    phi1 = math.radians(lat1)\n",
    "    phi2 = math.radians(lat2)\n",
    "    delta_phi = math.radians(lat2 - lat1)\n",
    "    delta_lambda = math.radians(lon2 - lon1)\n",
    "\n",
    "    a = math.sin(delta_phi / 2)**2 + math.cos(phi1) * math.cos(phi2) * math.sin(delta_lambda / 2)**2\n",
    "    c = 2 * math.atan2(math.sqrt(a), math.sqrt(1 - a))\n",
    "\n",
    "    return R * c  # Distance in meters\n",
    "\n",
    "def checkNearestPoint(row):    \n",
    "    district = str(row['district']).lower()\n",
    "    lat1 = row['latitude']\n",
    "    lon1 = row['longitude']\n",
    "\n",
    "    filtered_df = dfTreesDRP[dfTreesDRP['stateProvince'].str.lower() == district]\n",
    "\n",
    "    filtered_df['distance'] = filtered_df.apply(lambda x: DistanceTwoPoints(lat1, lon1, x['decimalLatitude'], x['decimalLongitude']), axis=1)\n",
    "\n",
    "    filtered_df = filtered_df.sort_values('distance')\n",
    "    \n",
    "    # Get the 'scientificName' and 'distance' of the nearest point\n",
    "    nearest_name = filtered_df.iloc[0]['scientificName']\n",
    "    nearest_distance = filtered_df.iloc[0]['distance']\n",
    "    \n",
    "    return nearest_name, nearest_distance\n",
    "\n",
    "def returnNearestTree(row):    \n",
    "    district = str(row['district']).lower()\n",
    "    lat1 = row['latitude']\n",
    "    lon1 = row['longitude']\n",
    "\n",
    "    filtered_df = dfTreesDRP[dfTreesDRP['stateProvince'].str.lower() == district].copy()\n",
    "    filtered_df['distance'] = filtered_df.apply(lambda x: DistanceTwoPoints(lat1, lon1, x['decimalLatitude'], x['decimalLongitude']), axis=1)\n",
    "\n",
    "    filtered_df = filtered_df.sort_values('distance')\n",
    "    \n",
    "    # Get the 'scientificName' and 'distance' of the nearest point\n",
    "    nearest_name = filtered_df.iloc[0]['scientificName']\n",
    "    nearest_distance = filtered_df.iloc[0]['distance']\n",
    "    \n",
    "    return nearest_name\n",
    "\n",
    "    \n",
    "def check_district(row, precision=1000):\n",
    "    district = str(row['district']).lower()\n",
    "    lat1 = row['latitude']\n",
    "    lon1 = row['longitude']\n",
    "    \n",
    "    # Filter dfTreesDRP based on 'locality' and 'stateProvince'\n",
    "    filtered_df = dfTreesDRP[(dfTreesDRP['stateProvince'].str.lower() == district)]\n",
    "    \n",
    "    # Calculate the distance for each row in the filtered DataFrame\n",
    "    filtered_df['distance'] = filtered_df.apply(lambda x: DistanceTwoPoints(lat1, lon1, x['decimalLatitude'], x['decimalLongitude']), axis=1)\n",
    "    \n",
    "    # Filter the DataFrame based on the distance\n",
    "    close_points_df = filtered_df[filtered_df['distance'] < precision]\n",
    "    \n",
    "    # Get the unique 'scientificName' values, excluding NaN values\n",
    "    unique_names = close_points_df['scientificName'].dropna().unique()\n",
    "\n",
    "    # If 'scientificNames' exists in row and is not NaN, append unique names if they don't exist\n",
    "    if 'scientificNames' in row and pd.notna(row['scientificNames']):\n",
    "        existing_names = str(row['scientificNames']).split('; ')\n",
    "        for name in unique_names:\n",
    "            if name not in existing_names:\n",
    "                existing_names.append(name)\n",
    "        return '; '.join(existing_names)\n",
    "    \n",
    "    # If 'scientificNames' is NaN, just return the unique names\n",
    "    return '; '.join(unique_names)"
   ]
  },
  {
   "cell_type": "code",
   "execution_count": 2,
   "metadata": {},
   "outputs": [
    {
     "name": "stdout",
     "output_type": "stream",
     "text": [
      "4\n",
      "14427\n",
      "0\n",
      "14431\n"
     ]
    }
   ],
   "source": [
    "_year = 2010\n",
    "_currentYearMissingValues = pd.read_csv(f'DatasetWTrees/PreviousVersions/{_year}_checkDistrict.csv')\n",
    "\n",
    "na_count = _currentYearMissingValues['scientificNames'].isna().sum()\n",
    "print(na_count)\n",
    "\n",
    "non_na_count = _currentYearMissingValues['scientificNames'].notna().sum()\n",
    "print(non_na_count)\n",
    "\n",
    "empty_count = (_currentYearMissingValues['scientificNames'] == '').sum()\n",
    "print(empty_count)\n",
    "\n",
    "non_empty_count = (_currentYearMissingValues['scientificNames'] != '').sum()\n",
    "print(non_empty_count)"
   ]
  },
  {
   "cell_type": "code",
   "execution_count": 3,
   "metadata": {},
   "outputs": [
    {
     "name": "stdout",
     "output_type": "stream",
     "text": [
      "      year        date        district       municipality             parish  \\\n",
      "0     2010  2010-02-14           Porto  Vila Nova de Gaia  Oliveira do Douro   \n",
      "1968  2010  2010-06-02        Santarém            Cartaxo             Valada   \n",
      "6551  2010  2010-08-14  Castelo Branco              Sertã           Cabeçudo   \n",
      "9638  2010  2010-08-12           Porto         Felgueiras           Pinheiro   \n",
      "\n",
      "                                       local   latitude  longitude  \\\n",
      "0                            Monte da Virgem  41.112581  -8.597502   \n",
      "1968  ESTRADA DO SETIL (VILA CHÃ DE OURIQUE)  39.081195  -8.760559   \n",
      "6551                                   Tojal  38.848634  -9.144522   \n",
      "9638                                  Igreja  41.362214  -8.113012   \n",
      "\n",
      "             cause  elevation  ... hourly.direct_normal_irradiance_instant  \\\n",
      "0               NC      206.0  ...                                   253.2   \n",
      "1968            NC        6.0  ...                                   278.0   \n",
      "6551  Desconhecida       12.0  ...                                   854.2   \n",
      "9638            NC      455.0  ...                                   820.3   \n",
      "\n",
      "      hourly.global_tilted_irradiance_instant  \\\n",
      "0                                     128.9.1   \n",
      "1968                                    475.4   \n",
      "6551                                    635.3   \n",
      "9638                                    859.9   \n",
      "\n",
      "      hourly.terrestrial_radiation_instant  hourly.shortwave_radiation  \\\n",
      "0                                    262.6                       185.0   \n",
      "1968                                 909.0                       523.0   \n",
      "6551                                 856.3                       704.0   \n",
      "9638                                1179.5                       837.0   \n",
      "\n",
      "      hourly.direct_radiation  hourly.diffuse_radiation  \\\n",
      "0                        68.0                     117.0   \n",
      "1968                    209.0                     314.0   \n",
      "6551                    608.0                      96.0   \n",
      "9638                    707.0                     130.0   \n",
      "\n",
      "     hourly.direct_normal_irradiance hourly.global_tilted_irradiance  \\\n",
      "0                            253.2.1                         185.0.1   \n",
      "1968                           278.0                           523.0   \n",
      "6551                           854.2                           704.0   \n",
      "9638                           820.3                           837.0   \n",
      "\n",
      "     hourly.terrestrial_radiation  scientificNames  \n",
      "0                           376.8              NaN  \n",
      "1968                       1000.0              NaN  \n",
      "6551                        948.8              NaN  \n",
      "9638                       1148.1              NaN  \n",
      "\n",
      "[4 rows x 56 columns]\n"
     ]
    }
   ],
   "source": [
    "na_rows = _currentYearMissingValues[_currentYearMissingValues['scientificNames'].isna()]\n",
    "print(na_rows)\n",
    "#39.0805764,-8.771974"
   ]
  },
  {
   "cell_type": "code",
   "execution_count": 5,
   "metadata": {},
   "outputs": [
    {
     "name": "stdout",
     "output_type": "stream",
     "text": [
      "Magnoliopsida; Tracheophyta; Pinus pinaster Aiton; Pinus pinea L.\n"
     ]
    },
    {
     "name": "stderr",
     "output_type": "stream",
     "text": [
      "/tmp/ipykernel_49352/3945673792.py:1: SettingWithCopyWarning: \n",
      "A value is trying to be set on a copy of a slice from a DataFrame.\n",
      "Try using .loc[row_indexer,col_indexer] = value instead\n",
      "\n",
      "See the caveats in the documentation: https://pandas.pydata.org/pandas-docs/stable/user_guide/indexing.html#returning-a-view-versus-a-copy\n",
      "  na_rows['scientificNames'] = na_rows.apply(check_district, axis=1)\n"
     ]
    }
   ],
   "source": [
    "na_rows['scientificNames'] = na_rows.apply(check_district, axis=1)\n",
    "#newValues.to_csv(f'MissingValues/{_year}_checkDistrict.csv', index=False)\n",
    "print(na_rows.iloc[0]['scientificNames'])"
   ]
  },
  {
   "cell_type": "code",
   "execution_count": 10,
   "metadata": {},
   "outputs": [
    {
     "name": "stdout",
     "output_type": "stream",
     "text": [
      "Vitis vinifera L.; Tracheophyta; Magnoliopsida\n"
     ]
    },
    {
     "name": "stderr",
     "output_type": "stream",
     "text": [
      "/tmp/ipykernel_49352/3256817697.py:69: SettingWithCopyWarning: \n",
      "A value is trying to be set on a copy of a slice from a DataFrame.\n",
      "Try using .loc[row_indexer,col_indexer] = value instead\n",
      "\n",
      "See the caveats in the documentation: https://pandas.pydata.org/pandas-docs/stable/user_guide/indexing.html#returning-a-view-versus-a-copy\n",
      "  filtered_df['distance'] = filtered_df.apply(lambda x: DistanceTwoPoints(lat1, lon1, x['decimalLatitude'], x['decimalLongitude']), axis=1)\n"
     ]
    }
   ],
   "source": [
    "_year = 2010\n",
    "_currentYearMissingValuesX = pd.read_csv(f'DatasetWTrees/PreviousVersions/{_year}_checkDistrict.csv')\n",
    "print(check_district(_currentYearMissingValuesX.iloc[2]))"
   ]
  },
  {
   "cell_type": "code",
   "execution_count": 23,
   "metadata": {},
   "outputs": [
    {
     "name": "stdout",
     "output_type": "stream",
     "text": [
      "('Pinales', 1960.7743005616587)\n"
     ]
    },
    {
     "name": "stderr",
     "output_type": "stream",
     "text": [
      "/tmp/ipykernel_49352/3256817697.py:33: SettingWithCopyWarning: \n",
      "A value is trying to be set on a copy of a slice from a DataFrame.\n",
      "Try using .loc[row_indexer,col_indexer] = value instead\n",
      "\n",
      "See the caveats in the documentation: https://pandas.pydata.org/pandas-docs/stable/user_guide/indexing.html#returning-a-view-versus-a-copy\n",
      "  filtered_df['distance'] = filtered_df.apply(lambda x: DistanceTwoPoints(lat1, lon1, x['decimalLatitude'], x['decimalLongitude']), axis=1)\n"
     ]
    }
   ],
   "source": [
    "index = 3\n",
    "print(checkNearestPoint(na_rows.iloc[index]))"
   ]
  },
  {
   "cell_type": "code",
   "execution_count": 126,
   "metadata": {},
   "outputs": [
    {
     "name": "stdout",
     "output_type": "stream",
     "text": [
      "Tracheophyta\n"
     ]
    }
   ],
   "source": [
    "na_rows.at[na_rows.index[2], 'scientificNames'] = returnNearestTree(na_rows.iloc[2])\n",
    "print(na_rows.at[na_rows.index[2], 'scientificNames'])\n",
    "na_rows.to_csv('/home/ori/Desktop/SPAWN/FirePrediction/AlgorithmTreesOnDataset/DatasetWTrees/PreviousVersions/2016_checkDistrict2v2.csv')"
   ]
  },
  {
   "cell_type": "code",
   "execution_count": 25,
   "metadata": {},
   "outputs": [],
   "source": [
    "_year = 2001\n",
    "#40.8998417, -7.4900188\n",
    "#38.6584269,-9.0193437\n",
    "#40.9603373,-8.5505025\n",
    "#41.4465162,-8.034185\n",
    "\n",
    "#41.362214, -8.113012\n",
    "\n",
    "#39.8304404,-8.1582464\n",
    "\n",
    "#39.8097855,-7.7609527\n",
    "#39.8304179,-8.1868721\n",
    "#40.0122252,-8.8899399\n",
    "#39.825922,-7.4729952\n",
    "\n",
    "#41.0965013,-8.3492967\n",
    "#41.0965114,-8.3779225\n",
    "\n",
    "#41.8117489,-6.7458274\n",
    "#40.5496832,-7.2439643\n",
    "\n",
    "#41.37295,-8.3307829\n",
    "\n",
    "#39.8474782,-7.5565182\n",
    "\n",
    "#39.8116193,-7.5456793\n",
    "\n",
    "#40.1348529,-7.4758689\n",
    "\n",
    "#41.1389565,-7.9702532\n",
    "\n",
    "#41.3086548,-8.6318609\n",
    "\n",
    "#38.6997227,-8.9636176\n",
    "\n",
    "#41.3732232,-8.156543\n",
    "\n",
    "#38.6679667,-9.2048318\n",
    "\n",
    "#41.5850409,-8.107566\n",
    "\n",
    "#38.9549497,-8.7373542\n",
    "\n",
    "#40.4684347,-7.1253137\n",
    "#40.5450153,-7.2617102\n",
    "\n",
    "row = na_rows.iloc[index]\n",
    "\n",
    "\n",
    "#39.8052068,-7.7524215,15\n",
    "#40.8454766,-8.6909437\n",
    "#41.4684787,-8.582788\n",
    "#41.5603721,-7.9120912\n",
    "#41.6764835,-8.1744881 - rossa\n",
    "#41.5853434,-8.1051347\n",
    "#41.729705,-8.1305239\n",
    "#41.3103597,-8.6095624\n",
    "#38.6997227,-8.9636176\n",
    "#39.7982847,-7.8147625\n",
    "#40.0274487,-7.5208524\n",
    "#41.5846572,-8.6081022\n",
    "#41.7376564,-8.2257958\n",
    "#41.6219633,-8.3040071\n",
    "#41.4399383,-8.6026327\n",
    "#41.1417954,-7.9611701\n",
    "#41.3674592,-8.1661637\n",
    "#38.9549497,-8.7373542\n",
    "#38.6997227,-8.9636176\n",
    "#39.1079604,-8.7484528\n",
    "#39.1729556,-8.7925102\n",
    "#39.8304404,-8.1582679\n",
    "#41.3678107,-8.1611126\n",
    "LAT = 41.3678107\n",
    "LON = -8.1611126\n",
    "_DATA = row['date']\n",
    "HORA = row['hourly.time'].split(\"T\")[1]\n",
    "DIA = row['date'].split(\"-\")[2]\n",
    "MES = row['date'].split(\"-\")[1]\n",
    "\n",
    "_fileName = f\"{DIA}_{MES}_{HORA}_{LAT}_{LON}.csv.csv\"\n",
    "\n",
    "_fileName_radiation = f\"{DIA}_{MES}_{HORA}_{LAT}_{LON}_radiation.csv\"\n",
    "\n",
    "\n",
    "url_rad = f\"https://archive-api.open-meteo.com/v1/archive?latitude={LAT}&longitude={LON}&start_date={_DATA}&end_date={_DATA}&hourly=shortwave_radiation,direct_radiation,diffuse_radiation,direct_normal_irradiance,global_tilted_irradiance,terrestrial_radiation,shortwave_radiation_instant,direct_radiation_instant,diffuse_radiation_instant,direct_normal_irradiance_instant,global_tilted_irradiance_instant,terrestrial_radiation_instant\"\n",
    "url = f\"https://archive-api.open-meteo.com/v1/archive?latitude={LAT}&longitude={LON}&start_date={_DATA}&end_date={_DATA}&hourly=temperature_2m,relative_humidity_2m,dew_point_2m,apparent_temperature,precipitation,rain,snowfall,snow_depth,weather_code,pressure_msl,surface_pressure,cloud_cover,cloud_cover_low,cloud_cover_mid,cloud_cover_high,et0_fao_evapotranspiration,vapour_pressure_deficit,wind_speed_10m,wind_speed_100m,wind_direction_10m,wind_direction_100m,wind_gusts_10m,soil_temperature_0_to_7cm,soil_temperature_7_to_28cm,soil_temperature_28_to_100cm,soil_temperature_100_to_255cm,soil_moisture_0_to_7cm,soil_moisture_7_to_28cm,soil_moisture_28_to_100cm,soil_moisture_100_to_255cm,is_day,sunshine_duration,shortwave_radiation_instant,direct_radiation_instant,diffuse_radiation_instant,direct_normal_irradiance_instant,global_tilted_irradiance_instant,terrestrial_radiation_instant&timezone=GMT\"\n",
    "response = requests.get(url)\n",
    "#response_rad = requests.get(url_rad)\n",
    "\n",
    "#print(response.status_code)\n",
    "\n",
    "if((response.status_code == 200)):\n",
    "    data = response.json()\n",
    "    #data_rad = response_rad.json()\n",
    "\n",
    "    df = pd.json_normalize(data)\n",
    "    df.to_csv(f\"MissingValues/{_fileName}\", index=False)\n",
    "\n",
    "    #AlgorithmTreesOnDataset/MissingValues\n",
    "    #df_rad = pd.json_normalize(data_rad)\n",
    "    #df_rad.to_csv(f\"MissingValues/{_fileName_radiation}\", index=False)\n",
    "else:\n",
    "    print(\"Error row:\")"
   ]
  },
  {
   "cell_type": "code",
   "execution_count": 26,
   "metadata": {},
   "outputs": [
    {
     "name": "stdout",
     "output_type": "stream",
     "text": [
      "12_08_12:00_41.3678107_-8.1611126.csv.csv\n"
     ]
    }
   ],
   "source": [
    "print(_fileName)"
   ]
  },
  {
   "cell_type": "code",
   "execution_count": 15,
   "metadata": {},
   "outputs": [
    {
     "name": "stdout",
     "output_type": "stream",
     "text": [
      "['latitude', 'longitude', 'generationtime_ms', 'utc_offset_seconds', 'timezone', 'timezone_abbreviation', 'elevation', 'hourly_units.time', 'hourly_units.temperature_2m', 'hourly_units.relative_humidity_2m', 'hourly_units.dew_point_2m', 'hourly_units.apparent_temperature', 'hourly_units.precipitation', 'hourly_units.rain', 'hourly_units.snowfall', 'hourly_units.snow_depth', 'hourly_units.weather_code', 'hourly_units.pressure_msl', 'hourly_units.surface_pressure', 'hourly_units.cloud_cover', 'hourly_units.cloud_cover_low', 'hourly_units.cloud_cover_mid', 'hourly_units.cloud_cover_high', 'hourly_units.et0_fao_evapotranspiration', 'hourly_units.vapour_pressure_deficit', 'hourly_units.wind_speed_10m', 'hourly_units.wind_speed_100m', 'hourly_units.wind_direction_10m', 'hourly_units.wind_direction_100m', 'hourly_units.wind_gusts_10m', 'hourly_units.soil_temperature_0_to_7cm', 'hourly_units.soil_temperature_7_to_28cm', 'hourly_units.soil_temperature_28_to_100cm', 'hourly_units.soil_temperature_100_to_255cm', 'hourly_units.soil_moisture_0_to_7cm', 'hourly_units.soil_moisture_7_to_28cm', 'hourly_units.soil_moisture_28_to_100cm', 'hourly_units.soil_moisture_100_to_255cm', 'hourly_units.is_day', 'hourly_units.sunshine_duration', 'hourly_units.shortwave_radiation_instant', 'hourly_units.direct_radiation_instant', 'hourly_units.diffuse_radiation_instant', 'hourly_units.direct_normal_irradiance_instant', 'hourly_units.global_tilted_irradiance_instant', 'hourly_units.terrestrial_radiation_instant', 'hourly.time', 'hourly.temperature_2m', 'hourly.relative_humidity_2m', 'hourly.dew_point_2m', 'hourly.apparent_temperature', 'hourly.precipitation', 'hourly.rain', 'hourly.snowfall', 'hourly.snow_depth', 'hourly.weather_code', 'hourly.pressure_msl', 'hourly.surface_pressure', 'hourly.cloud_cover', 'hourly.cloud_cover_low', 'hourly.cloud_cover_mid', 'hourly.cloud_cover_high', 'hourly.et0_fao_evapotranspiration', 'hourly.vapour_pressure_deficit', 'hourly.wind_speed_10m', 'hourly.wind_speed_100m', 'hourly.wind_direction_10m', 'hourly.wind_direction_100m', 'hourly.wind_gusts_10m', 'hourly.soil_temperature_0_to_7cm', 'hourly.soil_temperature_7_to_28cm', 'hourly.soil_temperature_28_to_100cm', 'hourly.soil_temperature_100_to_255cm', 'hourly.soil_moisture_0_to_7cm', 'hourly.soil_moisture_7_to_28cm', 'hourly.soil_moisture_28_to_100cm', 'hourly.soil_moisture_100_to_255cm', 'hourly.is_day', 'hourly.sunshine_duration', 'hourly.shortwave_radiation_instant', 'hourly.direct_radiation_instant', 'hourly.diffuse_radiation_instant', 'hourly.direct_normal_irradiance_instant', 'hourly.global_tilted_irradiance_instant', 'hourly.terrestrial_radiation_instant']\n",
      "['elevation', 'hourly.time', 'hourly.temperature_2m', 'hourly.relative_humidity_2m', 'hourly.dew_point_2m', 'hourly.apparent_temperature', 'hourly.precipitation', 'hourly.rain', 'hourly.snowfall', 'hourly.snow_depth', 'hourly.weather_code', 'hourly.pressure_msl', 'hourly.surface_pressure', 'hourly.cloud_cover', 'hourly.cloud_cover_low', 'hourly.cloud_cover_mid', 'hourly.cloud_cover_high', 'hourly.et0_fao_evapotranspiration', 'hourly.vapour_pressure_deficit', 'hourly.wind_speed_10m', 'hourly.wind_speed_100m', 'hourly.wind_direction_10m', 'hourly.wind_direction_100m', 'hourly.wind_gusts_10m', 'hourly.soil_temperature_0_to_7cm', 'hourly.soil_temperature_7_to_28cm', 'hourly.soil_temperature_28_to_100cm', 'hourly.soil_temperature_100_to_255cm', 'hourly.soil_moisture_0_to_7cm', 'hourly.soil_moisture_7_to_28cm', 'hourly.soil_moisture_28_to_100cm', 'hourly.soil_moisture_100_to_255cm', 'hourly.is_day', 'hourly.sunshine_duration', 'hourly.shortwave_radiation_instant', 'hourly.direct_radiation_instant', 'hourly.diffuse_radiation_instant', 'hourly.direct_normal_irradiance_instant', 'hourly.global_tilted_irradiance_instant', 'hourly.terrestrial_radiation_instant']\n",
      "   latitude  longitude  generationtime_ms  utc_offset_seconds timezone  \\\n",
      "0  37.71529  -8.783417           0.172973                   0      GMT   \n",
      "\n",
      "  timezone_abbreviation  elevation hourly_units.time  \\\n",
      "0                   GMT       50.0           iso8601   \n",
      "\n",
      "  hourly_units.shortwave_radiation hourly_units.direct_radiation  ...  \\\n",
      "0                             W/m²                          W/m²  ...   \n",
      "\n",
      "                            hourly.diffuse_radiation  \\\n",
      "0  [0.0, 0.0, 0.0, 0.0, 0.0, 0.0, 0.0, 0.0, 0.0, ...   \n",
      "\n",
      "                     hourly.direct_normal_irradiance  \\\n",
      "0  [0.0, 0.0, 0.0, 0.0, 0.0, 0.0, 0.0, 0.0, 0.0, ...   \n",
      "\n",
      "                     hourly.global_tilted_irradiance  \\\n",
      "0  [0.0, 0.0, 0.0, 0.0, 0.0, 0.0, 0.0, 0.0, 0.0, ...   \n",
      "\n",
      "                        hourly.terrestrial_radiation  \\\n",
      "0  [0.0, 0.0, 0.0, 0.0, 0.0, 0.0, 0.0, 0.0, 0.0, ...   \n",
      "\n",
      "                  hourly.shortwave_radiation_instant  \\\n",
      "0  [0.0, 0.0, 0.0, 0.0, 0.0, 0.0, 0.0, 0.0, 0.0, ...   \n",
      "\n",
      "                     hourly.direct_radiation_instant  \\\n",
      "0  [0.0, 0.0, 0.0, 0.0, 0.0, 0.0, 0.0, 0.0, 0.0, ...   \n",
      "\n",
      "                    hourly.diffuse_radiation_instant  \\\n",
      "0  [0.0, 0.0, 0.0, 0.0, 0.0, 0.0, 0.0, 0.0, 0.0, ...   \n",
      "\n",
      "             hourly.direct_normal_irradiance_instant  \\\n",
      "0  [0.0, 0.0, 0.0, 0.0, 0.0, 0.0, 0.0, 0.0, 0.0, ...   \n",
      "\n",
      "             hourly.global_tilted_irradiance_instant  \\\n",
      "0  [0.0, 0.0, 0.0, 0.0, 0.0, 0.0, 0.0, 0.0, 0.0, ...   \n",
      "\n",
      "                hourly.terrestrial_radiation_instant  \n",
      "0  [0.0, 0.0, 0.0, 0.0, 0.0, 0.0, 0.0, 0.0, 20.2,...  \n",
      "\n",
      "[1 rows x 33 columns]\n",
      "['latitude', 'longitude', 'generationtime_ms', 'utc_offset_seconds', 'timezone', 'timezone_abbreviation', 'elevation', 'hourly_units.time', 'hourly_units.shortwave_radiation', 'hourly_units.direct_radiation', 'hourly_units.diffuse_radiation', 'hourly_units.direct_normal_irradiance', 'hourly_units.global_tilted_irradiance', 'hourly_units.terrestrial_radiation', 'hourly_units.shortwave_radiation_instant', 'hourly_units.direct_radiation_instant', 'hourly_units.diffuse_radiation_instant', 'hourly_units.direct_normal_irradiance_instant', 'hourly_units.global_tilted_irradiance_instant', 'hourly_units.terrestrial_radiation_instant', 'hourly.time', 'hourly.shortwave_radiation', 'hourly.direct_radiation', 'hourly.diffuse_radiation', 'hourly.direct_normal_irradiance', 'hourly.global_tilted_irradiance', 'hourly.terrestrial_radiation', 'hourly.shortwave_radiation_instant', 'hourly.direct_radiation_instant', 'hourly.diffuse_radiation_instant', 'hourly.direct_normal_irradiance_instant', 'hourly.global_tilted_irradiance_instant', 'hourly.terrestrial_radiation_instant']\n",
      "['hourly.shortwave_radiation', 'hourly.direct_radiation', 'hourly.diffuse_radiation', 'hourly.direct_normal_irradiance', 'hourly.global_tilted_irradiance', 'hourly.terrestrial_radiation']\n",
      "set()\n"
     ]
    }
   ],
   "source": [
    "_year = 2005\n",
    "_file = f\"{_RAWFIRESPATH}/{_year}/2005-01-01_37.7388357_-8.750062888101874.csv\"\n",
    "df = pd.read_csv(f\"{_file}\")\n",
    "# print(df.head())\n",
    "column_names = df.columns.tolist()\n",
    "print(column_names)\n",
    "\n",
    "# Get all column names\n",
    "column_names = df.columns.tolist()\n",
    "\n",
    "# Find columns that contain 'hourly_units'\n",
    "columns_to_remove = [col for col in column_names if 'hourly_units' in col]\n",
    "columns_to_remove.extend(['latitude', 'longitude', 'generationtime_ms', 'utc_offset_seconds', 'timezone', 'timezone_abbreviation'])\n",
    "\n",
    "# Remove the columns\n",
    "df = df.drop(columns=columns_to_remove)\n",
    "\n",
    "# Print the updated column names\n",
    "updated_column_names = df.columns.tolist()\n",
    "print(updated_column_names)\n",
    "\n",
    "_file_radiation = _file.replace(\".csv\", \"_radiation.csv\")\n",
    "df = pd.read_csv(f\"{_file_radiation}\")\n",
    "print(df.head())\n",
    "\n",
    "df = pd.read_csv(f\"{_file_radiation}\")\n",
    "# print(df.head())\n",
    "column_names = df.columns.tolist()\n",
    "print(column_names)\n",
    "\n",
    "# Get all column names\n",
    "column_names = df.columns.tolist()\n",
    "\n",
    "# Find columns that contain 'hourly_units'\n",
    "columns_to_remove = [col for col in column_names if 'hourly_units' in col]\n",
    "columns_to_remove.extend(['latitude', 'longitude', 'generationtime_ms', 'utc_offset_seconds', 'timezone', 'timezone_abbreviation', 'elevation', 'hourly.time', 'hourly.global_tilted_irradiance_instant', 'hourly.diffuse_radiation_instant', 'hourly.terrestrial_radiation_instant', 'hourly.direct_radiation_instant', 'hourly.shortwave_radiation_instant', 'hourly.direct_normal_irradiance_instant'])\n",
    "\n",
    "# Remove the columns\n",
    "df = df.drop(columns=columns_to_remove)\n",
    "\n",
    "# Print the updated column names\n",
    "updated_column_names_radiation = df.columns.tolist()\n",
    "print(updated_column_names_radiation)\n",
    "\n",
    "# Convert the lists to sets\n",
    "set1 = set(updated_column_names_radiation)\n",
    "set2 = set(updated_column_names)\n",
    "\n",
    "# Find the common elements\n",
    "common_elements = set1 & set2\n",
    "\n",
    "# Print the common elements\n",
    "print(common_elements)\n",
    "\n",
    "\n",
    "header = ['year', 'date', 'district', 'municipality', 'parish', 'local', 'latitude', 'longitude', 'cause']\n",
    "\n",
    "columns = header + updated_column_names + updated_column_names_radiation\n",
    "\n",
    "df = pd.DataFrame(columns=columns)\n",
    "\n",
    "df.to_csv('MissingValues/missingValues2010.csv', index=False)"
   ]
  },
  {
   "cell_type": "code",
   "execution_count": 27,
   "metadata": {},
   "outputs": [
    {
     "name": "stdout",
     "output_type": "stream",
     "text": [
      "12:00\n",
      "26.3\n",
      "2010-08-12T12:00\n"
     ]
    }
   ],
   "source": [
    "row = na_rows.iloc[index]\n",
    "\n",
    "ANO = row['year']\n",
    "DISTRICTO = row['district']\n",
    "CONCELHO = row['municipality']\n",
    "FREGUESIA = row['parish']\n",
    "CAUSA = row['cause']\n",
    "LOCAL = row['local']\n",
    "print(HORA)\n",
    "#HORA = int(HORA.split(\":\")[0])\n",
    "#print(str(HORA))\n",
    "HORA = str(\"12\")\n",
    "_fileName = f\"{DIA}_{MES}_{HORA}_{LAT}_{LON}.csv.csv\"\n",
    "_fileName_radiation = f\"{DIA}_{MES}_{HORA}_{LAT}_{LON}_radiation.csv\"\n",
    "\n",
    "dfMet = pd.read_csv(f\"MissingValues/{_fileName}\")\n",
    "dfRad = pd.read_csv(f\"MissingValues/{_fileName_radiation}\")\n",
    "\n",
    "#MUDAR AQUI TAMBEM\n",
    "HORA = 12\n",
    "\n",
    "list_from_string = ast.literal_eval(dfMet[updated_column_names[2]].iloc[0])[HORA]\n",
    "\n",
    "print(list_from_string)\n",
    "\n",
    "list_from_string = ast.literal_eval(dfMet[updated_column_names[1]].iloc[0])[HORA]\n",
    "\n",
    "print(list_from_string)\n",
    "\n",
    "new_data = {\n",
    "    'year': ANO,\n",
    "    'date': f\"{_DATA}\",\n",
    "    'district': DISTRICTO,\n",
    "    'municipality': CONCELHO,\n",
    "    'parish': FREGUESIA,\n",
    "    'local': LOCAL,\n",
    "    'latitude': LAT,\n",
    "    'longitude': LON,\n",
    "    'cause': CAUSA,\n",
    "    'elevation': dfMet['elevation'].iloc[0]\n",
    "}\n",
    "\n",
    "try:\n",
    "    for i in range(1, len(updated_column_names)):\n",
    "        new_data[updated_column_names[i]] = ast.literal_eval(dfMet[updated_column_names[i]].iloc[0])[HORA]\n",
    "except Exception as e:\n",
    "    print(\"->\", e)\n",
    "\n",
    "try:\n",
    "    for i in range(0, len(updated_column_names_radiation)):\n",
    "        new_data[updated_column_names_radiation[i]] = ast.literal_eval(dfRad[updated_column_names_radiation[i]].iloc[0])[HORA]\n",
    "except Exception as e:\n",
    "    print(\"-x\", e)\n",
    "\n",
    "new_df = pd.DataFrame(new_data, index=[0])\n",
    "\n",
    "new_df.to_csv('MissingValues/missingValues2010.csv', mode='a', header=False, index=False)"
   ]
  },
  {
   "cell_type": "code",
   "execution_count": 28,
   "metadata": {},
   "outputs": [
    {
     "name": "stderr",
     "output_type": "stream",
     "text": [
      "/tmp/ipykernel_49352/3256817697.py:33: SettingWithCopyWarning: \n",
      "A value is trying to be set on a copy of a slice from a DataFrame.\n",
      "Try using .loc[row_indexer,col_indexer] = value instead\n",
      "\n",
      "See the caveats in the documentation: https://pandas.pydata.org/pandas-docs/stable/user_guide/indexing.html#returning-a-view-versus-a-copy\n",
      "  filtered_df['distance'] = filtered_df.apply(lambda x: DistanceTwoPoints(lat1, lon1, x['decimalLatitude'], x['decimalLongitude']), axis=1)\n"
     ]
    },
    {
     "name": "stdout",
     "output_type": "stream",
     "text": [
      "('Tracheophyta', 235.5433930495615)\n"
     ]
    }
   ],
   "source": [
    "_year = 2010\n",
    "newValues = pd.read_csv(f'MissingValues/missingValues{_year}.csv')\n",
    "print(checkNearestPoint(newValues.iloc[0]))\n",
    "\n",
    "newValues['scientificNames'] = newValues.apply(check_district, axis=1)\n",
    "newValues.to_csv(f'MissingValues/{_year}_checkDistrict.csv', index=False)"
   ]
  }
 ],
 "metadata": {
  "kernelspec": {
   "display_name": "Python 3",
   "language": "python",
   "name": "python3"
  },
  "language_info": {
   "codemirror_mode": {
    "name": "ipython",
    "version": 3
   },
   "file_extension": ".py",
   "mimetype": "text/x-python",
   "name": "python",
   "nbconvert_exporter": "python",
   "pygments_lexer": "ipython3",
   "version": "3.10.12"
  }
 },
 "nbformat": 4,
 "nbformat_minor": 2
}
