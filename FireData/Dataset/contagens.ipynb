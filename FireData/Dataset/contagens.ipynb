{
 "cells": [
  {
   "cell_type": "code",
   "execution_count": 1,
   "metadata": {},
   "outputs": [
    {
     "name": "stdout",
     "output_type": "stream",
     "text": [
      "2001: 25982\n",
      "2002: 25650\n",
      "2003: 25138\n",
      "2004: 21189\n",
      "2005: 34578\n",
      "2006: 19175\n",
      "2007: 15615\n",
      "2008: 9905\n",
      "2009: 17399\n",
      "2010: 14431\n",
      "2011: 14913\n",
      "2012: 11841\n",
      "2013: 11899\n",
      "2014: 3833\n",
      "2015: 8431\n",
      "2016: 7782\n",
      "2017: 10412\n",
      "2018: 5559\n",
      "2019: 4040\n",
      "2020: 3953\n",
      "2021: 2610\n",
      "2022: 4040\n",
      "2023: 2499\n"
     ]
    }
   ],
   "source": [
    "import pandas as pd\n",
    "\n",
    "print()"
   ]
  },
  {
   "cell_type": "code",
   "execution_count": 10,
   "metadata": {},
   "outputs": [
    {
     "name": "stdout",
     "output_type": "stream",
     "text": [
      "2001: 215\n",
      "2002: 221\n",
      "2003: 234\n",
      "2004: 268\n",
      "2005: 377\n",
      "2006: 1557\n",
      "2007: 3577\n",
      "2008: 3253\n",
      "2009: 4422\n",
      "2010: 6071\n",
      "2011: 5915\n",
      "2012: 4041\n",
      "2013: 4133\n",
      "2014: 2273\n",
      "2015: 3834\n",
      "2016: 3497\n",
      "2017: 5266\n",
      "2018: 2949\n",
      "2019: 2506\n",
      "2020: 2480\n",
      "2021: 2101\n",
      "2022: 3154\n",
      "2023: 1863\n"
     ]
    }
   ],
   "source": [
    "for i in range(2001, 2023+1):\n",
    "    df = pd.read_csv(f'{i}.csv')\n",
    "    df_natural = df[df['cause'] == 'Desconhecida']\n",
    "    print(f'{i}: {df_natural.shape[0]}')"
   ]
  },
  {
   "cell_type": "code",
   "execution_count": 11,
   "metadata": {},
   "outputs": [
    {
     "name": "stderr",
     "output_type": "stream",
     "text": [
      "/tmp/ipykernel_15402/2004825861.py:1: DtypeWarning: Columns (16,17,18,47,52,53) have mixed types. Specify dtype option on import or set low_memory=False.\n",
      "  df = pd.read_csv(\"AllYearsCombined.csv\")\n"
     ]
    },
    {
     "name": "stdout",
     "output_type": "stream",
     "text": [
      "64207\n"
     ]
    }
   ],
   "source": [
    "df = pd.read_csv(\"AllYearsCombined.csv\")\n",
    "df_natural = df[df['cause'] == 'Desconhecida']\n",
    "print(len(df_natural))"
   ]
  },
  {
   "cell_type": "code",
   "execution_count": 7,
   "metadata": {},
   "outputs": [
    {
     "name": "stderr",
     "output_type": "stream",
     "text": [
      "/tmp/ipykernel_15402/1336986253.py:1: DtypeWarning: Columns (16,17,18,47,52,53) have mixed types. Specify dtype option on import or set low_memory=False.\n",
      "  df = pd.read_csv(\"AllYearsCombined.csv\")\n"
     ]
    },
    {
     "name": "stdout",
     "output_type": "stream",
     "text": [
      "['NC' 'Desconhecida' 'Natural' 'Reacendimento']\n"
     ]
    }
   ],
   "source": [
    "df = pd.read_csv(\"AllYearsCombined.csv\")\n",
    "print(df[\"cause\"].unique())"
   ]
  }
 ],
 "metadata": {
  "kernelspec": {
   "display_name": "Python 3",
   "language": "python",
   "name": "python3"
  },
  "language_info": {
   "codemirror_mode": {
    "name": "ipython",
    "version": 3
   },
   "file_extension": ".py",
   "mimetype": "text/x-python",
   "name": "python",
   "nbconvert_exporter": "python",
   "pygments_lexer": "ipython3",
   "version": "3.10.12"
  }
 },
 "nbformat": 4,
 "nbformat_minor": 2
}
