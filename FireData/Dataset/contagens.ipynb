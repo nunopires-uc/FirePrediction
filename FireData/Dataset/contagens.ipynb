{
 "cells": [
  {
   "cell_type": "code",
   "execution_count": 2,
   "metadata": {},
   "outputs": [
    {
     "name": "stdout",
     "output_type": "stream",
     "text": [
      "\n"
     ]
    }
   ],
   "source": [
    "import pandas as pd\n",
    "\n",
    "print()"
   ]
  },
  {
   "cell_type": "code",
   "execution_count": 6,
   "metadata": {},
   "outputs": [
    {
     "name": "stdout",
     "output_type": "stream",
     "text": [
      "12301\n"
     ]
    }
   ],
   "source": [
    "contagem = 0\n",
    "for i in range(2001, 2023+1):\n",
    "    df = pd.read_csv(f'{i}.csv')\n",
    "    #df_natural = df[df['cause'] == 'Reacendimento']\n",
    "    #contagem += df_natural.shape[0]\n",
    "    contagem += df.shape[0]\n",
    "    #print(f'{i}: {df_natural.shape[0]}')\n",
    "\n",
    "print(contagem)"
   ]
  },
  {
   "cell_type": "code",
   "execution_count": 11,
   "metadata": {},
   "outputs": [
    {
     "name": "stderr",
     "output_type": "stream",
     "text": [
      "/tmp/ipykernel_15402/2004825861.py:1: DtypeWarning: Columns (16,17,18,47,52,53) have mixed types. Specify dtype option on import or set low_memory=False.\n",
      "  df = pd.read_csv(\"AllYearsCombined.csv\")\n"
     ]
    },
    {
     "name": "stdout",
     "output_type": "stream",
     "text": [
      "64207\n"
     ]
    }
   ],
   "source": [
    "df = pd.read_csv(\"AllYearsCombined.csv\")\n",
    "df_natural = df[df['cause'] == 'Desconhecida']\n",
    "print(len(df_natural))"
   ]
  },
  {
   "cell_type": "code",
   "execution_count": 7,
   "metadata": {},
   "outputs": [
    {
     "name": "stderr",
     "output_type": "stream",
     "text": [
      "/tmp/ipykernel_15402/1336986253.py:1: DtypeWarning: Columns (16,17,18,47,52,53) have mixed types. Specify dtype option on import or set low_memory=False.\n",
      "  df = pd.read_csv(\"AllYearsCombined.csv\")\n"
     ]
    },
    {
     "name": "stdout",
     "output_type": "stream",
     "text": [
      "['NC' 'Desconhecida' 'Natural' 'Reacendimento']\n"
     ]
    }
   ],
   "source": [
    "df = pd.read_csv(\"AllYearsCombined.csv\")\n",
    "print(df[\"cause\"].unique())"
   ]
  }
 ],
 "metadata": {
  "kernelspec": {
   "display_name": "Python 3",
   "language": "python",
   "name": "python3"
  },
  "language_info": {
   "codemirror_mode": {
    "name": "ipython",
    "version": 3
   },
   "file_extension": ".py",
   "mimetype": "text/x-python",
   "name": "python",
   "nbconvert_exporter": "python",
   "pygments_lexer": "ipython3",
   "version": "3.10.12"
  }
 },
 "nbformat": 4,
 "nbformat_minor": 2
}
