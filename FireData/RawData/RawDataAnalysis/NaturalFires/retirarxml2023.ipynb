{
 "cells": [
  {
   "cell_type": "code",
   "execution_count": 3,
   "metadata": {},
   "outputs": [
    {
     "name": "stderr",
     "output_type": "stream",
     "text": [
      "/tmp/ipykernel_79001/3328155518.py:3: DeprecationWarning: \n",
      "Pyarrow will become a required dependency of pandas in the next major release of pandas (pandas 3.0),\n",
      "(to allow more performant data types, such as the Arrow string type, and better interoperability with other libraries)\n",
      "but was not found to be installed on your system.\n",
      "If this would cause problems for you,\n",
      "please provide us feedback at https://github.com/pandas-dev/pandas/issues/54466\n",
      "        \n",
      "  import pandas as pd\n"
     ]
    }
   ],
   "source": [
    "import requests\n",
    "import xml.etree.ElementTree as ET\n",
    "import pandas as pd"
   ]
  },
  {
   "cell_type": "code",
   "execution_count": 4,
   "metadata": {},
   "outputs": [
    {
     "name": "stdout",
     "output_type": "stream",
     "text": [
      "<Element 'INCENDIOSRURAIS' at 0x7fad0df12250>\n",
      "<Element 'INCENDIOSRURAIS' at 0x7fad0df12c50>\n",
      "<Element 'INCENDIOSRURAIS' at 0x7facf703b7e0>\n",
      "<Element 'INCENDIOSRURAIS' at 0x7facf766af20>\n",
      "<Element 'INCENDIOSRURAIS' at 0x7fad0a8f8e00>\n",
      "<Element 'INCENDIOSRURAIS' at 0x7fad051d78d0>\n",
      "<Element 'INCENDIOSRURAIS' at 0x7fad0d5cbd30>\n",
      "<Element 'INCENDIOSRURAIS' at 0x7facfd04e7f0>\n",
      "<Element 'INCENDIOSRURAIS' at 0x7facfec54c70>\n",
      "<Element 'INCENDIOSRURAIS' at 0x7fad0487a570>\n",
      "<Element 'INCENDIOSRURAIS' at 0x7fad09e1acf0>\n"
     ]
    }
   ],
   "source": [
    "for y in range(2013, 2023+1):\n",
    "    # Send a GET request to the URL\n",
    "    response = requests.get(f'https://fogos.icnf.pt/localizador/webserviceocorrencias.asp?ano={y}')\n",
    "\n",
    "    # Parse the XML\n",
    "    root = ET.fromstring(response.content)\n",
    "\n",
    "    print(root)\n",
    "\n",
    "    # Create a list to store the items\n",
    "    items = []\n",
    "\n",
    "    # Iterate over the XML elements\n",
    "    for child in root:\n",
    "        item = {}\n",
    "        for element in child:\n",
    "            item[element.tag] = element.text\n",
    "        items.append(item)\n",
    "\n",
    "    # Convert the list of dictionaries into a DataFrame\n",
    "    df = pd.DataFrame(items)\n",
    "\n",
    "    # Save the DataFrame as a CSV file\n",
    "    df.to_csv(f'{y}.csv', index=False)"
   ]
  },
  {
   "cell_type": "code",
   "execution_count": 5,
   "metadata": {},
   "outputs": [
    {
     "name": "stderr",
     "output_type": "stream",
     "text": [
      "/tmp/ipykernel_79001/2366636694.py:3: DtypeWarning: Columns (71,72,73) have mixed types. Specify dtype option on import or set low_memory=False.\n",
      "  df = pd.read_csv(f'{str(y)}.csv')\n",
      "/tmp/ipykernel_79001/2366636694.py:3: DtypeWarning: Columns (65) have mixed types. Specify dtype option on import or set low_memory=False.\n",
      "  df = pd.read_csv(f'{str(y)}.csv')\n"
     ]
    },
    {
     "name": "stdout",
     "output_type": "stream",
     "text": [
      "77\n",
      "38\n",
      "138\n",
      "67\n",
      "104\n",
      "114\n",
      "128\n",
      "95\n",
      "103\n",
      "115\n",
      "72\n",
      "1051\n"
     ]
    },
    {
     "name": "stderr",
     "output_type": "stream",
     "text": [
      "/tmp/ipykernel_79001/2366636694.py:3: DtypeWarning: Columns (27,66,68,70,71,74,75) have mixed types. Specify dtype option on import or set low_memory=False.\n",
      "  df = pd.read_csv(f'{str(y)}.csv')\n"
     ]
    }
   ],
   "source": [
    "soma = 0\n",
    "for y in range(2013, 2023+1):\n",
    "    df = pd.read_csv(f'{str(y)}.csv')\n",
    "    filtered_df = df[(df['TIPO'] == 'Florestal') & (df['TIPOCAUSA'].isin(['Natural']))]\n",
    "    print(len(filtered_df))\n",
    "    soma += len(filtered_df)\n",
    "\n",
    "print(soma)"
   ]
  },
  {
   "cell_type": "code",
   "execution_count": 27,
   "metadata": {},
   "outputs": [],
   "source": []
  }
 ],
 "metadata": {
  "kernelspec": {
   "display_name": "Python 3",
   "language": "python",
   "name": "python3"
  },
  "language_info": {
   "codemirror_mode": {
    "name": "ipython",
    "version": 3
   },
   "file_extension": ".py",
   "mimetype": "text/x-python",
   "name": "python",
   "nbconvert_exporter": "python",
   "pygments_lexer": "ipython3",
   "version": "3.10.12"
  }
 },
 "nbformat": 4,
 "nbformat_minor": 2
}
