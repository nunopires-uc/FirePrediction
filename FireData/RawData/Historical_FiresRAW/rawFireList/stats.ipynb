{
 "cells": [
  {
   "cell_type": "code",
   "execution_count": 4,
   "metadata": {},
   "outputs": [
    {
     "name": "stdout",
     "output_type": "stream",
     "text": [
      "File: /home/ori/Desktop/SPAWN/FirePrediction/FireData/RawData/Historical_FiresRAW/rawFireList/incendios1980.csv, Entries: 2346\n",
      "File: /home/ori/Desktop/SPAWN/FirePrediction/FireData/RawData/Historical_FiresRAW/rawFireList/incendios1981.csv, Entries: 6727\n",
      "File: /home/ori/Desktop/SPAWN/FirePrediction/FireData/RawData/Historical_FiresRAW/rawFireList/incendios1982.csv, Entries: 3625\n",
      "File: /home/ori/Desktop/SPAWN/FirePrediction/FireData/RawData/Historical_FiresRAW/rawFireList/incendios1983.csv, Entries: 4536\n",
      "File: /home/ori/Desktop/SPAWN/FirePrediction/FireData/RawData/Historical_FiresRAW/rawFireList/incendios1984.csv, Entries: 7355\n",
      "File: /home/ori/Desktop/SPAWN/FirePrediction/FireData/RawData/Historical_FiresRAW/rawFireList/incendios1985.csv, Entries: 8439\n",
      "File: /home/ori/Desktop/SPAWN/FirePrediction/FireData/RawData/Historical_FiresRAW/rawFireList/incendios1986.csv, Entries: 5036\n",
      "File: /home/ori/Desktop/SPAWN/FirePrediction/FireData/RawData/Historical_FiresRAW/rawFireList/incendios1987.csv, Entries: 7703\n",
      "File: /home/ori/Desktop/SPAWN/FirePrediction/FireData/RawData/Historical_FiresRAW/rawFireList/incendios1988.csv, Entries: 6130\n",
      "File: /home/ori/Desktop/SPAWN/FirePrediction/FireData/RawData/Historical_FiresRAW/rawFireList/incendios1989.csv, Entries: 21895\n",
      "File: /home/ori/Desktop/SPAWN/FirePrediction/FireData/RawData/Historical_FiresRAW/rawFireList/incendios1990.csv, Entries: 10743\n",
      "File: /home/ori/Desktop/SPAWN/FirePrediction/FireData/RawData/Historical_FiresRAW/rawFireList/incendios1991.csv, Entries: 14327\n",
      "File: /home/ori/Desktop/SPAWN/FirePrediction/FireData/RawData/Historical_FiresRAW/rawFireList/incendios1992.csv, Entries: 14951\n",
      "File: /home/ori/Desktop/SPAWN/FirePrediction/FireData/RawData/Historical_FiresRAW/rawFireList/incendios1993.csv, Entries: 14799\n",
      "File: /home/ori/Desktop/SPAWN/FirePrediction/FireData/RawData/Historical_FiresRAW/rawFireList/incendios1994.csv, Entries: 19983\n",
      "File: /home/ori/Desktop/SPAWN/FirePrediction/FireData/RawData/Historical_FiresRAW/rawFireList/incendios1995.csv, Entries: 34116\n",
      "File: /home/ori/Desktop/SPAWN/FirePrediction/FireData/RawData/Historical_FiresRAW/rawFireList/incendios1996.csv, Entries: 28626\n",
      "File: /home/ori/Desktop/SPAWN/FirePrediction/FireData/RawData/Historical_FiresRAW/rawFireList/incendios1997.csv, Entries: 23494\n"
     ]
    },
    {
     "name": "stderr",
     "output_type": "stream",
     "text": [
      "/tmp/ipykernel_21729/3045699994.py:16: DtypeWarning: Columns (9,10,13) have mixed types. Specify dtype option on import or set low_memory=False.\n",
      "  df = pd.read_csv(file)\n"
     ]
    },
    {
     "name": "stdout",
     "output_type": "stream",
     "text": [
      "File: /home/ori/Desktop/SPAWN/FirePrediction/FireData/RawData/Historical_FiresRAW/rawFireList/incendios1998.csv, Entries: 34675\n",
      "File: /home/ori/Desktop/SPAWN/FirePrediction/FireData/RawData/Historical_FiresRAW/rawFireList/incendios1999.csv, Entries: 25473\n",
      "File: /home/ori/Desktop/SPAWN/FirePrediction/FireData/RawData/Historical_FiresRAW/rawFireList/incendios2000.csv, Entries: 34107\n",
      "File: /home/ori/Desktop/SPAWN/FirePrediction/FireData/RawData/Historical_FiresRAW/rawFireList/incendios2001.csv, Entries: 31582\n"
     ]
    },
    {
     "name": "stderr",
     "output_type": "stream",
     "text": [
      "/tmp/ipykernel_21729/3045699994.py:16: DtypeWarning: Columns (29,30) have mixed types. Specify dtype option on import or set low_memory=False.\n",
      "  df = pd.read_csv(file)\n"
     ]
    },
    {
     "name": "stdout",
     "output_type": "stream",
     "text": [
      "File: /home/ori/Desktop/SPAWN/FirePrediction/FireData/RawData/Historical_FiresRAW/rawFireList/incendios2002.csv, Entries: 33697\n",
      "File: /home/ori/Desktop/SPAWN/FirePrediction/FireData/RawData/Historical_FiresRAW/rawFireList/incendios2003.csv, Entries: 30345\n",
      "File: /home/ori/Desktop/SPAWN/FirePrediction/FireData/RawData/Historical_FiresRAW/rawFireList/incendios2004.csv, Entries: 34722\n",
      "File: /home/ori/Desktop/SPAWN/FirePrediction/FireData/RawData/Historical_FiresRAW/rawFireList/incendios2005.csv, Entries: 50364\n",
      "File: /home/ori/Desktop/SPAWN/FirePrediction/FireData/RawData/Historical_FiresRAW/rawFireList/incendios2006.csv, Entries: 31445\n",
      "File: /home/ori/Desktop/SPAWN/FirePrediction/FireData/RawData/Historical_FiresRAW/rawFireList/incendios2007.csv, Entries: 31122\n",
      "File: /home/ori/Desktop/SPAWN/FirePrediction/FireData/RawData/Historical_FiresRAW/rawFireList/incendios2008.csv, Entries: 23139\n",
      "File: /home/ori/Desktop/SPAWN/FirePrediction/FireData/RawData/Historical_FiresRAW/rawFireList/incendios2009.csv, Entries: 34979\n",
      "File: /home/ori/Desktop/SPAWN/FirePrediction/FireData/RawData/Historical_FiresRAW/rawFireList/incendios2010.csv, Entries: 32357\n",
      "File: /home/ori/Desktop/SPAWN/FirePrediction/FireData/RawData/Historical_FiresRAW/rawFireList/incendios2011.csv, Entries: 35941\n",
      "File: /home/ori/Desktop/SPAWN/FirePrediction/FireData/RawData/Historical_FiresRAW/rawFireList/incendios2012.csv, Entries: 30740\n",
      "File: /home/ori/Desktop/SPAWN/FirePrediction/FireData/RawData/Historical_FiresRAW/rawFireList/incendios2013.csv, Entries: 27372\n",
      "File: /home/ori/Desktop/SPAWN/FirePrediction/FireData/RawData/Historical_FiresRAW/rawFireList/incendios2014.csv, Entries: 11387\n",
      "File: /home/ori/Desktop/SPAWN/FirePrediction/FireData/RawData/Historical_FiresRAW/rawFireList/incendios2015.csv, Entries: 23175\n",
      "Total entries: 791453\n"
     ]
    }
   ],
   "source": [
    "import pandas as pd\n",
    "import glob\n",
    "import os\n",
    "\n",
    "\n",
    "current_directory = os.getcwd()\n",
    "\n",
    "files = glob.glob(f'{current_directory}/**/*incendios*', recursive=True)\n",
    "\n",
    "files = sorted(files)\n",
    "\n",
    "total_entries = 0\n",
    "\n",
    "for file in files:\n",
    "    try:\n",
    "        df = pd.read_csv(file)\n",
    "        num_entries = df.shape[0]\n",
    "        total_entries += num_entries\n",
    "        print(f'File: {file}, Entries: {num_entries}')\n",
    "    except Exception as e:\n",
    "        print(f'Could not open file {file}. Reason: {e}')\n",
    "\n",
    "print(f'Total entries: {total_entries}')\n",
    "\n"
   ]
  },
  {
   "cell_type": "code",
   "execution_count": 5,
   "metadata": {},
   "outputs": [
    {
     "name": "stderr",
     "output_type": "stream",
     "text": [
      "/tmp/ipykernel_21729/1940297233.py:16: DtypeWarning: Columns (72,73,74) have mixed types. Specify dtype option on import or set low_memory=False.\n",
      "  df = pd.read_csv(file)\n",
      "/tmp/ipykernel_21729/1940297233.py:16: DtypeWarning: Columns (66) have mixed types. Specify dtype option on import or set low_memory=False.\n",
      "  df = pd.read_csv(file)\n"
     ]
    },
    {
     "name": "stdout",
     "output_type": "stream",
     "text": [
      "File: /home/ori/Desktop/SPAWN/FirePrediction/FireData/RawData/Historical_FiresRAW/rawFireList/icnf_2013_raw.csv, Entries: 24479\n",
      "File: /home/ori/Desktop/SPAWN/FirePrediction/FireData/RawData/Historical_FiresRAW/rawFireList/icnf_2014_raw.csv, Entries: 10286\n"
     ]
    },
    {
     "name": "stderr",
     "output_type": "stream",
     "text": [
      "/tmp/ipykernel_21729/1940297233.py:16: DtypeWarning: Columns (66,67) have mixed types. Specify dtype option on import or set low_memory=False.\n",
      "  df = pd.read_csv(file)\n"
     ]
    },
    {
     "name": "stdout",
     "output_type": "stream",
     "text": [
      "File: /home/ori/Desktop/SPAWN/FirePrediction/FireData/RawData/Historical_FiresRAW/rawFireList/icnf_2015.csv, Entries: 19669\n",
      "File: /home/ori/Desktop/SPAWN/FirePrediction/FireData/RawData/Historical_FiresRAW/rawFireList/icnf_2016.csv, Entries: 16131\n",
      "File: /home/ori/Desktop/SPAWN/FirePrediction/FireData/RawData/Historical_FiresRAW/rawFireList/icnf_2017.csv, Entries: 21074\n",
      "File: /home/ori/Desktop/SPAWN/FirePrediction/FireData/RawData/Historical_FiresRAW/rawFireList/icnf_2018.csv, Entries: 12296\n"
     ]
    },
    {
     "name": "stderr",
     "output_type": "stream",
     "text": [
      "/tmp/ipykernel_21729/1940297233.py:16: DtypeWarning: Columns (66,67,69,71,72,75,76) have mixed types. Specify dtype option on import or set low_memory=False.\n",
      "  df = pd.read_csv(file)\n"
     ]
    },
    {
     "name": "stdout",
     "output_type": "stream",
     "text": [
      "File: /home/ori/Desktop/SPAWN/FirePrediction/FireData/RawData/Historical_FiresRAW/rawFireList/icnf_2019.csv, Entries: 10909\n",
      "File: /home/ori/Desktop/SPAWN/FirePrediction/FireData/RawData/Historical_FiresRAW/rawFireList/icnf_2020.csv, Entries: 9713\n",
      "File: /home/ori/Desktop/SPAWN/FirePrediction/FireData/RawData/Historical_FiresRAW/rawFireList/icnf_2021.csv, Entries: 6996\n",
      "File: /home/ori/Desktop/SPAWN/FirePrediction/FireData/RawData/Historical_FiresRAW/rawFireList/icnf_2022_raw.csv, Entries: 1335\n",
      "File: /home/ori/Desktop/SPAWN/FirePrediction/FireData/RawData/Historical_FiresRAW/rawFireList/icnf_2023.csv, Entries: 7626\n",
      "Total entries: 140514\n"
     ]
    }
   ],
   "source": [
    "import pandas as pd\n",
    "import glob\n",
    "import os\n",
    "\n",
    "\n",
    "current_directory = os.getcwd()\n",
    "\n",
    "files = glob.glob(f'{current_directory}/**/*icnf*', recursive=True)\n",
    "\n",
    "files = sorted(files)\n",
    "\n",
    "total_entries = 0\n",
    "\n",
    "for file in files:\n",
    "    try:\n",
    "        df = pd.read_csv(file)\n",
    "        num_entries = df.shape[0]\n",
    "        total_entries += num_entries\n",
    "        print(f'File: {file}, Entries: {num_entries}')\n",
    "    except Exception as e:\n",
    "        print(f'Could not open file {file}. Reason: {e}')\n",
    "\n",
    "print(f'Total entries: {total_entries}')\n",
    "\n"
   ]
  }
 ],
 "metadata": {
  "kernelspec": {
   "display_name": "Python 3",
   "language": "python",
   "name": "python3"
  },
  "language_info": {
   "codemirror_mode": {
    "name": "ipython",
    "version": 3
   },
   "file_extension": ".py",
   "mimetype": "text/x-python",
   "name": "python",
   "nbconvert_exporter": "python",
   "pygments_lexer": "ipython3",
   "version": "3.10.12"
  }
 },
 "nbformat": 4,
 "nbformat_minor": 2
}
