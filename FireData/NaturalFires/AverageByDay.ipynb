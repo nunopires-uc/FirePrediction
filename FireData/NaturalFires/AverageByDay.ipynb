{
 "cells": [
  {
   "cell_type": "code",
   "execution_count": 1,
   "metadata": {},
   "outputs": [],
   "source": [
    "import pandas as pd\n",
    "\n",
    "df = pd.read_csv('WeatherHistory.csv')"
   ]
  },
  {
   "cell_type": "code",
   "execution_count": 2,
   "metadata": {},
   "outputs": [
    {
     "name": "stdout",
     "output_type": "stream",
     "text": [
      "Number of unique locations: 1770\n"
     ]
    }
   ],
   "source": [
    "# Assuming 'df' is your DataFrame and 'location' is the column with the locations\n",
    "num_unique_locations = df['location'].nunique()\n",
    "print(f'Number of unique locations: {num_unique_locations}')"
   ]
  },
  {
   "cell_type": "code",
   "execution_count": 3,
   "metadata": {},
   "outputs": [
    {
     "name": "stdout",
     "output_type": "stream",
     "text": [
      "Index(['index', 'Unnamed: 0', 'latitude', 'longitude', 'elevation',\n",
      "       'hourly.time', 'hourly.temperature_2m', 'hourly.relative_humidity_2m',\n",
      "       'hourly.dew_point_2m', 'hourly.apparent_temperature',\n",
      "       'hourly.precipitation', 'hourly.rain', 'hourly.snowfall',\n",
      "       'hourly.snow_depth', 'hourly.weather_code', 'hourly.pressure_msl',\n",
      "       'hourly.surface_pressure', 'hourly.cloud_cover',\n",
      "       'hourly.cloud_cover_low', 'hourly.cloud_cover_mid',\n",
      "       'hourly.cloud_cover_high', 'hourly.et0_fao_evapotranspiration',\n",
      "       'hourly.vapour_pressure_deficit', 'hourly.wind_speed_10m',\n",
      "       'hourly.wind_speed_100m', 'hourly.wind_direction_10m',\n",
      "       'hourly.wind_direction_100m', 'hourly.wind_gusts_10m',\n",
      "       'hourly.soil_temperature_0_to_7cm', 'hourly.soil_temperature_7_to_28cm',\n",
      "       'hourly.soil_temperature_28_to_100cm',\n",
      "       'hourly.soil_temperature_100_to_255cm', 'hourly.soil_moisture_0_to_7cm',\n",
      "       'hourly.soil_moisture_7_to_28cm', 'hourly.soil_moisture_28_to_100cm',\n",
      "       'hourly.soil_moisture_100_to_255cm', 'hourly.is_day',\n",
      "       'hourly.sunshine_duration', 'hourly.shortwave_radiation',\n",
      "       'hourly.direct_radiation', 'hourly.diffuse_radiation',\n",
      "       'hourly.direct_normal_irradiance', 'hourly.global_tilted_irradiance',\n",
      "       'hourly.terrestrial_radiation', 'hourly.shortwave_radiation_instant',\n",
      "       'hourly.direct_radiation_instant', 'hourly.diffuse_radiation_instant',\n",
      "       'hourly.direct_normal_irradiance_instant',\n",
      "       'hourly.global_tilted_irradiance_instant',\n",
      "       'hourly.terrestrial_radiation_instant', 'fwix', 'ffmc', 'dmc', 'dc',\n",
      "       'isi', 'bui', 'location', 'index.1'],\n",
      "      dtype='object')\n"
     ]
    }
   ],
   "source": [
    "print(df.columns)"
   ]
  },
  {
   "cell_type": "code",
   "execution_count": 12,
   "metadata": {},
   "outputs": [],
   "source": [
    "df['hourly.time'] = pd.to_datetime(df['hourly.time'])\n",
    "\n",
    "df['day'] = df['hourly.time'].dt.date\n",
    "\n",
    "exclude_columns = ['latitude', 'longitude', 'hourly.time', 'elevation']\n",
    "\n",
    "df_daily_avg = df.drop(columns=exclude_columns).groupby(['day', 'location']).mean()\n",
    "\n",
    "df_daily_avg.reset_index(inplace=True)\n",
    "\n",
    "df_daily_avg.sort_values(by=['location', 'day'], inplace=True)\n",
    "\n",
    "df_daily_avg.to_csv('daily_averageX.csv', index=False)"
   ]
  },
  {
   "cell_type": "code",
   "execution_count": 4,
   "metadata": {},
   "outputs": [],
   "source": [
    "#Desvio padrão e mediana: \n",
    "df['hourly.time'] = pd.to_datetime(df['hourly.time'])\n",
    "\n",
    "df['day'] = df['hourly.time'].dt.date\n",
    "\n",
    "exclude_columns = ['latitude', 'longitude', 'hourly.time', 'elevation']\n",
    "\n",
    "\n",
    "df_daily_avg = df.drop(columns=exclude_columns).groupby(['day', 'location']).mean()\n",
    "\n",
    "df_daily_std = df.drop(columns=exclude_columns).groupby(['day', 'location']).std()\n",
    "df_daily_std.columns = [f'{col}_std' for col in df_daily_std.columns]\n",
    "\n",
    "df_daily_median = df.drop(columns=exclude_columns).groupby(['day', 'location']).median()\n",
    "df_daily_median.columns = [f'{col}_median' for col in df_daily_median.columns]\n",
    "\n",
    "df_daily = pd.concat([df_daily_avg, df_daily_std, df_daily_median], axis=1)\n",
    "\n",
    "df_daily.reset_index(inplace=True)\n",
    "\n",
    "df_daily.sort_values(by=['location', 'day'], inplace=True)\n",
    "\n",
    "df_daily.to_csv('daily_statistics.csv', index=False)"
   ]
  },
  {
   "cell_type": "code",
   "execution_count": 7,
   "metadata": {},
   "outputs": [
    {
     "name": "stdout",
     "output_type": "stream",
     "text": [
      "hourly.sunshine_duration_std                   1722.302208\n",
      "hourly.terrestrial_radiation_instant_std        480.661877\n",
      "hourly.terrestrial_radiation_std                477.923851\n",
      "hourly.global_tilted_irradiance_instant_std     317.814848\n",
      "hourly.shortwave_radiation_instant_std          317.201004\n",
      "hourly.direct_normal_irradiance_instant_std     316.747885\n",
      "hourly.global_tilted_irradiance_std             315.638241\n",
      "hourly.shortwave_radiation_std                  315.638241\n",
      "hourly.direct_normal_irradiance_std             314.469246\n",
      "hourly.direct_radiation_instant_std             250.014834\n",
      "hourly.direct_radiation_std                     248.891240\n",
      "hourly.diffuse_radiation_instant_std             76.627693\n",
      "hourly.diffuse_radiation_std                     75.952943\n",
      "hourly.wind_direction_10m_std                    66.560468\n",
      "hourly.wind_direction_100m_std                   65.694354\n",
      "dc_std                                           40.564813\n",
      "hourly.cloud_cover_high_std                      19.532134\n",
      "hourly.cloud_cover_std                           16.884037\n",
      "hourly.relative_humidity_2m_std                  16.617904\n",
      "bui_std                                          15.561381\n",
      "hourly.cloud_cover_low_std                       14.387584\n",
      "dmc_std                                          13.829214\n",
      "hourly.cloud_cover_mid_std                       11.375243\n",
      "ffmc_std                                          8.291462\n",
      "hourly.wind_gusts_10m_std                         8.147703\n",
      "fwix_std                                          7.364210\n",
      "Unnamed: 0_std                                    7.071068\n",
      "index_std                                         7.071039\n",
      "index.1_std                                       7.071025\n",
      "hourly.weather_code_std                           6.297909\n",
      "hourly.wind_speed_100m_std                        5.225716\n",
      "hourly.soil_temperature_0_to_7cm_std              4.288493\n",
      "hourly.apparent_temperature_std                   4.231377\n",
      "hourly.temperature_2m_std                         4.132608\n",
      "hourly.wind_speed_10m_std                         3.607624\n",
      "isi_std                                           2.791112\n",
      "hourly.dew_point_2m_std                           1.617707\n",
      "hourly.pressure_msl_std                           1.203443\n",
      "hourly.surface_pressure_std                       1.123652\n",
      "hourly.soil_temperature_7_to_28cm_std             0.849455\n",
      "hourly.vapour_pressure_deficit_std                0.651723\n",
      "hourly.is_day_std                                 0.500413\n",
      "hourly.et0_fao_evapotranspiration_std             0.206449\n",
      "hourly.precipitation_std                          0.087523\n",
      "hourly.rain_std                                   0.087334\n",
      "hourly.soil_temperature_28_to_100cm_std           0.057602\n",
      "hourly.soil_temperature_100_to_255cm_std          0.026510\n",
      "hourly.soil_moisture_0_to_7cm_std                 0.006072\n",
      "hourly.soil_moisture_7_to_28cm_std                0.001759\n",
      "hourly.soil_moisture_28_to_100cm_std              0.000650\n",
      "hourly.snowfall_std                               0.000235\n",
      "hourly.soil_moisture_100_to_255cm_std             0.000179\n",
      "hourly.snow_depth_std                             0.000003\n",
      "dtype: float64\n",
      "     hourly.sunshine_duration_std\n",
      "245                   1783.826713\n",
      "259                   1568.632783\n",
      "273                   1349.356821\n",
      "287                   1792.519126\n",
      "301                   1795.723198\n"
     ]
    }
   ],
   "source": [
    "std_means = df_daily_std.mean().sort_values(ascending=False)\n",
    "\n",
    "print(std_means)\n",
    "\n",
    "highest_std_var = std_means.index[0]\n",
    "\n",
    "print(df_daily[[highest_std_var]].head())"
   ]
  }
 ],
 "metadata": {
  "kernelspec": {
   "display_name": "Python 3",
   "language": "python",
   "name": "python3"
  },
  "language_info": {
   "codemirror_mode": {
    "name": "ipython",
    "version": 3
   },
   "file_extension": ".py",
   "mimetype": "text/x-python",
   "name": "python",
   "nbconvert_exporter": "python",
   "pygments_lexer": "ipython3",
   "version": "3.10.12"
  }
 },
 "nbformat": 4,
 "nbformat_minor": 2
}
