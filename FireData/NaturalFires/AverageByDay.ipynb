{
 "cells": [
  {
   "cell_type": "code",
   "execution_count": 1,
   "metadata": {},
   "outputs": [],
   "source": [
    "import pandas as pd\n",
    "\n",
    "df = pd.read_csv('WeatherHistory.csv')"
   ]
  },
  {
   "cell_type": "code",
   "execution_count": 9,
   "metadata": {},
   "outputs": [
    {
     "name": "stdout",
     "output_type": "stream",
     "text": [
      "Number of unique locations: 1770\n"
     ]
    }
   ],
   "source": [
    "# Assuming 'df' is your DataFrame and 'location' is the column with the locations\n",
    "num_unique_locations = df['location'].nunique()\n",
    "print(f'Number of unique locations: {num_unique_locations}')"
   ]
  },
  {
   "cell_type": "code",
   "execution_count": 10,
   "metadata": {},
   "outputs": [
    {
     "name": "stdout",
     "output_type": "stream",
     "text": [
      "Index(['latitude', 'longitude', 'altitude', 'hourly.time',\n",
      "       'hourly.temperature_2m', 'hourly.relative_humidity_2m',\n",
      "       'hourly.dew_point_2m', 'hourly.apparent_temperature',\n",
      "       'hourly.precipitation', 'hourly.rain', 'hourly.snowfall',\n",
      "       'hourly.snow_depth', 'hourly.weather_code', 'hourly.pressure_msl',\n",
      "       'hourly.surface_pressure', 'hourly.cloud_cover',\n",
      "       'hourly.cloud_cover_low', 'hourly.cloud_cover_mid',\n",
      "       'hourly.cloud_cover_high', 'hourly.et0_fao_evapotranspiration',\n",
      "       'hourly.vapour_pressure_deficit', 'hourly.wind_speed_10m',\n",
      "       'hourly.wind_speed_100m', 'hourly.wind_direction_10m',\n",
      "       'hourly.wind_direction_100m', 'hourly.wind_gusts_10m',\n",
      "       'hourly.soil_temperature_0_to_7cm', 'hourly.soil_temperature_7_to_28cm',\n",
      "       'hourly.soil_temperature_28_to_100cm',\n",
      "       'hourly.soil_temperature_100_to_255cm', 'hourly.soil_moisture_0_to_7cm',\n",
      "       'hourly.soil_moisture_7_to_28cm', 'hourly.soil_moisture_28_to_100cm',\n",
      "       'hourly.soil_moisture_100_to_255cm', 'hourly.is_day',\n",
      "       'hourly.sunshine_duration', 'hourly.shortwave_radiation',\n",
      "       'hourly.direct_radiation', 'hourly.diffuse_radiation',\n",
      "       'hourly.direct_normal_irradiance', 'hourly.global_tilted_irradiance',\n",
      "       'hourly.terrestrial_radiation', 'hourly.shortwave_radiation_instant',\n",
      "       'hourly.direct_radiation_instant', 'hourly.diffuse_radiation_instant',\n",
      "       'hourly.direct_normal_irradiance_instant',\n",
      "       'hourly.global_tilted_irradiance_instant',\n",
      "       'hourly.terrestrial_radiation_instant', 'fwix', 'ffmc', 'dmc', 'dc',\n",
      "       'isi', 'bui', 'location', 'elevation'],\n",
      "      dtype='object')\n"
     ]
    }
   ],
   "source": [
    "print(df.columns)"
   ]
  },
  {
   "cell_type": "code",
   "execution_count": 12,
   "metadata": {},
   "outputs": [],
   "source": [
    "# Ensure 'hourly.time' is in datetime format\n",
    "df['hourly.time'] = pd.to_datetime(df['hourly.time'])\n",
    "\n",
    "# Create a new column 'day' based on the day of 'hourly.time'\n",
    "df['day'] = df['hourly.time'].dt.date\n",
    "\n",
    "# Identify the columns to exclude\n",
    "exclude_columns = ['latitude', 'longitude', 'hourly.time', 'elevation']\n",
    "\n",
    "# Calculate the daily average for each day, excluding the specified columns\n",
    "df_daily_avg = df.drop(columns=exclude_columns).groupby(['day', 'location']).mean()\n",
    "\n",
    "# Reset the index\n",
    "df_daily_avg.reset_index(inplace=True)\n",
    "\n",
    "# Sort the DataFrame by 'location' and 'day'\n",
    "df_daily_avg.sort_values(by=['location', 'day'], inplace=True)\n",
    "\n",
    "# Save the new DataFrame to a file\n",
    "df_daily_avg.to_csv('daily_average.csv', index=False)"
   ]
  }
 ],
 "metadata": {
  "kernelspec": {
   "display_name": "Python 3",
   "language": "python",
   "name": "python3"
  },
  "language_info": {
   "codemirror_mode": {
    "name": "ipython",
    "version": 3
   },
   "file_extension": ".py",
   "mimetype": "text/x-python",
   "name": "python",
   "nbconvert_exporter": "python",
   "pygments_lexer": "ipython3",
   "version": "3.10.12"
  }
 },
 "nbformat": 4,
 "nbformat_minor": 2
}
