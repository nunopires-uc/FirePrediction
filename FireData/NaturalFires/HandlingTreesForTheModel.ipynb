{
 "cells": [
  {
   "cell_type": "code",
   "execution_count": 10,
   "metadata": {},
   "outputs": [
    {
     "name": "stdout",
     "output_type": "stream",
     "text": [
      "['Quercus suber L.' '' 'Magnoliopsida' \"Eucalyptus L'Hér.\"\n",
      " 'Pinus pinea L.' 'Tracheophyta' 'Pinus pinaster Aiton'\n",
      " 'Ceratonia siliqua L.' 'Vitis vinifera L.' 'Pinales' 'Quercus L.'\n",
      " 'Olea europaea L.' 'Quercus rotundifolia Lam.' 'Castanea sativa Mill.'\n",
      " 'Oryza sativa L.' 'Acacia Mill.']\n"
     ]
    }
   ],
   "source": [
    "import pandas as pd\n",
    "\n",
    "dfWF = pd.read_csv('NaturalFiresTOPOGRAPHY.csv')\n",
    "\n",
    "pd.set_option('display.max_rows', None)\n",
    "\n",
    "# Use split to separate values separated by ';', then apply unique()\n",
    "unique_values = dfWF['scientificNames'].str.split('; ').explode().unique()\n",
    "\n",
    "print(unique_values)"
   ]
  },
  {
   "cell_type": "code",
   "execution_count": 5,
   "metadata": {},
   "outputs": [
    {
     "name": "stdout",
     "output_type": "stream",
     "text": [
      "There are no differences between the two lists.\n"
     ]
    }
   ],
   "source": [
    "list_one = [\n",
    "    'Acacia Mill.', 'Castanea sativa Mill.', 'Ceratonia siliqua L.', \n",
    "    \"Eucalyptus L'Hér.\", 'Magnoliopsida', 'Olea europaea L.', 'Oryza sativa L.', \n",
    "    'Pinales', 'Pinus pinaster Aiton', 'Pinus pinea L.', 'Quercus L.', \n",
    "    'Quercus rotundifolia Lam.', 'Quercus suber L.', 'Tracheophyta', 'Vitis vinifera L.'\n",
    "]\n",
    "\n",
    "list_two = [\n",
    "    'Quercus suber L.', 'Quercus rotundifolia Lam.', 'Tracheophyta', 'Magnoliopsida', \n",
    "    'Olea europaea L.', 'Pinus pinaster Aiton', 'Pinus pinea L.', \"Eucalyptus L'Hér.\", \n",
    "    'Ceratonia siliqua L.', 'Vitis vinifera L.', 'Quercus L.', 'Oryza sativa L.', \n",
    "    'Acacia Mill.', 'Castanea sativa Mill.', 'Pinales'\n",
    "]\n",
    "\n",
    "# Convert lists to sets and find differences\n",
    "differences = set(list_one) ^ set(list_two)\n",
    "\n",
    "if differences:\n",
    "    print(\"There are differences between the two lists:\")\n",
    "    print(\"Differences:\", differences)\n",
    "else:\n",
    "    print(\"There are no differences between the two lists.\")\n"
   ]
  },
  {
   "cell_type": "code",
   "execution_count": 9,
   "metadata": {},
   "outputs": [
    {
     "name": "stdout",
     "output_type": "stream",
     "text": [
      "Empty DataFrame\n",
      "Columns: [date, latitude, longitude, slope, roughness, aspect, CLC_CODE, scientificNames]\n",
      "Index: []\n"
     ]
    }
   ],
   "source": [
    "import pandas as pd\n",
    "\n",
    "dfWF = pd.read_csv('LocationsWFire.csv')\n",
    "\n",
    "# Filter rows where 'scientificNames' is blank or NaN\n",
    "blank_or_nan_rows = dfWF[dfWF['scientificNames'].isna() | (dfWF['scientificNames'] == '')]\n",
    "\n",
    "print(blank_or_nan_rows)"
   ]
  }
 ],
 "metadata": {
  "kernelspec": {
   "display_name": "Python 3",
   "language": "python",
   "name": "python3"
  },
  "language_info": {
   "codemirror_mode": {
    "name": "ipython",
    "version": 3
   },
   "file_extension": ".py",
   "mimetype": "text/x-python",
   "name": "python",
   "nbconvert_exporter": "python",
   "pygments_lexer": "ipython3",
   "version": "3.10.12"
  }
 },
 "nbformat": 4,
 "nbformat_minor": 2
}
