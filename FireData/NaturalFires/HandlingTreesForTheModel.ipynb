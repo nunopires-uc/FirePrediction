{
 "cells": [
  {
   "cell_type": "code",
   "execution_count": 1,
   "metadata": {},
   "outputs": [
    {
     "name": "stdout",
     "output_type": "stream",
     "text": [
      "0                                        Quercus suber L.\n",
      "1                 Quercus rotundifolia Lam.; Tracheophyta\n",
      "2                                            Tracheophyta\n",
      "3                                            Tracheophyta\n",
      "4                         Magnoliopsida; Olea europaea L.\n",
      "                              ...                        \n",
      "1765                                       Pinus pinea L.\n",
      "1766                                         Tracheophyta\n",
      "1767       Tracheophyta; Magnoliopsida; Eucalyptus L'Hér.\n",
      "1768                       Olea europaea L.; Tracheophyta\n",
      "1769    Tracheophyta; Quercus suber L.; Quercus rotund...\n",
      "Name: scientificNames, Length: 1770, dtype: object\n"
     ]
    }
   ],
   "source": [
    "import pandas as pd\n",
    "\n",
    "dfWF = pd.read_csv('LocationsWFire.csv')\n",
    "\n",
    "pd.set_option('display.max_rows', None)\n",
    "\n",
    "print(dfWF[\"scientificNames\"])"
   ]
  }
 ],
 "metadata": {
  "kernelspec": {
   "display_name": "Python 3",
   "language": "python",
   "name": "python3"
  },
  "language_info": {
   "codemirror_mode": {
    "name": "ipython",
    "version": 3
   },
   "file_extension": ".py",
   "mimetype": "text/x-python",
   "name": "python",
   "nbconvert_exporter": "python",
   "pygments_lexer": "ipython3",
   "version": "3.10.12"
  }
 },
 "nbformat": 4,
 "nbformat_minor": 2
}
