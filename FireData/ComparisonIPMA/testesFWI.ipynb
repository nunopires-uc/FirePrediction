{
 "cells": [
  {
   "cell_type": "code",
   "execution_count": 1,
   "metadata": {},
   "outputs": [],
   "source": [
    "import FWI"
   ]
  },
  {
   "cell_type": "code",
   "execution_count": 16,
   "metadata": {},
   "outputs": [
    {
     "name": "stdout",
     "output_type": "stream",
     "text": [
      "13.630835145719928\n"
     ]
    }
   ],
   "source": [
    "DMCPREV = 14.3132780225\n",
    "\n",
    "y = FWI.DMC(18.6,80,1.9,DMCPREV,38.45,int(5))\n",
    "print(y)"
   ]
  },
  {
   "cell_type": "code",
   "execution_count": 31,
   "metadata": {},
   "outputs": [
    {
     "name": "stdout",
     "output_type": "stream",
     "text": [
      "83.16892953554238\n"
     ]
    }
   ],
   "source": [
    "FFMCPREC = 83.73626379748428\n",
    "y = FWI.FFMC(18.6,80,32,0.0,FFMCPREC)\n",
    "print(y)\n",
    "\n",
    "#TEMP,RH,WIND,RAIN,FFMCPrev\n"
   ]
  }
 ],
 "metadata": {
  "kernelspec": {
   "display_name": "Python 3",
   "language": "python",
   "name": "python3"
  },
  "language_info": {
   "codemirror_mode": {
    "name": "ipython",
    "version": 3
   },
   "file_extension": ".py",
   "mimetype": "text/x-python",
   "name": "python",
   "nbconvert_exporter": "python",
   "pygments_lexer": "ipython3",
   "version": "3.10.12"
  }
 },
 "nbformat": 4,
 "nbformat_minor": 2
}
