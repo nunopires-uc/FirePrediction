{
 "cells": [
  {
   "cell_type": "code",
   "execution_count": 1,
   "metadata": {},
   "outputs": [
    {
     "name": "stderr",
     "output_type": "stream",
     "text": [
      "failed to set key 'missingValue' to 3.4028235e+38\n",
      "failed to set key 'missingValue' to 3.4028235e+38\n",
      "failed to set key 'missingValue' to 3.4028235e+38\n",
      "failed to set key 'missingValue' to 3.4028235e+38\n",
      "failed to set key 'missingValue' to 3.4028235e+38\n",
      "failed to set key 'missingValue' to 3.4028235e+38\n",
      "failed to set key 'missingValue' to 3.4028235e+38\n"
     ]
    },
    {
     "name": "stdout",
     "output_type": "stream",
     "text": [
      "<xarray.Dataset> Size: 551kB\n",
      "Dimensions:    (time: 61, latitude: 23, longitude: 14)\n",
      "Coordinates:\n",
      "  * time       (time) datetime64[ns] 488B 2022-06-01T12:00:00 ... 2022-07-31T...\n",
      "    surface    float64 8B ...\n",
      "  * latitude   (latitude) float64 184B 42.2 41.95 41.7 41.45 ... 37.2 36.95 36.7\n",
      "  * longitude  (longitude) float64 112B 350.2 350.4 350.7 ... 352.9 353.2 353.4\n",
      "Data variables:\n",
      "    fbupinx    (time, latitude, longitude) float32 79kB ...\n",
      "    drtcode    (time, latitude, longitude) float32 79kB ...\n",
      "    dufmcode   (time, latitude, longitude) float32 79kB ...\n",
      "    ffmcode    (time, latitude, longitude) float32 79kB ...\n",
      "    fdsrte     (time, latitude, longitude) float32 79kB ...\n",
      "    fwinx      (time, latitude, longitude) float32 79kB ...\n",
      "    infsinx    (time, latitude, longitude) float32 79kB ...\n",
      "Attributes:\n",
      "    GRIB_edition:            2\n",
      "    GRIB_centre:             ecmf\n",
      "    GRIB_centreDescription:  European Centre for Medium-Range Weather Forecasts\n",
      "    GRIB_subCentre:          0\n",
      "    Conventions:             CF-1.7\n",
      "    institution:             European Centre for Medium-Range Weather Forecasts\n",
      "    history:                 2024-03-17T15:54 GRIB to CDM+CF via cfgrib-0.9.1...\n"
     ]
    }
   ],
   "source": [
    "#pip3 install cfgrib\n",
    "#pip install eccodes-python\n",
    "#!pip3 install cfgrib\n",
    "#!pip3 install eccodes-python\n",
    "#!pip3 install xarray\n",
    "#!pip3 install matplotlib\n",
    "#!pip3 install pandas\n",
    "#!pip3 install eccodes \n",
    "import xarray as xrs\n",
    "import pandas as pd\n",
    "import matplotlib.pyplot as plt\n",
    "import cfgrib\n",
    "\n",
    "ds = cfgrib.open_dataset(\"gribFiles/adaptor.mars.external-1710329726.76634-29750-12-d608fc05-54d4-4d9c-976c-9bc24b8af9be.grib\")\n",
    "print(ds)"
   ]
  },
  {
   "cell_type": "code",
   "execution_count": 32,
   "metadata": {},
   "outputs": [],
   "source": [
    "import math\n",
    "def DistanceTwoPoints(lat1, lon1, lat2, lon2):\n",
    "    R = 6371e3  # Radius of the Earth in meters\n",
    "    phi1 = math.radians(lat1)\n",
    "    phi2 = math.radians(lat2)\n",
    "    delta_phi = math.radians(lat2 - lat1)\n",
    "    delta_lambda = math.radians(lon2 - lon1)\n",
    "\n",
    "    a = math.sin(delta_phi / 2)**2 + math.cos(phi1) * math.cos(phi2) * math.sin(delta_lambda / 2)**2\n",
    "    c = 2 * math.atan2(math.sqrt(a), math.sqrt(1 - a))\n",
    "\n",
    "    return R * c  # Distance in meters\n",
    "\n",
    "def count_decimal_places(number):\n",
    "    str_num = str(number)\n",
    "    if '.' in str_num:\n",
    "        return len(str_num) - str_num.index('.') - 1\n",
    "    else:\n",
    "        return 0\n",
    "\n",
    "def find_nearest(lat, lon, latitudes, longitudes):\n",
    "    min_distance = None\n",
    "    nearest_point = None\n",
    "\n",
    "    for lat2, lon2 in zip(latitudes, longitudes):\n",
    "        distance = DistanceTwoPoints(lat, lon, lat2, lon2)\n",
    "        if min_distance is None or distance < min_distance:\n",
    "            min_distance = distance\n",
    "            nearest_point = (lat2, lon2)\n",
    "\n",
    "    return min_distance, nearest_point"
   ]
  },
  {
   "cell_type": "code",
   "execution_count": 2,
   "metadata": {},
   "outputs": [
    {
     "name": "stdout",
     "output_type": "stream",
     "text": [
      "Coordinates: Coordinates:\n",
      "  * time       (time) datetime64[ns] 488B 2022-06-01T12:00:00 ... 2022-07-31T...\n",
      "    surface    float64 8B ...\n",
      "  * latitude   (latitude) float64 184B 42.2 41.95 41.7 41.45 ... 37.2 36.95 36.7\n",
      "  * longitude  (longitude) float64 112B 350.2 350.4 350.7 ... 352.9 353.2 353.4\n",
      "Variables: Data variables:\n",
      "    fbupinx   (time, latitude, longitude) float32 79kB ...\n",
      "    drtcode   (time, latitude, longitude) float32 79kB ...\n",
      "    dufmcode  (time, latitude, longitude) float32 79kB ...\n",
      "    ffmcode   (time, latitude, longitude) float32 79kB ...\n",
      "    fdsrte    (time, latitude, longitude) float32 79kB ...\n",
      "    fwinx     (time, latitude, longitude) float32 79kB ...\n",
      "    infsinx   (time, latitude, longitude) float32 79kB ...\n"
     ]
    }
   ],
   "source": [
    "print(\"Coordinates:\", ds.coords)\n",
    "print(\"Variables:\", ds.data_vars)"
   ]
  },
  {
   "cell_type": "code",
   "execution_count": 17,
   "metadata": {},
   "outputs": [
    {
     "name": "stdout",
     "output_type": "stream",
     "text": [
      "41.95\n",
      "23\n",
      "14\n"
     ]
    }
   ],
   "source": [
    "fwinx = ds['fwinx']\n",
    "lat = ds['latitude']\n",
    "lon = ds['longitude']\n",
    "tm = ds['time']\n",
    "\n",
    "print(lat[1].coords['latitude'].values)\n",
    "print(len(lat))\n",
    "print(len(lon))\n",
    "#print(lon)"
   ]
  },
  {
   "cell_type": "code",
   "execution_count": 29,
   "metadata": {},
   "outputs": [
    {
     "name": "stdout",
     "output_type": "stream",
     "text": [
      "61\n",
      "23\n"
     ]
    }
   ],
   "source": [
    "print(len(ds['fwinx'].values))\n",
    "print(len(ds['fwinx'][0].values))"
   ]
  },
  {
   "cell_type": "code",
   "execution_count": 55,
   "metadata": {},
   "outputs": [
    {
     "name": "stdout",
     "output_type": "stream",
     "text": [
      "<xarray.DataArray 'fwinx' (latitude: 23, longitude: 14)> Size: 1kB\n",
      "array([[9.999000e+03, 9.999000e+03, 3.907981e-01, ..., 9.435325e-01,\n",
      "        8.195090e-01, 1.382986e+00],\n",
      "       [9.999000e+03, 9.999000e+03, 9.999000e+03, ..., 3.993337e+00,\n",
      "        4.220876e+00, 4.800954e+00],\n",
      "       [9.999000e+03, 9.999000e+03, 9.999000e+03, ..., 1.063103e+01,\n",
      "        1.216814e+01, 1.033904e+01],\n",
      "       ...,\n",
      "       [9.999000e+03, 9.999000e+03, 1.933123e+01, ..., 3.817693e+01,\n",
      "        3.621209e+01, 3.608123e+01],\n",
      "       [9.999000e+03, 9.999000e+03, 9.999000e+03, ..., 9.999000e+03,\n",
      "        2.411443e+01, 2.961053e+01],\n",
      "       [9.999000e+03, 9.999000e+03, 9.999000e+03, ..., 9.999000e+03,\n",
      "        2.164470e+01, 2.785369e+01]], dtype=float32)\n",
      "Coordinates:\n",
      "    time       datetime64[ns] 8B 2022-06-20T12:00:00\n",
      "    surface    float64 8B ...\n",
      "  * latitude   (latitude) float64 184B 42.2 41.95 41.7 41.45 ... 37.2 36.95 36.7\n",
      "  * longitude  (longitude) float64 112B 350.2 350.4 350.7 ... 352.9 353.2 353.4\n",
      "Attributes: (12/28)\n",
      "    GRIB_paramId:                             260540\n",
      "    GRIB_dataType:                            fc\n",
      "    GRIB_numberOfPoints:                      322\n",
      "    GRIB_typeOfLevel:                         surface\n",
      "    GRIB_stepType:                            instant\n",
      "    GRIB_gridType:                            regular_ll\n",
      "    ...                                       ...\n",
      "    GRIB_name:                                Forest fire weather index\n",
      "    GRIB_shortName:                           fwinx\n",
      "    GRIB_units:                               Numeric\n",
      "    long_name:                                Forest fire weather index\n",
      "    units:                                    Numeric\n",
      "    standard_name:                            unknown\n",
      "[42.2  41.95 41.7  41.45 41.2  40.95 40.7  40.45 40.2  39.95 39.7  39.45\n",
      " 39.2  38.95 38.7  38.45 38.2  37.95 37.7  37.45 37.2  36.95 36.7 ]\n",
      "23\n",
      "[350.2  350.45 350.7  350.95 351.2  351.45 351.7  351.95 352.2  352.45\n",
      " 352.7  352.95 353.2  353.45]\n",
      "14\n",
      "322\n",
      "322\n",
      "7636.696728953494 (<xarray.DataArray 'latitude' ()> Size: 8B\n",
      "array(40.2)\n",
      "Coordinates:\n",
      "    time      datetime64[ns] 8B 2022-06-20T12:00:00\n",
      "    surface   float64 8B ...\n",
      "    latitude  float64 8B 40.2\n",
      "Attributes:\n",
      "    units:             degrees_north\n",
      "    standard_name:     latitude\n",
      "    long_name:         latitude\n",
      "    stored_direction:  decreasing, <xarray.DataArray 'longitude' ()> Size: 8B\n",
      "array(352.45)\n",
      "Coordinates:\n",
      "    time       datetime64[ns] 8B 2022-06-20T12:00:00\n",
      "    surface    float64 8B ...\n",
      "    longitude  float64 8B 352.4\n",
      "Attributes:\n",
      "    units:          degrees_east\n",
      "    standard_name:  longitude\n",
      "    long_name:      longitude)\n"
     ]
    }
   ],
   "source": [
    "# Select the 'fwinx' data variable at the desired time\n",
    "fwinx_at_time = ds['fwinx'].sel(time='2022-06-20T12:00:00')\n",
    "\n",
    "print(fwinx_at_time)\n",
    "\n",
    "# Get the 'latitude' coordinate\n",
    "latitudes = fwinx_at_time.latitude\n",
    "longitudes = fwinx_at_time.longitude\n",
    "\n",
    "# Print the latitudes\n",
    "print(latitudes.values)\n",
    "print(len(latitudes.values))\n",
    "print(longitudes.values)\n",
    "print(len(longitudes.values))\n",
    "\n",
    "novas_lat = []\n",
    "novas_lon = []\n",
    "for lat in range(len(latitudes)):\n",
    "    for lon in range(len(longitudes)):\n",
    "        novas_lat.append(latitudes[lat])\n",
    "        novas_lon.append(longitudes[lon])\n",
    "\n",
    "print(len(novas_lat))\n",
    "print(len(novas_lon))\n",
    "\n",
    "LATITUDE_SING = 40.1394270001517\n",
    "LONGITUDE_SING = -7.50764199998644\n",
    "min_distance, nearest_point = find_nearest(LATITUDE_SING, LONGITUDE_SING, novas_lat, novas_lon)\n",
    "print(min_distance, nearest_point)"
   ]
  },
  {
   "cell_type": "code",
   "execution_count": 43,
   "metadata": {},
   "outputs": [
    {
     "name": "stdout",
     "output_type": "stream",
     "text": [
      "Latitude: 40.2\n",
      "Longitude: 352.45\n"
     ]
    }
   ],
   "source": [
    "latitude_data_array, longitude_data_array = nearest_point\n",
    "\n",
    "latitude = latitude_data_array.values.item()\n",
    "longitude = longitude_data_array.values.item()\n",
    "\n",
    "print(\"Latitude:\", latitude)\n",
    "print(\"Longitude:\", longitude)"
   ]
  },
  {
   "cell_type": "code",
   "execution_count": 59,
   "metadata": {},
   "outputs": [
    {
     "name": "stderr",
     "output_type": "stream",
     "text": [
      "failed to set key 'missingValue' to 3.4028235e+38\n",
      "failed to set key 'missingValue' to 3.4028235e+38\n",
      "failed to set key 'missingValue' to 3.4028235e+38\n"
     ]
    },
    {
     "name": "stdout",
     "output_type": "stream",
     "text": [
      "15.734548568725586\n",
      "Drought Code (DC):  378.21136474609375\n",
      "Duff Moisture Code (DMC):  117.234375\n",
      "Fine Fuel Moisture Code (FFMC):  80.76947021484375\n"
     ]
    }
   ],
   "source": [
    "DAY = 20\n",
    "HOUR = 12\n",
    "\n",
    "fwinx_value = ds['fwinx'].sel(time=f'2022-06-{DAY}T{HOUR}:00:00', latitude=latitude, longitude=longitude)\n",
    "drtcode_value = ds['drtcode'].sel(time=f'2022-06-{DAY}T{HOUR}:00:00', latitude=latitude, longitude=longitude)\n",
    "dufmcode_value = ds['dufmcode'].sel(time=f'2022-06-{DAY}T{HOUR}:00:00', latitude=latitude, longitude=longitude)\n",
    "ffmcode_value = ds['ffmcode'].sel(time=f'2022-06-{DAY}T{HOUR}:00:00', latitude=latitude, longitude=longitude)\n",
    "\n",
    "\n",
    "#drtcode    (time, latitude, longitude) float32 79kB ... -> Drought Code: DC \n",
    "#    dufmcode   (time, latitude, longitude) float32 79kB ... -> Duff Moisture Code Code\n",
    "#    ffmcode    (time, latitude, longitude) float32 79kB ... -> Fine Fuel Moisture Code\n",
    "\n",
    "print(fwinx_value.values.item())\n",
    "print(\"Drought Code (DC): \", drtcode_value.values.item())\n",
    "print(\"Duff Moisture Code (DMC): \",dufmcode_value.values.item())\n",
    "print(\"Fine Fuel Moisture Code (FFMC): \", ffmcode_value.values.item())"
   ]
  }
 ],
 "metadata": {
  "kernelspec": {
   "display_name": "Python 3 (ipykernel)",
   "language": "python",
   "name": "python3"
  },
  "language_info": {
   "codemirror_mode": {
    "name": "ipython",
    "version": 3
   },
   "file_extension": ".py",
   "mimetype": "text/x-python",
   "name": "python",
   "nbconvert_exporter": "python",
   "pygments_lexer": "ipython3",
   "version": "3.10.12"
  }
 },
 "nbformat": 4,
 "nbformat_minor": 4
}
