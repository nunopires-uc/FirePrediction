{
 "cells": [
  {
   "cell_type": "code",
   "execution_count": 1,
   "metadata": {},
   "outputs": [
    {
     "name": "stderr",
     "output_type": "stream",
     "text": [
      "/home/ori/.local/lib/python3.10/site-packages/gribapi/__init__.py:23: UserWarning: ecCodes 2.31.0 or higher is recommended. You are running version 2.24.2\n",
      "  warnings.warn(\n"
     ]
    },
    {
     "name": "stdout",
     "output_type": "stream",
     "text": [
      "<xarray.Dataset> Size: 821kB\n",
      "Dimensions:    (number: 10, time: 61, values: 48)\n",
      "Coordinates:\n",
      "  * number     (number) int64 80B 0 1 2 3 4 5 6 7 8 9\n",
      "  * time       (time) datetime64[ns] 488B 2022-06-01T12:00:00 ... 2022-07-31T...\n",
      "    surface    float64 8B ...\n",
      "    latitude   (values) float64 384B ...\n",
      "    longitude  (values) float64 384B ...\n",
      "Dimensions without coordinates: values\n",
      "Data variables:\n",
      "    fbupinx    (number, time, values) float32 117kB ...\n",
      "    drtcode    (number, time, values) float32 117kB ...\n",
      "    dufmcode   (number, time, values) float32 117kB ...\n",
      "    ffmcode    (number, time, values) float32 117kB ...\n",
      "    fdsrte     (number, time, values) float32 117kB ...\n",
      "    fwinx      (number, time, values) float32 117kB ...\n",
      "    infsinx    (number, time, values) float32 117kB ...\n",
      "Attributes:\n",
      "    GRIB_edition:            2\n",
      "    GRIB_centre:             ecmf\n",
      "    GRIB_centreDescription:  European Centre for Medium-Range Weather Forecasts\n",
      "    GRIB_subCentre:          0\n",
      "    Conventions:             CF-1.7\n",
      "    institution:             European Centre for Medium-Range Weather Forecasts\n",
      "    history:                 2024-03-13T15:59 GRIB to CDM+CF via cfgrib-0.9.1...\n"
     ]
    }
   ],
   "source": [
    "#pip3 install cfgrib\n",
    "import xarray as xr\n",
    "import pandas as pd\n",
    "import matplotlib.pyplot as plt\n",
    "\n",
    "ds = xr.open_dataset(\"gribFiles/adaptor.mars.external-1710329726.76634-29750-12-d608fc05-54d4-4d9c-976c-9bc24b8af9be.grib\", engine='cfgrib')\n",
    "\n",
    "print(ds)"
   ]
  }
 ],
 "metadata": {
  "kernelspec": {
   "display_name": "Python 3",
   "language": "python",
   "name": "python3"
  },
  "language_info": {
   "codemirror_mode": {
    "name": "ipython",
    "version": 3
   },
   "file_extension": ".py",
   "mimetype": "text/x-python",
   "name": "python",
   "nbconvert_exporter": "python",
   "pygments_lexer": "ipython3",
   "version": "3.10.12"
  }
 },
 "nbformat": 4,
 "nbformat_minor": 2
}
