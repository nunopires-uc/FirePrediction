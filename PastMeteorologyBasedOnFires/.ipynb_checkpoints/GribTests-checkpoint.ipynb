{
 "cells": [
  {
   "cell_type": "code",
   "execution_count": 1,
   "metadata": {},
   "outputs": [
    {
     "name": "stderr",
     "output_type": "stream",
     "text": [
      "failed to set key 'missingValue' to 3.4028235e+38\n",
      "failed to set key 'missingValue' to 3.4028235e+38\n",
      "failed to set key 'missingValue' to 3.4028235e+38\n",
      "failed to set key 'missingValue' to 3.4028235e+38\n",
      "failed to set key 'missingValue' to 3.4028235e+38\n",
      "failed to set key 'missingValue' to 3.4028235e+38\n",
      "failed to set key 'missingValue' to 3.4028235e+38\n"
     ]
    },
    {
     "name": "stdout",
     "output_type": "stream",
     "text": [
      "<xarray.Dataset> Size: 551kB\n",
      "Dimensions:    (time: 61, latitude: 23, longitude: 14)\n",
      "Coordinates:\n",
      "  * time       (time) datetime64[ns] 488B 2022-06-01T12:00:00 ... 2022-07-31T...\n",
      "    surface    float64 8B ...\n",
      "  * latitude   (latitude) float64 184B 42.2 41.95 41.7 41.45 ... 37.2 36.95 36.7\n",
      "  * longitude  (longitude) float64 112B 350.2 350.4 350.7 ... 352.9 353.2 353.4\n",
      "Data variables:\n",
      "    fbupinx    (time, latitude, longitude) float32 79kB ...\n",
      "    drtcode    (time, latitude, longitude) float32 79kB ...\n",
      "    dufmcode   (time, latitude, longitude) float32 79kB ...\n",
      "    ffmcode    (time, latitude, longitude) float32 79kB ...\n",
      "    fdsrte     (time, latitude, longitude) float32 79kB ...\n",
      "    fwinx      (time, latitude, longitude) float32 79kB ...\n",
      "    infsinx    (time, latitude, longitude) float32 79kB ...\n",
      "Attributes:\n",
      "    GRIB_edition:            2\n",
      "    GRIB_centre:             ecmf\n",
      "    GRIB_centreDescription:  European Centre for Medium-Range Weather Forecasts\n",
      "    GRIB_subCentre:          0\n",
      "    Conventions:             CF-1.7\n",
      "    institution:             European Centre for Medium-Range Weather Forecasts\n",
      "    history:                 2024-03-17T15:54 GRIB to CDM+CF via cfgrib-0.9.1...\n"
     ]
    }
   ],
   "source": [
    "#pip3 install cfgrib\n",
    "#pip install eccodes-python\n",
    "#!pip3 install cfgrib\n",
    "#!pip3 install eccodes-python\n",
    "#!pip3 install xarray\n",
    "#!pip3 install matplotlib\n",
    "#!pip3 install pandas\n",
    "#!pip3 install eccodes \n",
    "import xarray as xrs\n",
    "import pandas as pd\n",
    "import matplotlib.pyplot as plt\n",
    "import cfgrib\n",
    "\n",
    "ds = cfgrib.open_dataset(\"gribFiles/adaptor.mars.external-1710329726.76634-29750-12-d608fc05-54d4-4d9c-976c-9bc24b8af9be.grib\")\n",
    "print(ds)"
   ]
  },
  {
   "cell_type": "code",
   "execution_count": 32,
   "metadata": {},
   "outputs": [],
   "source": [
    "import math\n",
    "def DistanceTwoPoints(lat1, lon1, lat2, lon2):\n",
    "    R = 6371e3  # Radius of the Earth in meters\n",
    "    phi1 = math.radians(lat1)\n",
    "    phi2 = math.radians(lat2)\n",
    "    delta_phi = math.radians(lat2 - lat1)\n",
    "    delta_lambda = math.radians(lon2 - lon1)\n",
    "\n",
    "    a = math.sin(delta_phi / 2)**2 + math.cos(phi1) * math.cos(phi2) * math.sin(delta_lambda / 2)**2\n",
    "    c = 2 * math.atan2(math.sqrt(a), math.sqrt(1 - a))\n",
    "\n",
    "    return R * c  # Distance in meters\n",
    "\n",
    "def count_decimal_places(number):\n",
    "    str_num = str(number)\n",
    "    if '.' in str_num:\n",
    "        return len(str_num) - str_num.index('.') - 1\n",
    "    else:\n",
    "        return 0\n",
    "\n",
    "def find_nearest(lat, lon, latitudes, longitudes):\n",
    "    min_distance = None\n",
    "    nearest_point = None\n",
    "\n",
    "    for lat2, lon2 in zip(latitudes, longitudes):\n",
    "        distance = DistanceTwoPoints(lat, lon, lat2, lon2)\n",
    "        if min_distance is None or distance < min_distance:\n",
    "            min_distance = distance\n",
    "            nearest_point = (lat2, lon2)\n",
    "\n",
    "    return min_distance, nearest_point"
   ]
  },
  {
   "cell_type": "code",
   "execution_count": 2,
   "metadata": {},
   "outputs": [
    {
     "name": "stdout",
     "output_type": "stream",
     "text": [
      "Coordinates: Coordinates:\n",
      "  * time       (time) datetime64[ns] 488B 2022-06-01T12:00:00 ... 2022-07-31T...\n",
      "    surface    float64 8B ...\n",
      "  * latitude   (latitude) float64 184B 42.2 41.95 41.7 41.45 ... 37.2 36.95 36.7\n",
      "  * longitude  (longitude) float64 112B 350.2 350.4 350.7 ... 352.9 353.2 353.4\n",
      "Variables: Data variables:\n",
      "    fbupinx   (time, latitude, longitude) float32 79kB ...\n",
      "    drtcode   (time, latitude, longitude) float32 79kB ...\n",
      "    dufmcode  (time, latitude, longitude) float32 79kB ...\n",
      "    ffmcode   (time, latitude, longitude) float32 79kB ...\n",
      "    fdsrte    (time, latitude, longitude) float32 79kB ...\n",
      "    fwinx     (time, latitude, longitude) float32 79kB ...\n",
      "    infsinx   (time, latitude, longitude) float32 79kB ...\n"
     ]
    }
   ],
   "source": [
    "print(\"Coordinates:\", ds.coords)\n",
    "print(\"Variables:\", ds.data_vars)"
   ]
  },
  {
   "cell_type": "code",
   "execution_count": 17,
   "metadata": {},
   "outputs": [
    {
     "name": "stdout",
     "output_type": "stream",
     "text": [
      "41.95\n",
      "23\n",
      "14\n"
     ]
    }
   ],
   "source": [
    "fwinx = ds['fwinx']\n",
    "lat = ds['latitude']\n",
    "lon = ds['longitude']\n",
    "tm = ds['time']\n",
    "\n",
    "print(lat[1].coords['latitude'].values)\n",
    "print(len(lat))\n",
    "print(len(lon))\n",
    "#print(lon)"
   ]
  },
  {
   "cell_type": "code",
   "execution_count": 29,
   "metadata": {},
   "outputs": [
    {
     "name": "stdout",
     "output_type": "stream",
     "text": [
      "61\n",
      "23\n"
     ]
    }
   ],
   "source": [
    "print(len(ds['fwinx'].values))\n",
    "print(len(ds['fwinx'][0].values))"
   ]
  },
  {
   "cell_type": "code",
   "execution_count": 55,
   "metadata": {},
   "outputs": [
    {
     "name": "stdout",
     "output_type": "stream",
     "text": [
      "<xarray.DataArray 'fwinx' (latitude: 23, longitude: 14)> Size: 1kB\n",
      "array([[9.999000e+03, 9.999000e+03, 3.907981e-01, ..., 9.435325e-01,\n",
      "        8.195090e-01, 1.382986e+00],\n",
      "       [9.999000e+03, 9.999000e+03, 9.999000e+03, ..., 3.993337e+00,\n",
      "        4.220876e+00, 4.800954e+00],\n",
      "       [9.999000e+03, 9.999000e+03, 9.999000e+03, ..., 1.063103e+01,\n",
      "        1.216814e+01, 1.033904e+01],\n",
      "       ...,\n",
      "       [9.999000e+03, 9.999000e+03, 1.933123e+01, ..., 3.817693e+01,\n",
      "        3.621209e+01, 3.608123e+01],\n",
      "       [9.999000e+03, 9.999000e+03, 9.999000e+03, ..., 9.999000e+03,\n",
      "        2.411443e+01, 2.961053e+01],\n",
      "       [9.999000e+03, 9.999000e+03, 9.999000e+03, ..., 9.999000e+03,\n",
      "        2.164470e+01, 2.785369e+01]], dtype=float32)\n",
      "Coordinates:\n",
      "    time       datetime64[ns] 8B 2022-06-20T12:00:00\n",
      "    surface    float64 8B ...\n",
      "  * latitude   (latitude) float64 184B 42.2 41.95 41.7 41.45 ... 37.2 36.95 36.7\n",
      "  * longitude  (longitude) float64 112B 350.2 350.4 350.7 ... 352.9 353.2 353.4\n",
      "Attributes: (12/28)\n",
      "    GRIB_paramId:                             260540\n",
      "    GRIB_dataType:                            fc\n",
      "    GRIB_numberOfPoints:                      322\n",
      "    GRIB_typeOfLevel:                         surface\n",
      "    GRIB_stepType:                            instant\n",
      "    GRIB_gridType:                            regular_ll\n",
      "    ...                                       ...\n",
      "    GRIB_name:                                Forest fire weather index\n",
      "    GRIB_shortName:                           fwinx\n",
      "    GRIB_units:                               Numeric\n",
      "    long_name:                                Forest fire weather index\n",
      "    units:                                    Numeric\n",
      "    standard_name:                            unknown\n",
      "[42.2  41.95 41.7  41.45 41.2  40.95 40.7  40.45 40.2  39.95 39.7  39.45\n",
      " 39.2  38.95 38.7  38.45 38.2  37.95 37.7  37.45 37.2  36.95 36.7 ]\n",
      "23\n",
      "[350.2  350.45 350.7  350.95 351.2  351.45 351.7  351.95 352.2  352.45\n",
      " 352.7  352.95 353.2  353.45]\n",
      "14\n",
      "322\n",
      "322\n",
      "7636.696728953494 (<xarray.DataArray 'latitude' ()> Size: 8B\n",
      "array(40.2)\n",
      "Coordinates:\n",
      "    time      datetime64[ns] 8B 2022-06-20T12:00:00\n",
      "    surface   float64 8B ...\n",
      "    latitude  float64 8B 40.2\n",
      "Attributes:\n",
      "    units:             degrees_north\n",
      "    standard_name:     latitude\n",
      "    long_name:         latitude\n",
      "    stored_direction:  decreasing, <xarray.DataArray 'longitude' ()> Size: 8B\n",
      "array(352.45)\n",
      "Coordinates:\n",
      "    time       datetime64[ns] 8B 2022-06-20T12:00:00\n",
      "    surface    float64 8B ...\n",
      "    longitude  float64 8B 352.4\n",
      "Attributes:\n",
      "    units:          degrees_east\n",
      "    standard_name:  longitude\n",
      "    long_name:      longitude)\n"
     ]
    }
   ],
   "source": [
    "# Select the 'fwinx' data variable at the desired time\n",
    "fwinx_at_time = ds['fwinx'].sel(time='2022-06-20T12:00:00')\n",
    "\n",
    "print(fwinx_at_time)\n",
    "\n",
    "# Get the 'latitude' coordinate\n",
    "latitudes = fwinx_at_time.latitude\n",
    "longitudes = fwinx_at_time.longitude\n",
    "\n",
    "# Print the latitudes\n",
    "print(latitudes.values)\n",
    "print(len(latitudes.values))\n",
    "print(longitudes.values)\n",
    "print(len(longitudes.values))\n",
    "\n",
    "novas_lat = []\n",
    "novas_lon = []\n",
    "for lat in range(len(latitudes)):\n",
    "    for lon in range(len(longitudes)):\n",
    "        novas_lat.append(latitudes[lat])\n",
    "        novas_lon.append(longitudes[lon])\n",
    "\n",
    "print(len(novas_lat))\n",
    "print(len(novas_lon))\n",
    "\n",
    "LATITUDE_SING = 40.1394270001517\n",
    "LONGITUDE_SING = -7.50764199998644\n",
    "min_distance, nearest_point = find_nearest(LATITUDE_SING, LONGITUDE_SING, novas_lat, novas_lon)\n",
    "print(min_distance, nearest_point)"
   ]
  },
  {
   "cell_type": "code",
   "execution_count": 43,
   "metadata": {},
   "outputs": [
    {
     "name": "stdout",
     "output_type": "stream",
     "text": [
      "Latitude: 40.2\n",
      "Longitude: 352.45\n"
     ]
    }
   ],
   "source": [
    "latitude_data_array, longitude_data_array = nearest_point\n",
    "\n",
    "latitude = latitude_data_array.values.item()\n",
    "longitude = longitude_data_array.values.item()\n",
    "\n",
    "print(\"Latitude:\", latitude)\n",
    "print(\"Longitude:\", longitude)"
   ]
  },
  {
   "cell_type": "code",
   "execution_count": 58,
   "metadata": {},
   "outputs": [
    {
     "ename": "KeyError",
     "evalue": "\"not all values found in index 'time'. Try setting the `method` keyword argument (example: method='nearest').\"",
     "output_type": "error",
     "traceback": [
      "\u001b[0;31m---------------------------------------------------------------------------\u001b[0m",
      "\u001b[0;31mKeyError\u001b[0m                                  Traceback (most recent call last)",
      "File \u001b[0;32mindex.pyx:609\u001b[0m, in \u001b[0;36mpandas._libs.index.DatetimeEngine.get_loc\u001b[0;34m()\u001b[0m\n",
      "File \u001b[0;32mpandas/_libs/hashtable_class_helper.pxi:2606\u001b[0m, in \u001b[0;36mpandas._libs.hashtable.Int64HashTable.get_item\u001b[0;34m()\u001b[0m\n",
      "File \u001b[0;32mpandas/_libs/hashtable_class_helper.pxi:2630\u001b[0m, in \u001b[0;36mpandas._libs.hashtable.Int64HashTable.get_item\u001b[0;34m()\u001b[0m\n",
      "\u001b[0;31mKeyError\u001b[0m: 1655730000000000000",
      "\nDuring handling of the above exception, another exception occurred:\n",
      "\u001b[0;31mKeyError\u001b[0m                                  Traceback (most recent call last)",
      "File \u001b[0;32m~/.local/lib/python3.10/site-packages/pandas/core/indexes/base.py:3805\u001b[0m, in \u001b[0;36mIndex.get_loc\u001b[0;34m(self, key)\u001b[0m\n\u001b[1;32m   3804\u001b[0m \u001b[38;5;28;01mtry\u001b[39;00m:\n\u001b[0;32m-> 3805\u001b[0m     \u001b[38;5;28;01mreturn\u001b[39;00m \u001b[38;5;28;43mself\u001b[39;49m\u001b[38;5;241;43m.\u001b[39;49m\u001b[43m_engine\u001b[49m\u001b[38;5;241;43m.\u001b[39;49m\u001b[43mget_loc\u001b[49m\u001b[43m(\u001b[49m\u001b[43mcasted_key\u001b[49m\u001b[43m)\u001b[49m\n\u001b[1;32m   3806\u001b[0m \u001b[38;5;28;01mexcept\u001b[39;00m \u001b[38;5;167;01mKeyError\u001b[39;00m \u001b[38;5;28;01mas\u001b[39;00m err:\n",
      "File \u001b[0;32mindex.pyx:577\u001b[0m, in \u001b[0;36mpandas._libs.index.DatetimeEngine.get_loc\u001b[0;34m()\u001b[0m\n",
      "File \u001b[0;32mindex.pyx:611\u001b[0m, in \u001b[0;36mpandas._libs.index.DatetimeEngine.get_loc\u001b[0;34m()\u001b[0m\n",
      "\u001b[0;31mKeyError\u001b[0m: Timestamp('2022-06-20 13:00:00')",
      "\nThe above exception was the direct cause of the following exception:\n",
      "\u001b[0;31mKeyError\u001b[0m                                  Traceback (most recent call last)",
      "File \u001b[0;32m~/.local/lib/python3.10/site-packages/pandas/core/indexes/datetimes.py:630\u001b[0m, in \u001b[0;36mDatetimeIndex.get_loc\u001b[0;34m(self, key)\u001b[0m\n\u001b[1;32m    629\u001b[0m \u001b[38;5;28;01mtry\u001b[39;00m:\n\u001b[0;32m--> 630\u001b[0m     \u001b[38;5;28;01mreturn\u001b[39;00m \u001b[43mIndex\u001b[49m\u001b[38;5;241;43m.\u001b[39;49m\u001b[43mget_loc\u001b[49m\u001b[43m(\u001b[49m\u001b[38;5;28;43mself\u001b[39;49m\u001b[43m,\u001b[49m\u001b[43m \u001b[49m\u001b[43mkey\u001b[49m\u001b[43m)\u001b[49m\n\u001b[1;32m    631\u001b[0m \u001b[38;5;28;01mexcept\u001b[39;00m \u001b[38;5;167;01mKeyError\u001b[39;00m \u001b[38;5;28;01mas\u001b[39;00m err:\n",
      "File \u001b[0;32m~/.local/lib/python3.10/site-packages/pandas/core/indexes/base.py:3812\u001b[0m, in \u001b[0;36mIndex.get_loc\u001b[0;34m(self, key)\u001b[0m\n\u001b[1;32m   3811\u001b[0m         \u001b[38;5;28;01mraise\u001b[39;00m InvalidIndexError(key)\n\u001b[0;32m-> 3812\u001b[0m     \u001b[38;5;28;01mraise\u001b[39;00m \u001b[38;5;167;01mKeyError\u001b[39;00m(key) \u001b[38;5;28;01mfrom\u001b[39;00m \u001b[38;5;21;01merr\u001b[39;00m\n\u001b[1;32m   3813\u001b[0m \u001b[38;5;28;01mexcept\u001b[39;00m \u001b[38;5;167;01mTypeError\u001b[39;00m:\n\u001b[1;32m   3814\u001b[0m     \u001b[38;5;66;03m# If we have a listlike key, _check_indexing_error will raise\u001b[39;00m\n\u001b[1;32m   3815\u001b[0m     \u001b[38;5;66;03m#  InvalidIndexError. Otherwise we fall through and re-raise\u001b[39;00m\n\u001b[1;32m   3816\u001b[0m     \u001b[38;5;66;03m#  the TypeError.\u001b[39;00m\n",
      "\u001b[0;31mKeyError\u001b[0m: Timestamp('2022-06-20 13:00:00')",
      "\nThe above exception was the direct cause of the following exception:\n",
      "\u001b[0;31mKeyError\u001b[0m                                  Traceback (most recent call last)",
      "File \u001b[0;32m~/.local/lib/python3.10/site-packages/xarray/core/indexes.py:772\u001b[0m, in \u001b[0;36mPandasIndex.sel\u001b[0;34m(self, labels, method, tolerance)\u001b[0m\n\u001b[1;32m    771\u001b[0m \u001b[38;5;28;01mtry\u001b[39;00m:\n\u001b[0;32m--> 772\u001b[0m     indexer \u001b[38;5;241m=\u001b[39m \u001b[38;5;28;43mself\u001b[39;49m\u001b[38;5;241;43m.\u001b[39;49m\u001b[43mindex\u001b[49m\u001b[38;5;241;43m.\u001b[39;49m\u001b[43mget_loc\u001b[49m\u001b[43m(\u001b[49m\u001b[43mlabel_value\u001b[49m\u001b[43m)\u001b[49m\n\u001b[1;32m    773\u001b[0m \u001b[38;5;28;01mexcept\u001b[39;00m \u001b[38;5;167;01mKeyError\u001b[39;00m \u001b[38;5;28;01mas\u001b[39;00m e:\n",
      "File \u001b[0;32m~/.local/lib/python3.10/site-packages/pandas/core/indexes/datetimes.py:632\u001b[0m, in \u001b[0;36mDatetimeIndex.get_loc\u001b[0;34m(self, key)\u001b[0m\n\u001b[1;32m    631\u001b[0m \u001b[38;5;28;01mexcept\u001b[39;00m \u001b[38;5;167;01mKeyError\u001b[39;00m \u001b[38;5;28;01mas\u001b[39;00m err:\n\u001b[0;32m--> 632\u001b[0m     \u001b[38;5;28;01mraise\u001b[39;00m \u001b[38;5;167;01mKeyError\u001b[39;00m(orig_key) \u001b[38;5;28;01mfrom\u001b[39;00m \u001b[38;5;21;01merr\u001b[39;00m\n",
      "\u001b[0;31mKeyError\u001b[0m: '2022-06-20T13:00:00'",
      "\nThe above exception was the direct cause of the following exception:\n",
      "\u001b[0;31mKeyError\u001b[0m                                  Traceback (most recent call last)",
      "Cell \u001b[0;32mIn[58], line 4\u001b[0m\n\u001b[1;32m      1\u001b[0m DAY \u001b[38;5;241m=\u001b[39m \u001b[38;5;241m20\u001b[39m\n\u001b[1;32m      2\u001b[0m HOUR \u001b[38;5;241m=\u001b[39m \u001b[38;5;241m13\u001b[39m\n\u001b[0;32m----> 4\u001b[0m fwinx_value \u001b[38;5;241m=\u001b[39m \u001b[43mds\u001b[49m\u001b[43m[\u001b[49m\u001b[38;5;124;43m'\u001b[39;49m\u001b[38;5;124;43mfwinx\u001b[39;49m\u001b[38;5;124;43m'\u001b[39;49m\u001b[43m]\u001b[49m\u001b[38;5;241;43m.\u001b[39;49m\u001b[43msel\u001b[49m\u001b[43m(\u001b[49m\u001b[43mtime\u001b[49m\u001b[38;5;241;43m=\u001b[39;49m\u001b[38;5;124;43mf\u001b[39;49m\u001b[38;5;124;43m'\u001b[39;49m\u001b[38;5;124;43m2022-06-\u001b[39;49m\u001b[38;5;132;43;01m{\u001b[39;49;00m\u001b[43mDAY\u001b[49m\u001b[38;5;132;43;01m}\u001b[39;49;00m\u001b[38;5;124;43mT\u001b[39;49m\u001b[38;5;132;43;01m{\u001b[39;49;00m\u001b[43mHOUR\u001b[49m\u001b[38;5;132;43;01m}\u001b[39;49;00m\u001b[38;5;124;43m:00:00\u001b[39;49m\u001b[38;5;124;43m'\u001b[39;49m\u001b[43m,\u001b[49m\u001b[43m \u001b[49m\u001b[43mlatitude\u001b[49m\u001b[38;5;241;43m=\u001b[39;49m\u001b[43mlatitude\u001b[49m\u001b[43m,\u001b[49m\u001b[43m \u001b[49m\u001b[43mlongitude\u001b[49m\u001b[38;5;241;43m=\u001b[39;49m\u001b[43mlongitude\u001b[49m\u001b[43m)\u001b[49m\n\u001b[1;32m      5\u001b[0m drtcode_value \u001b[38;5;241m=\u001b[39m ds[\u001b[38;5;124m'\u001b[39m\u001b[38;5;124mdrtcode\u001b[39m\u001b[38;5;124m'\u001b[39m]\u001b[38;5;241m.\u001b[39msel(time\u001b[38;5;241m=\u001b[39m\u001b[38;5;124mf\u001b[39m\u001b[38;5;124m'\u001b[39m\u001b[38;5;124m2022-06-\u001b[39m\u001b[38;5;132;01m{\u001b[39;00mDAY\u001b[38;5;132;01m}\u001b[39;00m\u001b[38;5;124mT\u001b[39m\u001b[38;5;132;01m{\u001b[39;00mHOUR\u001b[38;5;132;01m}\u001b[39;00m\u001b[38;5;124m:00:00\u001b[39m\u001b[38;5;124m'\u001b[39m, latitude\u001b[38;5;241m=\u001b[39mlatitude, longitude\u001b[38;5;241m=\u001b[39mlongitude)\n\u001b[1;32m      6\u001b[0m dufmcode_value \u001b[38;5;241m=\u001b[39m ds[\u001b[38;5;124m'\u001b[39m\u001b[38;5;124mdufmcode\u001b[39m\u001b[38;5;124m'\u001b[39m]\u001b[38;5;241m.\u001b[39msel(time\u001b[38;5;241m=\u001b[39m\u001b[38;5;124mf\u001b[39m\u001b[38;5;124m'\u001b[39m\u001b[38;5;124m2022-06-\u001b[39m\u001b[38;5;132;01m{\u001b[39;00mDAY\u001b[38;5;132;01m}\u001b[39;00m\u001b[38;5;124mT\u001b[39m\u001b[38;5;132;01m{\u001b[39;00mHOUR\u001b[38;5;132;01m}\u001b[39;00m\u001b[38;5;124m:00:00\u001b[39m\u001b[38;5;124m'\u001b[39m, latitude\u001b[38;5;241m=\u001b[39mlatitude, longitude\u001b[38;5;241m=\u001b[39mlongitude)\n",
      "File \u001b[0;32m~/.local/lib/python3.10/site-packages/xarray/core/dataarray.py:1614\u001b[0m, in \u001b[0;36mDataArray.sel\u001b[0;34m(self, indexers, method, tolerance, drop, **indexers_kwargs)\u001b[0m\n\u001b[1;32m   1498\u001b[0m \u001b[38;5;28;01mdef\u001b[39;00m \u001b[38;5;21msel\u001b[39m(\n\u001b[1;32m   1499\u001b[0m     \u001b[38;5;28mself\u001b[39m,\n\u001b[1;32m   1500\u001b[0m     indexers: Mapping[Any, Any] \u001b[38;5;241m|\u001b[39m \u001b[38;5;28;01mNone\u001b[39;00m \u001b[38;5;241m=\u001b[39m \u001b[38;5;28;01mNone\u001b[39;00m,\n\u001b[0;32m   (...)\u001b[0m\n\u001b[1;32m   1504\u001b[0m     \u001b[38;5;241m*\u001b[39m\u001b[38;5;241m*\u001b[39mindexers_kwargs: Any,\n\u001b[1;32m   1505\u001b[0m ) \u001b[38;5;241m-\u001b[39m\u001b[38;5;241m>\u001b[39m Self:\n\u001b[1;32m   1506\u001b[0m \u001b[38;5;250m    \u001b[39m\u001b[38;5;124;03m\"\"\"Return a new DataArray whose data is given by selecting index\u001b[39;00m\n\u001b[1;32m   1507\u001b[0m \u001b[38;5;124;03m    labels along the specified dimension(s).\u001b[39;00m\n\u001b[1;32m   1508\u001b[0m \n\u001b[0;32m   (...)\u001b[0m\n\u001b[1;32m   1612\u001b[0m \u001b[38;5;124;03m    Dimensions without coordinates: points\u001b[39;00m\n\u001b[1;32m   1613\u001b[0m \u001b[38;5;124;03m    \"\"\"\u001b[39;00m\n\u001b[0;32m-> 1614\u001b[0m     ds \u001b[38;5;241m=\u001b[39m \u001b[38;5;28;43mself\u001b[39;49m\u001b[38;5;241;43m.\u001b[39;49m\u001b[43m_to_temp_dataset\u001b[49m\u001b[43m(\u001b[49m\u001b[43m)\u001b[49m\u001b[38;5;241;43m.\u001b[39;49m\u001b[43msel\u001b[49m\u001b[43m(\u001b[49m\n\u001b[1;32m   1615\u001b[0m \u001b[43m        \u001b[49m\u001b[43mindexers\u001b[49m\u001b[38;5;241;43m=\u001b[39;49m\u001b[43mindexers\u001b[49m\u001b[43m,\u001b[49m\n\u001b[1;32m   1616\u001b[0m \u001b[43m        \u001b[49m\u001b[43mdrop\u001b[49m\u001b[38;5;241;43m=\u001b[39;49m\u001b[43mdrop\u001b[49m\u001b[43m,\u001b[49m\n\u001b[1;32m   1617\u001b[0m \u001b[43m        \u001b[49m\u001b[43mmethod\u001b[49m\u001b[38;5;241;43m=\u001b[39;49m\u001b[43mmethod\u001b[49m\u001b[43m,\u001b[49m\n\u001b[1;32m   1618\u001b[0m \u001b[43m        \u001b[49m\u001b[43mtolerance\u001b[49m\u001b[38;5;241;43m=\u001b[39;49m\u001b[43mtolerance\u001b[49m\u001b[43m,\u001b[49m\n\u001b[1;32m   1619\u001b[0m \u001b[43m        \u001b[49m\u001b[38;5;241;43m*\u001b[39;49m\u001b[38;5;241;43m*\u001b[39;49m\u001b[43mindexers_kwargs\u001b[49m\u001b[43m,\u001b[49m\n\u001b[1;32m   1620\u001b[0m \u001b[43m    \u001b[49m\u001b[43m)\u001b[49m\n\u001b[1;32m   1621\u001b[0m     \u001b[38;5;28;01mreturn\u001b[39;00m \u001b[38;5;28mself\u001b[39m\u001b[38;5;241m.\u001b[39m_from_temp_dataset(ds)\n",
      "File \u001b[0;32m~/.local/lib/python3.10/site-packages/xarray/core/dataset.py:3091\u001b[0m, in \u001b[0;36mDataset.sel\u001b[0;34m(self, indexers, method, tolerance, drop, **indexers_kwargs)\u001b[0m\n\u001b[1;32m   3023\u001b[0m \u001b[38;5;250m\u001b[39m\u001b[38;5;124;03m\"\"\"Returns a new dataset with each array indexed by tick labels\u001b[39;00m\n\u001b[1;32m   3024\u001b[0m \u001b[38;5;124;03malong the specified dimension(s).\u001b[39;00m\n\u001b[1;32m   3025\u001b[0m \n\u001b[0;32m   (...)\u001b[0m\n\u001b[1;32m   3088\u001b[0m \n\u001b[1;32m   3089\u001b[0m \u001b[38;5;124;03m\"\"\"\u001b[39;00m\n\u001b[1;32m   3090\u001b[0m indexers \u001b[38;5;241m=\u001b[39m either_dict_or_kwargs(indexers, indexers_kwargs, \u001b[38;5;124m\"\u001b[39m\u001b[38;5;124msel\u001b[39m\u001b[38;5;124m\"\u001b[39m)\n\u001b[0;32m-> 3091\u001b[0m query_results \u001b[38;5;241m=\u001b[39m \u001b[43mmap_index_queries\u001b[49m\u001b[43m(\u001b[49m\n\u001b[1;32m   3092\u001b[0m \u001b[43m    \u001b[49m\u001b[38;5;28;43mself\u001b[39;49m\u001b[43m,\u001b[49m\u001b[43m \u001b[49m\u001b[43mindexers\u001b[49m\u001b[38;5;241;43m=\u001b[39;49m\u001b[43mindexers\u001b[49m\u001b[43m,\u001b[49m\u001b[43m \u001b[49m\u001b[43mmethod\u001b[49m\u001b[38;5;241;43m=\u001b[39;49m\u001b[43mmethod\u001b[49m\u001b[43m,\u001b[49m\u001b[43m \u001b[49m\u001b[43mtolerance\u001b[49m\u001b[38;5;241;43m=\u001b[39;49m\u001b[43mtolerance\u001b[49m\n\u001b[1;32m   3093\u001b[0m \u001b[43m\u001b[49m\u001b[43m)\u001b[49m\n\u001b[1;32m   3095\u001b[0m \u001b[38;5;28;01mif\u001b[39;00m drop:\n\u001b[1;32m   3096\u001b[0m     no_scalar_variables \u001b[38;5;241m=\u001b[39m {}\n",
      "File \u001b[0;32m~/.local/lib/python3.10/site-packages/xarray/core/indexing.py:190\u001b[0m, in \u001b[0;36mmap_index_queries\u001b[0;34m(obj, indexers, method, tolerance, **indexers_kwargs)\u001b[0m\n\u001b[1;32m    188\u001b[0m         results\u001b[38;5;241m.\u001b[39mappend(IndexSelResult(labels))\n\u001b[1;32m    189\u001b[0m     \u001b[38;5;28;01melse\u001b[39;00m:\n\u001b[0;32m--> 190\u001b[0m         results\u001b[38;5;241m.\u001b[39mappend(\u001b[43mindex\u001b[49m\u001b[38;5;241;43m.\u001b[39;49m\u001b[43msel\u001b[49m\u001b[43m(\u001b[49m\u001b[43mlabels\u001b[49m\u001b[43m,\u001b[49m\u001b[43m \u001b[49m\u001b[38;5;241;43m*\u001b[39;49m\u001b[38;5;241;43m*\u001b[39;49m\u001b[43moptions\u001b[49m\u001b[43m)\u001b[49m)\n\u001b[1;32m    192\u001b[0m merged \u001b[38;5;241m=\u001b[39m merge_sel_results(results)\n\u001b[1;32m    194\u001b[0m \u001b[38;5;66;03m# drop dimension coordinates found in dimension indexers\u001b[39;00m\n\u001b[1;32m    195\u001b[0m \u001b[38;5;66;03m# (also drop multi-index if any)\u001b[39;00m\n\u001b[1;32m    196\u001b[0m \u001b[38;5;66;03m# (.sel() already ensures alignment)\u001b[39;00m\n",
      "File \u001b[0;32m~/.local/lib/python3.10/site-packages/xarray/core/indexes.py:774\u001b[0m, in \u001b[0;36mPandasIndex.sel\u001b[0;34m(self, labels, method, tolerance)\u001b[0m\n\u001b[1;32m    772\u001b[0m                 indexer \u001b[38;5;241m=\u001b[39m \u001b[38;5;28mself\u001b[39m\u001b[38;5;241m.\u001b[39mindex\u001b[38;5;241m.\u001b[39mget_loc(label_value)\n\u001b[1;32m    773\u001b[0m             \u001b[38;5;28;01mexcept\u001b[39;00m \u001b[38;5;167;01mKeyError\u001b[39;00m \u001b[38;5;28;01mas\u001b[39;00m e:\n\u001b[0;32m--> 774\u001b[0m                 \u001b[38;5;28;01mraise\u001b[39;00m \u001b[38;5;167;01mKeyError\u001b[39;00m(\n\u001b[1;32m    775\u001b[0m                     \u001b[38;5;124mf\u001b[39m\u001b[38;5;124m\"\u001b[39m\u001b[38;5;124mnot all values found in index \u001b[39m\u001b[38;5;132;01m{\u001b[39;00mcoord_name\u001b[38;5;132;01m!r}\u001b[39;00m\u001b[38;5;124m. \u001b[39m\u001b[38;5;124m\"\u001b[39m\n\u001b[1;32m    776\u001b[0m                     \u001b[38;5;124m\"\u001b[39m\u001b[38;5;124mTry setting the `method` keyword argument (example: method=\u001b[39m\u001b[38;5;124m'\u001b[39m\u001b[38;5;124mnearest\u001b[39m\u001b[38;5;124m'\u001b[39m\u001b[38;5;124m).\u001b[39m\u001b[38;5;124m\"\u001b[39m\n\u001b[1;32m    777\u001b[0m                 ) \u001b[38;5;28;01mfrom\u001b[39;00m \u001b[38;5;21;01me\u001b[39;00m\n\u001b[1;32m    779\u001b[0m \u001b[38;5;28;01melif\u001b[39;00m label_array\u001b[38;5;241m.\u001b[39mdtype\u001b[38;5;241m.\u001b[39mkind \u001b[38;5;241m==\u001b[39m \u001b[38;5;124m\"\u001b[39m\u001b[38;5;124mb\u001b[39m\u001b[38;5;124m\"\u001b[39m:\n\u001b[1;32m    780\u001b[0m     indexer \u001b[38;5;241m=\u001b[39m label_array\n",
      "\u001b[0;31mKeyError\u001b[0m: \"not all values found in index 'time'. Try setting the `method` keyword argument (example: method='nearest').\""
     ]
    }
   ],
   "source": [
    "DAY = 20\n",
    "HOUR = 12\n",
    "\n",
    "fwinx_value = ds['fwinx'].sel(time=f'2022-06-{DAY}T{HOUR}:00:00', latitude=latitude, longitude=longitude)\n",
    "drtcode_value = ds['drtcode'].sel(time=f'2022-06-{DAY}T{HOUR}:00:00', latitude=latitude, longitude=longitude)\n",
    "dufmcode_value = ds['dufmcode'].sel(time=f'2022-06-{DAY}T{HOUR}:00:00', latitude=latitude, longitude=longitude)\n",
    "ffmcode_value = ds['ffmcode'].sel(time=f'2022-06-{DAY}T{HOUR}:00:00', latitude=latitude, longitude=longitude)\n",
    "\n",
    "\n",
    "#drtcode    (time, latitude, longitude) float32 79kB ... -> Drought Code: DC \n",
    "#    dufmcode   (time, latitude, longitude) float32 79kB ... -> Duff Moisture Code Code\n",
    "#    ffmcode    (time, latitude, longitude) float32 79kB ... -> Fine Fuel Moisture Code\n",
    "\n",
    "print(fwinx_value.values.item())\n",
    "print(\"Drought Code (DC): \", drtcode_value.values.item())\n",
    "print(\"Duff Moisture Code (DMC): \",dufmcode_value.values.item())\n",
    "print(\"Fine Fuel Moisture Code (FFMC): \", ffmcode_value.values.item())"
   ]
  }
 ],
 "metadata": {
  "kernelspec": {
   "display_name": "Python 3 (ipykernel)",
   "language": "python",
   "name": "python3"
  },
  "language_info": {
   "codemirror_mode": {
    "name": "ipython",
    "version": 3
   },
   "file_extension": ".py",
   "mimetype": "text/x-python",
   "name": "python",
   "nbconvert_exporter": "python",
   "pygments_lexer": "ipython3",
   "version": "3.10.12"
  }
 },
 "nbformat": 4,
 "nbformat_minor": 4
}
