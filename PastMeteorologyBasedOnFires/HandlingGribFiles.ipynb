{
 "cells": [
  {
   "cell_type": "code",
   "execution_count": 1,
   "metadata": {},
   "outputs": [],
   "source": [
    "#pip3 install cfgrib\n",
    "import xarray as xr"
   ]
  },
  {
   "cell_type": "code",
   "execution_count": 4,
   "metadata": {},
   "outputs": [
    {
     "name": "stdout",
     "output_type": "stream",
     "text": [
      "<xarray.Dataset> Size: 16MB\n",
      "Dimensions:    (number: 10, time: 61, values: 914)\n",
      "Coordinates:\n",
      "  * number     (number) int64 80B 0 1 2 3 4 5 6 7 8 9\n",
      "  * time       (time) datetime64[ns] 488B 2022-06-01T12:00:00 ... 2022-07-31T...\n",
      "    surface    float64 8B ...\n",
      "    latitude   (values) float64 7kB ...\n",
      "    longitude  (values) float64 7kB ...\n",
      "Dimensions without coordinates: values\n",
      "Data variables:\n",
      "    fbupinx    (number, time, values) float32 2MB ...\n",
      "    drtcode    (number, time, values) float32 2MB ...\n",
      "    dufmcode   (number, time, values) float32 2MB ...\n",
      "    ffmcode    (number, time, values) float32 2MB ...\n",
      "    fdsrte     (number, time, values) float32 2MB ...\n",
      "    fwinx      (number, time, values) float32 2MB ...\n",
      "    infsinx    (number, time, values) float32 2MB ...\n",
      "Attributes:\n",
      "    GRIB_edition:            2\n",
      "    GRIB_centre:             ecmf\n",
      "    GRIB_centreDescription:  European Centre for Medium-Range Weather Forecasts\n",
      "    GRIB_subCentre:          0\n",
      "    Conventions:             CF-1.7\n",
      "    institution:             European Centre for Medium-Range Weather Forecasts\n",
      "    history:                 2024-03-12T12:54 GRIB to CDM+CF via cfgrib-0.9.1...\n",
      "The GRIB file has 7 entries.\n"
     ]
    }
   ],
   "source": [
    "ds = xr.open_dataset(\"adaptor.mars.external-1710242728.988267-1885-1-8ab0789e-ae35-45a6-995c-9c9d0beef229.grib\", engine='cfgrib')\n",
    "\n",
    "# Print information about the dataset\n",
    "print(ds)\n",
    "\n",
    "# Get the number of entries\n",
    "num_entries = len(ds)\n",
    "\n",
    "print(f\"The GRIB file has {num_entries} entries.\")\n",
    "\n",
    "\n",
    "ds.close()\n"
   ]
  },
  {
   "cell_type": "code",
   "execution_count": 7,
   "metadata": {},
   "outputs": [
    {
     "name": "stdout",
     "output_type": "stream",
     "text": [
      "914\n"
     ]
    }
   ],
   "source": [
    "latitude = ds.latitude.values\n",
    "longitude = ds.longitude.values\n",
    "\n",
    "print(f\"Latitude: {latitude}\")\n",
    "print(len(latitude))\n",
    "print(f\"Longitude: {longitude}\")"
   ]
  }
 ],
 "metadata": {
  "kernelspec": {
   "display_name": "Python 3",
   "language": "python",
   "name": "python3"
  },
  "language_info": {
   "codemirror_mode": {
    "name": "ipython",
    "version": 3
   },
   "file_extension": ".py",
   "mimetype": "text/x-python",
   "name": "python",
   "nbconvert_exporter": "python",
   "pygments_lexer": "ipython3",
   "version": "3.10.12"
  }
 },
 "nbformat": 4,
 "nbformat_minor": 2
}
